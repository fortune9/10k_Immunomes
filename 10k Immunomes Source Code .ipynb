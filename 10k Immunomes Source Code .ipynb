{
 "cells": [
  {
   "cell_type": "markdown",
   "metadata": {},
   "source": [
    "<font size=8>10k Immunomes Source Code</font>"
   ]
  },
  {
   "cell_type": "markdown",
   "metadata": {},
   "source": [
    "This code used to create the [10k immunomes website](http://10kimmunomes.ucsf.edu/)."
   ]
  },
  {
   "cell_type": "markdown",
   "metadata": {},
   "source": [
    "# <font color=\"gray\">Set Up Notebook</font>"
   ]
  },
  {
   "cell_type": "markdown",
   "metadata": {},
   "source": [
    "## Import Packages"
   ]
  },
  {
   "cell_type": "markdown",
   "metadata": {
    "slideshow": {
     "slide_type": "slide"
    }
   },
   "source": [
    "<font color=\"red\">WARNING: the V8 package does not load correctly</font>"
   ]
  },
  {
   "cell_type": "code",
   "execution_count": null,
   "metadata": {},
   "outputs": [],
   "source": [
    "# #require necessary code\n",
    "require(shiny)\n",
    "require(shinythemes)\n",
    "require(digest) \n",
    "require(grid)\n",
    "require(gtable) \n",
    "require(MASS) \n",
    "require(plyr)\n",
    "require(reshape2) \n",
    "require(scales) \n",
    "require(stats) \n",
    "require(tibble) \n",
    "require(lazyeval)\n",
    "require(shinyjs) \n",
    "require(plotly)"
   ]
  },
  {
   "cell_type": "code",
   "execution_count": null,
   "metadata": {},
   "outputs": [],
   "source": [
    "#require(V8)\n",
    "#install.packages(\"V8\")"
   ]
  },
  {
   "cell_type": "markdown",
   "metadata": {},
   "source": [
    "Plotting Packages"
   ]
  },
  {
   "cell_type": "code",
   "execution_count": null,
   "metadata": {},
   "outputs": [],
   "source": [
    "library(ggplot2)\n",
    "library(plotly)\n",
    "library(ggthemes)"
   ]
  },
  {
   "cell_type": "markdown",
   "metadata": {},
   "source": [
    "## download data <small>(if necessary)</small>"
   ]
  },
  {
   "cell_type": "markdown",
   "metadata": {},
   "source": [
    "Download 10k data"
   ]
  },
  {
   "cell_type": "code",
   "execution_count": null,
   "metadata": {},
   "outputs": [],
   "source": [
    "if( !'newtenkdata.rdata' %in% list.files() ){\n",
    "    print(\"Downloading 10k Data\")\n",
    "    download.file(url=\"https://storage.googleapis.com/focis-tutoria-data/newtenkdata.rdata\", destfile=\"newtenkdata.rdata\", method=\"wget\")\n",
    "    print(\"Done\")\n",
    "}"
   ]
  },
  {
   "cell_type": "markdown",
   "metadata": {},
   "source": [
    "Download New Guinea RNA data"
   ]
  },
  {
   "cell_type": "code",
   "execution_count": null,
   "metadata": {},
   "outputs": [],
   "source": [
    "if( !'Guinea_RNA.csv' %in% list.files() ){\n",
    "    print(\"Downloading New Guinea RNA Data\")\n",
    "    download.file(url=\"https://storage.googleapis.com/bakar-data/10k/Guinea_RNA.csv\", destfile=\"Guinea_RNA.csv\", method=\"wget\")\n",
    "    print(\"Done\")\n",
    "}"
   ]
  },
  {
   "cell_type": "markdown",
   "metadata": {},
   "source": [
    "Downlaod New Guinea Metabolomics data"
   ]
  },
  {
   "cell_type": "code",
   "execution_count": null,
   "metadata": {},
   "outputs": [],
   "source": [
    "if( !'png_metabolomics.725331.csv' %in% list.files() ){\n",
    "    print(\"Downloading New Guinea MassSpec Data\")\n",
    "    download.file(url=\"https://storage.googleapis.com/bakar-data/10k/png_metabolomics.725331.csv\", destfile=\"png_metabolomics.725331.csv\", method=\"wget\")\n",
    "    print(\"Done\")\n",
    "}"
   ]
  },
  {
   "cell_type": "markdown",
   "metadata": {},
   "source": [
    "## Load in Datasets and Resources"
   ]
  },
  {
   "cell_type": "markdown",
   "metadata": {},
   "source": [
    " Add the `www` folder to R Shiny's file path. Se that we can display images in the website."
   ]
  },
  {
   "cell_type": "code",
   "execution_count": null,
   "metadata": {},
   "outputs": [],
   "source": [
    "addResourcePath(\"www\", paste(getwd() , \"/www\", sep=\"\") )"
   ]
  },
  {
   "cell_type": "markdown",
   "metadata": {},
   "source": [
    "Load in Guinea Data \n",
    "\n",
    "<font color=\"red\">Accidently called a Guinea dataset Gambia, fix this later</font>"
   ]
  },
  {
   "cell_type": "code",
   "execution_count": null,
   "metadata": {},
   "outputs": [],
   "source": [
    "gambia_rna = read.table( \"Guinea_RNA.csv\",  stringsAsFactors=FALSE, header=TRUE, sep=\",\" )\n",
    "guinea_mass_spec = read.csv( \"png_metabolomics.725331.csv\",  stringsAsFactors=FALSE, header=TRUE, sep=\",\" )"
   ]
  },
  {
   "cell_type": "markdown",
   "metadata": {},
   "source": [
    "Format `guinea_mass_spec` dataset so looks nicer when plotting"
   ]
  },
  {
   "cell_type": "code",
   "execution_count": null,
   "metadata": {},
   "outputs": [],
   "source": [
    "guinea_mass_spec[guinea_mass_spec==\"M\"] = \"Male\"\n",
    "guinea_mass_spec[guinea_mass_spec==\"F\"] = \"Female\"\n",
    "guinea_mass_spec[guinea_mass_spec==\"DelayedGroup\"] = \"Delayed Group\"\n",
    "guinea_mass_spec[guinea_mass_spec==\"VaccinatedGroup\"] = \"Vaccinated Group\""
   ]
  },
  {
   "cell_type": "markdown",
   "metadata": {},
   "source": [
    "load in a and format `guinea_cibersort` data"
   ]
  },
  {
   "cell_type": "code",
   "execution_count": null,
   "metadata": {},
   "outputs": [],
   "source": [
    "guinea_cibersort = read.csv( \"guinea_cibersort.csv\",  stringsAsFactors=FALSE, header=TRUE, sep=\",\" )\n",
    "guinea_cibersort$DAY =  as.numeric( substr( guinea_cibersort$Input.Sample, 6,6 ) )\n",
    "guinea_cibersort$SUBJECT = substr( guinea_cibersort$Input.Sample, 1,3 ) "
   ]
  },
  {
   "cell_type": "markdown",
   "metadata": {},
   "source": [
    "Load in old 10k data"
   ]
  },
  {
   "cell_type": "code",
   "execution_count": null,
   "metadata": {},
   "outputs": [],
   "source": [
    "if( !exists(\"elisaAnalytes\") ){ temp=load('newtenkdata.rdata') }\n"
   ]
  },
  {
   "cell_type": "code",
   "execution_count": null,
   "metadata": {},
   "outputs": [],
   "source": []
  },
  {
   "cell_type": "markdown",
   "metadata": {},
   "source": [
    "#  <font color=\"blue\">Initialize Shiny</font> "
   ]
  },
  {
   "cell_type": "markdown",
   "metadata": {},
   "source": [
    "This line creates the **<font color=\"green\">user interface</font>**, the \"front end\" part of the website that everyone sees."
   ]
  },
  {
   "cell_type": "code",
   "execution_count": null,
   "metadata": {},
   "outputs": [],
   "source": [
    "ui = div() #fluidPage( useShinyjs(), style='padding:5px;'  ) # style='padding:5px;', "
   ]
  },
  {
   "cell_type": "markdown",
   "metadata": {},
   "source": [
    "We create the **<font color=\"purple\">server</font>** object then we add code to it one at a time in the followign sections."
   ]
  },
  {
   "cell_type": "code",
   "execution_count": null,
   "metadata": {},
   "outputs": [],
   "source": [
    "server <- function(input, output, session) { }"
   ]
  },
  {
   "cell_type": "markdown",
   "metadata": {},
   "source": [
    "These lines add [google analytics](https://analytics.google.com/analytics/web/) features to the website. This makes it so that you can track the users button clicks. "
   ]
  },
  {
   "cell_type": "markdown",
   "metadata": {},
   "source": [
    "<font color=\"orange\">NOTE:  I think only 1 of these files is necessary, the other should probably be removed.</font>"
   ]
  },
  {
   "cell_type": "code",
   "execution_count": null,
   "metadata": {},
   "outputs": [],
   "source": [
    "ui = tagAppendChild(ui, tags$head(includeScript(\"analytics.ucsf.js\")) )  \n",
    "ui = tagAppendChild(ui, tags$head(includeScript(\"analytics.org.js\"))  )"
   ]
  },
  {
   "cell_type": "markdown",
   "metadata": {},
   "source": [
    "We add the hidden element `page` which controls which page the user is on."
   ]
  },
  {
   "cell_type": "code",
   "execution_count": null,
   "metadata": {},
   "outputs": [],
   "source": [
    "ui = tagAppendChild(ui,  hidden( selectInput('page', choices = c('home','cytometry','gene', 'lab','rna','antibody','massSpec'), selected = 'home', label=NULL )) )\n"
   ]
  },
  {
   "cell_type": "markdown",
   "metadata": {},
   "source": [
    "## <font color=\"gray\">Helper Function: callConcat</font>"
   ]
  },
  {
   "cell_type": "markdown",
   "metadata": {},
   "source": [
    "<font color=\"blue\">callConcat</font> is a function that combines difference are expressions. [Link to solution](https://codeday.me/en/qa/20190306/8275.html)"
   ]
  },
  {
   "cell_type": "code",
   "execution_count": null,
   "metadata": {},
   "outputs": [],
   "source": [
    "callConcat = function(...) {\n",
    "    ll <- list(...)\n",
    "    ll <- lapply(ll, function(X) as.list(X)[-1])\n",
    "    ll <- do.call(\"c\", ll)\n",
    "    as.call(c(as.symbol(\"{\"), ll))\n",
    "}"
   ]
  },
  {
   "cell_type": "markdown",
   "metadata": {},
   "source": [
    "#  <font color=\"orange\">Titles</font>"
   ]
  },
  {
   "cell_type": "markdown",
   "metadata": {},
   "source": [
    "This is the information that describes the page at the top of top of the screen. It it all the code that is above the buttons htat switch between the pages."
   ]
  },
  {
   "cell_type": "markdown",
   "metadata": {},
   "source": [
    "## <font color=\"orange\">Main Page"
   ]
  },
  {
   "cell_type": "code",
   "execution_count": null,
   "metadata": {
    "scrolled": false
   },
   "outputs": [],
   "source": [
    "tempHtml = conditionalPanel(title = \"homeAbout\", condition = \"input.page == 'home'\",\n",
    "        div( class=\"row\", style=\"background-color: rgb(217,234,248,.5)\", div( class=\"col-xs-12 col col-md-10 col-md-offset-1\",                                \n",
    "            img(src='www/Banner_OLDER.jpeg', class=\"img-responsive\")\n",
    "        )),\n",
    "        div( class=\"row\", div( class=\"jumbotron img-responsive\",  style=\"padding: .9em; background-color: rgb(250,250,250)\",    #rgb(225, 243, 252)\n",
    "            #p(\" In scientific experiments it’s important to compare experimental results against a control dataset. However, sometimes it’s not possible for a lab to easily obtain data from healthy control subjects. This is especially true in immunology, the study of the immune system, where scientists may run multiple costly tests. We built 10k immunomes so that anyone can get high quality data from healthy subjects using any of the latest scientific methods. In minutes, you will have a graph ready for your paper!\"),\n",
    "            p(\"In science it’s important to compare experimental results against a control dataset. However, sometimes it’s not possible obtain data from healthy control subjects. This is especially true when studying the immune system, where scientists run multiple costly tests. 10k immunomes allows anyone to obtain high quality data and create graphics using the latest scientific methods.\"),\n",
    "            p(tags$small( strong('What is 10k Immunomes?'),\n",
    "               'The 10,000 Immunomes Project is a reference dataset for human immunology, \\r derived from over 10,000 control subjects in the', \n",
    "                a(href=\"http://www.immport.org\", \"NIAID ImmPort Database\",inline = T, target = \"_blank\"), \n",
    "                '. Available data include flow cytometry, CyTOF, multiplex ELISA, gene expression, RNA-Seq, Mass Spectrometry, HAI titers,\\r clinical lab tests, HLA type, and others. Click one of the buttons below to view visualizations of all the datasets from that type of study. More information about the website can be found in our', \n",
    "                a(href = 'https://www.cell.com/cell-reports/fulltext/S2211-1247(18)31451-7', 'Cell Reports Publication',inline = T, target = \"_blank\"),'.', \n",
    "                a(href = 'mailto:BISC_Helpdesk@niaid.nih.gov', 'Contact us', inline = T, target = \"_blank\"), \n",
    "                'with queries and bug reports. All code is openly available on',\n",
    "                 a(href = 'https://github.com/pupster90/10k_Immunomes', 'Github', inline = T, target = \"_blank\"), \"and\",\n",
    "                 a(href = 'https://hub.docker.com/r/pupster90/io', 'Docker', inline = T, target = \"_blank\") ) #'~Last updated 7/25/2019.'\n",
    "          )\n",
    "       ))\n",
    " )\n",
    "\n",
    "ui = tagAppendChild(ui, tempHtml )\n",
    "tempHtml\n"
   ]
  },
  {
   "cell_type": "markdown",
   "metadata": {},
   "source": [
    "## <font color=\"orange\">Graph Page"
   ]
  },
  {
   "cell_type": "markdown",
   "metadata": {},
   "source": [
    "I put all of the pages with graphs inside of one R shiny template. Which then changes depending on what button the user clicks."
   ]
  },
  {
   "cell_type": "markdown",
   "metadata": {},
   "source": [
    "First we make the title page template"
   ]
  },
  {
   "cell_type": "code",
   "execution_count": null,
   "metadata": {},
   "outputs": [],
   "source": [
    "tempHtml= conditionalPanel(title = \"graph_page_title\", condition = \"input.page != 'home'\",                      \n",
    "  div( class=\"row\",  div( class=\"jumbotron\", style=\"padding: .9em; background-size: cover \",\n",
    "       div( style=\"display: flex;justify-content: center; position: relative; \",\n",
    "           h1(\"Graph title text\" , style=\"text-align: center;\", id = \"graph_page_header\"),\n",
    "           actionButton(\"homeBtn\", icon = icon(\"home\"), label=\"\", class=\"btn btn-link\", style=\"  outline: none; padding: 15px; border: 0px; background-color: transparent; font-size: 260%;    \") \n",
    "       ), \n",
    "       p( tags$small( id=\"graph_page_text\" , \"Graph title text\" , style=\"text-align:center;\"))\n",
    "       #h1( \"Graph title text\" , style=\"text-align:center; \", id = \"graph_page_header\"),\n",
    "       #p(tags$small( id=\"graph_page_text\" , \"This is placeholder text\"))\n",
    "  ))\n",
    ")\n",
    "\n",
    "ui = tagAppendChild( ui , tempHtml )\n",
    "#tempHtml\n"
   ]
  },
  {
   "cell_type": "markdown",
   "metadata": {},
   "source": [
    "Then we add the code that changes the title page based on which button was clicked."
   ]
  },
  {
   "cell_type": "code",
   "execution_count": null,
   "metadata": {},
   "outputs": [],
   "source": [
    "\n",
    "temp = quote({\n",
    "  observeEvent( input$page , {\n",
    "      \n",
    "      if( input$page == 'gene' ){\n",
    "          html(id=\"graph_page_header\", html= \"Transcriptomics\" ) \n",
    "          html(id=\"graph_page_text\", html= \"Transcriptomics studies gene expression through the analysis of RNA molecules. This section contains data collected from RNAseq and Microarrays. Until recently Microarrays were the primary method for analyzing gene expression. RNAseq is a newer technique that provides a wider dynamic range and higher sensitivity, albeit at a higher cost. We also provide insilico cell phenotyping data obtained from implementing Cibersort on RNAseq data.\" ) \n",
    "      }\n",
    "      if( input$page == 'cytometry' ){\n",
    "          html(id=\"graph_page_header\", html= \"Cytometry\" ) \n",
    "          html(id=\"graph_page_text\", html= \"Proteomics is the study of proteins. Proteins are molecular machines that execute the functions of a cell. This section contains flow CyTOF, flow cytometry, and mass spectrometry data. The CyTOF and flow cytometry data provides information on relative abundance of cell phenotypes.  The mass spectrometry data provides scientists with an in depth look at an individual’s metabolome at the time of the sample.\" )\n",
    "          \n",
    "      }\n",
    "      if( input$page == 'massSpec' ){\n",
    "          html(id=\"graph_page_header\", html= \"Proteomics\" ) \n",
    "          html(id=\"graph_page_text\", html= \"Proteomics is the study of proteins. Proteins are molecular machines that execute the functions of a cell. This section contains CyTOF, flow cytometry, and mass spectrometry data. Flow cytometry is a popular laser-based technology to identify cells. The CyTOF and flow cytometry data contain information on relative abundance of cell phenotypes. Mass spectrometry identifies molecules  through their mass-to-charge ratio, which is measured by analyzing the ‘time-of-flight’ of charged particles. Mass spectrometry data provides scientists with an in depth look at an individual’s metabolome at the time of the sample.\" ) \n",
    "          \n",
    "      }\n",
    "      if( input$page == 'lab' ){\n",
    "          html(id=\"graph_page_header\", html= \"Lab Tests\" ) \n",
    "          html(id=\"graph_page_text\", html= \"Lab tests give important information about the current status of a person's metabolism including the health of essential organs, electrolyte and acid/base balance as well as levels of blood glucose and blood proteins. We provide a diverse set of lab tests on blood count, a metabolic panel, and a lipid profile. Blood Count specifies the various amounts of different cell types in the blood. Lipid profiles measure the amount of different types of lipids like cholesterol or triglycerides. Metabolic panels measure the amount to glucose and the electrolyte balance in blood.\")\n",
    "          \n",
    "      }\n",
    "      if( input$page == 'rna' ){\n",
    "          html(id=\"graph_page_header\", html= \"RNA-Seq\" ) \n",
    "          html(id=\"graph_page_text\", html= \"Flow cytometry is a popular laser-based technology to analyze cells or particles. It detects and measures physical and chemical characteristics of a population of cells.  In this immunophenotyping technique suspensions of living cells are stained with specific, fluorescently labeled antibodies and then analyzed with a flow cytometer. In the flow cytometer a laser beam is focused on the cell and the light scattered from it is analyzed.\" ) \n",
    "          \n",
    "      }\n",
    "      if( input$page == 'antibody' ){\n",
    "          html(id=\"graph_page_header\", html= \"Immunoassays\" ) \n",
    "          html(id=\"graph_page_text\", html= \"Immunoassays are a useful tool for obtaining precise measurements on the concentration of molecules, bacteria, and viruses inside of a sample.  This technique relies on the strong bonding affinity between an antibody and it’s corresponding antigen. Specific antibodies are chosen to ‘grab’ the particle of interest. Immunoassays can also be used to measure the relative effectiveness of an antibody on a specific virus of interest. We provide immunoassays from ELISA, Multiplex ELISA, HAI Titer, and Virus Neutralization studies.\" ) \n",
    "          \n",
    "      }\n",
    "  })\n",
    "})\n",
    "body(server) = callConcat( body(server), temp )"
   ]
  },
  {
   "cell_type": "code",
   "execution_count": null,
   "metadata": {},
   "outputs": [],
   "source": []
  },
  {
   "cell_type": "markdown",
   "metadata": {},
   "source": [
    "# <font color=\"SkyBlue\">Buttons</font>"
   ]
  },
  {
   "cell_type": "markdown",
   "metadata": {},
   "source": [
    "Add <font color=\"SkyBlue\">Buttons</font> to <font color=\"green\">user interface</font>"
   ]
  },
  {
   "cell_type": "code",
   "execution_count": null,
   "metadata": {},
   "outputs": [],
   "source": [
    "tempHtml= div(\n",
    "    #column(2, actionButton(\"homeBtn\", icon = icon(\"home\"), label=\"Home\", class=\"btn btn-default btn-lg text-center\", style=\"width: 100%\"), style=\"padding: 2px; \"),\n",
    "    #column(2, actionButton(\"geneBtn\", icon = icon(\"dna\"), label=\"Sequencing\", class=\"btn btn-success btn-lg text-center\", style=\"width: 100%\"), style=\"padding: 2px; \"),\n",
    "    column(3, actionButton(\"geneBtn\", icon = icon(\"dna\"), label=\"Transcriptomics\", class=\"btn btn-success btn-lg text-center\", style=\"width: 100%\"), style=\"padding: 2px; \"),\n",
    "    column(3, actionButton(\"massSpecBtn\", icon = icon(\"cogs\"), label=\"Proteomics\", class=\"btn-primary btn-lg text-center\",style=\"width: 100%\"), style=\"padding: 2px;\"),\n",
    "    column(3, actionButton(\"antibodyBtn\", icon = icon(\"yahoo\"), label=\"Immunoassays\", class=\"btn btn-warning btn-lg text-center\", style=\"width: 100%\"), style=\"padding: 2px;\"),\n",
    "    #column(2, actionButton(\"antibodyBtn\", icon = icon(\"yahoo\"), label=\"Immunoassays\", class=\"btn btn-warning btn-lg text-center\", style=\"width: 100%\"), style=\"padding: 2px; \"),\n",
    "    column(3, actionButton(\"labBtn\", icon = icon(\"vial\"), label=\"Lab Tests\", class=\"btn btn-danger btn-lg text-center\", style=\"width: 100%\"),  style=\"padding: 2px; \"),\n",
    "    p(\".\", style=\"color:white;\"),\n",
    "    HTML(\"<hr>\")\n",
    ")\n",
    "\n",
    "ui = tagAppendChild(ui, tempHtml )\n",
    "#tempHtml\n"
   ]
  },
  {
   "cell_type": "code",
   "execution_count": null,
   "metadata": {},
   "outputs": [],
   "source": [
    "#tempHtml= div(\n",
    "#    column(2, actionButton(\"homeBtn\", icon = icon(\"home\"), label=\"Home\", class=\"btn btn-default btn-lg text-center\", style=\"width: 100%\"), style=\"padding: 2px; \"),\n",
    "    #column(2, actionButton(\"geneBtn\", icon = icon(\"dna\"), label=\"Sequencing\", class=\"btn btn-success btn-lg text-center\", style=\"width: 100%\"), style=\"padding: 2px; \"),\n",
    "#    column(2, actionButton(\"geneBtn\", icon = icon(\"dna\"), label=\"Genomics\", class=\"btn btn-success btn-lg text-center\", style=\"width: 100%\"), style=\"padding: 2px; \"),\n",
    "#    column(2, actionButton(\"cytometryBtn\", icon = icon(\"tint\"), label=\"Transciptomics\", class=\"btn-info btn-lg text-center\",style=\"width: 100%\"), style=\"padding: 2px;\"),\n",
    "#    column(2, actionButton(\"massSpecBtn\", icon = icon(\"atom\"), label=\"Proteomics\", class=\"btn btn-primary btn-lg text-center\", style=\"width: 100%\"), style=\"padding: 2px;\"),\n",
    "#    column(2, actionButton(\"antibodyBtn\", icon = icon(\"yahoo\"), label=\"Immunoassays\", class=\"btn btn-warning btn-lg text-center\", style=\"width: 100%\"), style=\"padding: 2px; \"),\n",
    "#    column(2, actionButton(\"labBtn\", icon = icon(\"vial\"), label=\"Lab Tests\", class=\"btn btn-danger btn-lg text-center\", style=\"width: 100%\"),  style=\"padding: 2px; \"),\n",
    "#    p(\".\", style=\"color:white;\"),\n",
    "#    HTML(\"<hr>\")\n",
    "#)\n",
    "\n",
    "#ui = tagAppendChild(ui, tempHtml )\n",
    "#tempHtml\n"
   ]
  },
  {
   "cell_type": "markdown",
   "metadata": {},
   "source": [
    "Add functions for <font color=\"skyblue\">button clicks</font> to the <font color=\"purple\">server</font>"
   ]
  },
  {
   "cell_type": "code",
   "execution_count": null,
   "metadata": {
    "code_folding": []
   },
   "outputs": [],
   "source": [
    "temp = quote({\n",
    "  observeEvent(input$homeBtn, {\n",
    "    updateSelectInput(session, \"page\", selected = 'home')\n",
    "  })\n",
    "  observeEvent(input$geneBtn, {\n",
    "    updateSelectInput(session, \"page\", selected = 'gene')\n",
    "    updateSelectInput(session, \"dataType\", selected = 'Microarray: PBMC', choices = c('Microarray: PBMC','Microarray: Whole Blood','RNAseq: T cells','RNAseq: Newborns', 'Cibersort: Newborns'))\n",
    "    #updateSelectInput(session, \"dataType\", selected = 'Gene Expression: PBMC', choices = c('Gene Expression: PBMC','Gene Expression: Whole Blood'))   \n",
    "  })\n",
    "  observeEvent(input$cytometryBtn, {\n",
    "    updateSelectInput(session, \"page\", selected = 'cytometry')\n",
    "    #updateSelectInput(session, \"dataType\", selected = 'CyTOF: PBMC', choices = c('CyTOF: PBMC','Flow Cytometry: Whole Blood', 'Flow Cytometry: PBMC'))  \n",
    "    updateSelectInput(session, \"dataType\", selected = 'CyTOF: PBMC', choices = c('RNAseq: T cells','RNAseq: Newborns'))\n",
    "  })\n",
    "  observeEvent(input$massSpecBtn, {\n",
    "    updateSelectInput(session, \"page\", selected = 'massSpec')\n",
    "    #updateSelectInput(session, \"dataType\", selected = 'Mass-Spec: Newborns', choices = c('CyTOF: PBMC','Flow Cytometry: Whole Blood', 'Flow Cytometry: PBMC','Mass-Spec: Newborns'))\n",
    "    updateSelectInput(session, \"dataType\", selected = 'CyTOF: PBMC', choices = c('CyTOF: PBMC','Flow Cytometry: Whole Blood', 'Flow Cytometry: PBMC','Mass Spectrometry: Newborns'))  \n",
    "  })\n",
    "  observeEvent(input$labBtn, {\n",
    "    updateSelectInput(session, \"page\", selected = 'lab')\n",
    "    updateSelectInput(session, \"dataType\", selected = 'Blood Count', choices = c('Blood Count','Metabolic Panel','Lipid Profile'))\n",
    "  })\n",
    "  observeEvent(input$antibodyBtn, {\n",
    "    updateSelectInput(session, \"page\", selected = 'antibody')\n",
    "    updateSelectInput(session, \"dataType\", selected = 'HAI Titer', choices = c('HAI Titer','ELISA', 'Multiplex ELISA', 'Virus Neutralization Titer'))\n",
    "  })   \n",
    "})\n",
    "body(server) = callConcat( body(server), temp )\n"
   ]
  },
  {
   "cell_type": "markdown",
   "metadata": {},
   "source": [
    "# <font color=\"peru\">Body</font>"
   ]
  },
  {
   "cell_type": "markdown",
   "metadata": {},
   "source": [
    "##  <font color=\"peru\">Body Home</font>"
   ]
  },
  {
   "cell_type": "markdown",
   "metadata": {},
   "source": [
    "This is the information that is displayed underneath the buttons on the home page."
   ]
  },
  {
   "cell_type": "code",
   "execution_count": null,
   "metadata": {},
   "outputs": [],
   "source": [
    "tempHtml= conditionalPanel(title = \"homeMain\", condition = \"input.page == 'home'\",\n",
    "   div(class=\"jumbotron\", style=\"background-color: white; padding: .9em\",\n",
    "\n",
    "        #column(12, column(7,tags$u( h2(\"Made with ImmPort\", class=\"text-center\")  ))),\n",
    "        column( 7, a(href=\"http://www.immport.org\", img(src='www/Figure_1.png', class=\"img-responsive\"), inline = T, target = \"_blank\")  ),\n",
    "        column( 5, \n",
    "                p(tags$small(\"Data from 242 studies and 44,775 subjects was collected from the NIAID Immunology Data and Analysis Portal,\",a(href=\"http://www.immport.org\", \"ImmPort\", inline = T, target = \"_blank\"),\". It includes flow cytometry, CyTOF, mRNA expression, secreted protein levels, clinical lab tests, HAI titers, HLA type, and others. We hand curated the entire contents of ImmPort to filter for normal healthy human control subjects. Each of the data types were systematically processed and harmonized. This data constitutes the largest compendium to date of cellular and molecular immune measurements on healthy normal human subjects.\"))\n",
    "              ),\n",
    "       p(\".\", style=\"color:white; padding:0; margin:0; font-size:50%;\"), # makes a vertical space,\n",
    "       HTML(\"<hr>\"),\n",
    "       \n",
    "       column( 5,\n",
    "              tags$u( h2(\"10,000 Subjects\")  ),\n",
    "              p(tags$small(\"Below is a table displaying the number of subjects in each dataset. Counts of distinct subjects for whom raw data of each type is represented in the initial release of the 10KIP. Because many subjects contributed multiple measurement types, the totals across all measurement types substantially exceed the number of distinct subjects.\"))\n",
    "            ),\n",
    "       column( 5,\n",
    "              a(href=\"http://www.immport.org\", img(src='www/Table_1.jpg', class=\"img-responsive\"), inline = T, target = \"_blank\")\n",
    "            ),\n",
    "      # Youtube Video\n",
    "       div( class=\"col-xs-12 col-sm-7 col-md-6\", style=\"padding-top: 5px;\", \n",
    "         div( class=\"embed-responsive embed-responsive-16by9\",\n",
    "              HTML('<iframe width=\"200\" height=\"100\" src=\"https://www.youtube.com/embed/iCGEv6MGUVg\" class=\"embed-responsive-item\"></iframe>')\n",
    "             )\n",
    "          ),\n",
    "        # Links for external sites\n",
    "        div( class=\"col-xs-12 col-sm-12 col-md-6 text-center\",\n",
    "                p(\".\", style=\"color:white\"), # makes a vertical space\n",
    "                h3(\"Learn More\"), \n",
    "                p(tags$small(\n",
    "                  a(href = 'http://www.immport.org/immport-open/public/home/home', 'ImmPort Homepage'), br(),\n",
    "                  a(href = 'https://www.cell.com/cell-reports/fulltext/S2211-1247(18)31451-7', '10,000 Immunomes Paper', target = \"_blank\"), br(),\n",
    "                  a(href = 'https://www.cell.com/cell-reports/fulltext/S2211-1247(18)31080-5', 'MetaCyto Cytometry Analysis Paper', target = \"_blank\"), br(),\n",
    "                  a(href = 'https://bioconductor.org/packages/release/bioc/html/MetaCyto.html', 'MetaCyto Cytometry Analysis Code', target = \"_blank\"), br(),\n",
    "                  a(href = 'https://www.bu.edu/jlab/wp-assets/ComBat/Abstract.html', 'ComBat Batch Correction Algorithm', target = \"_blank\"), br(),\n",
    "                  a(href = 'mailto:BISC_Helpdesk@niaid.nih.gov','Contact Us', target = \"_blank\")\n",
    "              ))\n",
    "        )\n",
    " \n",
    "\n",
    "\n",
    "\n",
    "    ),\n",
    "    div(                        \n",
    "      column(12,\n",
    "        tags$hr(),tags$hr(),     \n",
    "        h3('Cite 10k Immunomes'),\n",
    "        p(\"Zalocusky KA, Kan MJ, Hu Z, Dunn P, Thomson E, Wiser J, Bhattacharya S, Butte AJ. The 10,000 Immunomes Project: Building a Resource for Human Immunology. Cell reports. 2019 Oct 9;25(2):513-22. PMID:30304689\"  )\n",
    "        ),\n",
    "      column(12,\n",
    "        h3('REFERENCES'),\n",
    "        p('1) Hu Z, Jujjavarapu C, Hughey JJ, Andorf S, Lee H, Gherardini PF, Spitzer MH, et al. Meta-analysis of Cytometry Data Reveals Racial Differences in Immune Cells. Cell Reports. 2018 Jul 31;24(5):1377-88. ' ),\n",
    "        p('2) Finak G, Langweiler M, Jaimes M, Malek M, Taghiyar J, Korin Y, et al. Standardizing Flow Cytometry Immunophenotyping Analysis from the Human ImmunoPhenotyping Consortium. Scientific Reports. 2016 Aug 10;6(1):20686.' ),\n",
    "        p('3) Johnson WE, Li C, Rabinovic A. Adjusting batch effects in microarray expression data using empirical Bayes methods. Biostat. 2007 Jan 1;8(1):118–27. ' ),\n",
    "        p('4) Irizarry RA, Hobbs B, Collin F, Beazer‐Barclay YD, Antonellis KJ, Scherf U, et al. Exploration, normalization, and summaries of high density oligonucleotide array probe level data. Biostatistics. 2003 Apr 1;4(2):249–64. ' ),\n",
    "        p('5) Zalocusky KA, Kan MJ, Hu Z, Dunn P, Thomson E, Wiser J, Bhattacharya S, Butte AJ. The 10,000 Immunomes Project: Building a Resource for Human Immunology. Cell reports. 2018 Oct 9;25(2):513-22. PMID:30304689' ),\n",
    "        p('6) Lee AH, Shannon CP, Amenyogbe N, Bennike TB, Diray-Arce J, Idoko OT, et al. Dynamic molecular changes during the first week of human life follow a robust developmental trajectory. Nature Communications. 2018 March 12;10:1092.' )\n",
    "        ),\n",
    "      p(\".\", style=\"color:white\") # makes a vertical space\n",
    "   ) #<- end jumbotron\n",
    ") #<-- end conidtional panel\n",
    "ui = tagAppendChild(ui, tempHtml )\n",
    "#tempHtml\n"
   ]
  },
  {
   "cell_type": "markdown",
   "metadata": {},
   "source": [
    "## <font color=\"peru\">Body Graph</font>"
   ]
  },
  {
   "cell_type": "markdown",
   "metadata": {},
   "source": [
    "The code below crete the <font color=\"peru\">Page Body</font>. The is broken up into to basic sections, the **sidebar** and the **main panel**.\n",
    "* **sidebar:** This is where all the widgets are that control what is graphed\n",
    "* **main panel:** This small piece of code displays the graph"
   ]
  },
  {
   "cell_type": "markdown",
   "metadata": {},
   "source": [
    "### <font color=\"peru\">Sidebar"
   ]
  },
  {
   "cell_type": "code",
   "execution_count": null,
   "metadata": {},
   "outputs": [],
   "source": [
    "sidebar = sidebarPanel(  #div( class=\"col-sm-4\", \n",
    "        \n",
    "        #Select which data type to visualize\n",
    "        h4('Select Data Type:'),\n",
    "        selectInput('dataType', label = NULL,\n",
    "                    choices = c('CyTOF: PBMC','ELISA',\n",
    "                                'Flow Cytometry: Whole Blood', 'Flow Cytometry: PBMC',\n",
    "                                'Microarray: PBMC','Microarray: Whole Blood',\n",
    "                                'HAI Titer', \n",
    "                                'Blood Count','Metabolic Panel',\n",
    "                                'Lipid Profile','Multiplex ELISA', 'Virus Neutralization Titer',\n",
    "                                'RNAseq: T cells', 'RNAseq: Newborns', 'Mass Spectrometry: Newborns', 'Cibersort: Newborns'),\n",
    "                    selected = 'CyTOF: PBMC'\n",
    "        ),\n",
    "        \n",
    "        ##Conditional panels for analyte selection\n",
    "        #Which drop-down menu appears will depend on the data type the user selects.\n",
    "        \n",
    "        # Analyte Selection Box\n",
    "    \n",
    "        conditionalPanel(condition = \"input.dataType == 'Mass Spectrometry: Newborns' \", \n",
    "                         h4('Enter Analyte'),\n",
    "                         textInput('mass_spec_analyte', label = NULL,\n",
    "                                   value = 'cholesterol')\n",
    "        ),     \n",
    "        conditionalPanel(condition = \"input.dataType == 'Cibersort: Newborns'\",\n",
    "                         h4('Select Analyte:'),\n",
    "                         selectInput('cibersort_analyte', label = NULL,\n",
    "                                     choices = colnames( guinea_cibersort )[2:23],\n",
    "                                     selected = 'Neutrophils')\n",
    "        ),\n",
    "        conditionalPanel(condition = \"input.dataType == 'CyTOF: PBMC'\",\n",
    "                         h4('Select Analyte:'),\n",
    "                         selectInput('cytof_pbmc_analyte', label = NULL,\n",
    "                                     choices = cytof_pbmc_analytes,\n",
    "                                     selected = 'T_cells')\n",
    "        ),\n",
    "        conditionalPanel(condition = \"input.dataType == 'ELISA'\",\n",
    "                         h4('Select Analyte:'),\n",
    "                         selectInput('elisa_analyte', label = NULL,\n",
    "                                     choices = elisaAnalytes,\n",
    "                                     selected = 'CXCL10')\n",
    "        ),\n",
    "        conditionalPanel(condition = \"input.dataType == 'Flow Cytometry: PBMC'\",\n",
    "                         h4('Select Analyte:'),\n",
    "                         selectInput('flow_pbmc_analyte', label = NULL,\n",
    "                                     choices =  flow_pbmc_analytes,\n",
    "                                     selected = 'T_cells')\n",
    "        ), \n",
    "    \n",
    "        # Normalization Box\n",
    "        conditionalPanel(condition = \"input.dataType == 'CyTOF: PBMC'\",\n",
    "                         checkboxInput('cytof_pbmc_processing', label = 'Normalized',\n",
    "                                       value = T)\n",
    "        ),\n",
    "        conditionalPanel(condition = \"input.dataType == 'ELISA'\",\n",
    "                         checkboxInput('elisa_processing', label = 'Normalized',\n",
    "                                       value = T)\n",
    "        ),\n",
    "        conditionalPanel(condition = \"input.dataType == 'Flow Cytometry: PBMC'\",\n",
    "                         checkboxInput('flow_pbmc_processing', label = 'Normalized',\n",
    "                                       value = T)\n",
    "        ),\n",
    "        conditionalPanel(condition = \"input.dataType == 'Flow Cytometry: Whole Blood'\",\n",
    "                         h4('Select Analyte:'),\n",
    "                         selectInput('flow_blood_analyte', label = NULL,\n",
    "                                     choices = flow_blood_analytes,\n",
    "                                     selected = 'T_cells')\n",
    "        ),\n",
    "        conditionalPanel(condition = \"input.dataType == 'Microarray: PBMC'\",\n",
    "                         h4('Enter HUGO Gene Symbol:'),\n",
    "                         textInput('gene_pbmc_analyte', label = NULL,\n",
    "                                   value = 'CD9')\n",
    "        ),\n",
    "        conditionalPanel(condition = \"input.dataType == 'Microarray: PBMC'\",\n",
    "                         checkboxInput('gene_pbmc_processing', label = 'Normalized',\n",
    "                                       value = T)\n",
    "        ),\n",
    "        conditionalPanel(condition = \"input.dataType == 'Microarray: Whole Blood'\",\n",
    "                         h4('Enter HUGO Gene Symbol:'),\n",
    "                         textInput('gene_blood_analyte', label = NULL,\n",
    "                                   value = 'CD9')\n",
    "        ),\n",
    "        conditionalPanel(condition = \"input.dataType == 'Microarray: Whole Blood'\",\n",
    "                         checkboxInput('gene_blood_processing', label = 'Normalized',\n",
    "                                       value = T)\n",
    "        ),\n",
    "        conditionalPanel(condition = \"input.dataType == 'HAI Titer'\",\n",
    "                         h4('Select Analyte:'),\n",
    "                         selectInput('hai_analyte', label = NULL,\n",
    "                                     choices = haiAnalytes,\n",
    "                                     selected = haiAnalytes[1])\n",
    "        ),\n",
    "        conditionalPanel(condition = \"input.dataType == 'HAI Titer'\",\n",
    "                         checkboxInput('hai_processing', label = 'Normalized',\n",
    "                                       value = T)\n",
    "        ),\n",
    "        conditionalPanel(condition = \"input.dataType == 'Multiplex ELISA'\",\n",
    "                         h4('Select Analyte:'),\n",
    "                         selectInput('mbaaAnalyte', label = NULL,\n",
    "                                     choices = mbaaAnalytes,\n",
    "                                     selected = 'CXCL5')\n",
    "        ),\n",
    "        conditionalPanel(condition = \"input.dataType == 'Multiplex ELISA'\",\n",
    "                         checkboxInput('mbaa_processing', label = 'Normalized',\n",
    "                                       value = T)\n",
    "        ),\n",
    "        conditionalPanel(condition = \"input.dataType == 'Blood Count'\",\n",
    "                         h4('Select Analyte:'),\n",
    "                         selectInput('cbcAnalyte', label = NULL,\n",
    "                                     choices = cbcAnalytes,\n",
    "                                     selected = 'HGB_g_per_dL')\n",
    "        ),\n",
    "        conditionalPanel(condition = \"input.dataType == 'Blood Count'\",\n",
    "                         checkboxInput('cbc_processing', label = 'Normalized',\n",
    "                                       value = T)\n",
    "        ),\n",
    "        conditionalPanel(condition = \"input.dataType == 'Lipid Profile'\",\n",
    "                         h4('Select Analyte:'),\n",
    "                         selectInput('flpAnalyte', label = NULL,\n",
    "                                     choices = flpAnalytes,\n",
    "                                     selected = flpAnalytes[1])\n",
    "        ),\n",
    "        conditionalPanel(condition = \"input.dataType == 'Metabolic Panel'\",\n",
    "                         h4('Select Analyte:'),\n",
    "                         selectInput('cmpAnalyte', label = NULL,\n",
    "                                     choices = cmpAnalytes,\n",
    "                                     selected = cmpAnalytes[1])\n",
    "        ),\n",
    "        conditionalPanel(condition = \"input.dataType == 'Virus Neutralization Titer'\",\n",
    "                         h4('Select Analyte:'),\n",
    "                         selectInput('vntAnalyte', label = NULL,\n",
    "                                     choices = vntAnalytes,\n",
    "                                     selected = 'Measles_Edmonston')\n",
    "        ),\n",
    "        conditionalPanel(condition = \"input.dataType == 'Virus Neutralization Titer'\",\n",
    "                         checkboxInput('vnt_processing', label = 'Normalized',\n",
    "                                       value = T)\n",
    "        ),\n",
    "        conditionalPanel(condition = \"input.dataType == 'RNAseq: T cells' || input.dataType == 'RNAseq: Newborns' \", \n",
    "                         h4('Enter HUGO Gene Symbol:'),\n",
    "                         textInput('T_cell_analyte', label = NULL,\n",
    "                                   value = 'CD9')\n",
    "        ),\n",
    "        conditionalPanel( condition = \"input.dataType == 'Mass Spectrometry: Newborns' || input.dataType == 'RNAseq: Newborns' || input.dataType == 'Cibersort: Newborns' \",\n",
    "             h4('Plot By:'),\n",
    "             radioButtons( 'newbornPlotBy', label = NULL,\n",
    "                          choices = c('Days of Life','Sex','Vaccination'),\n",
    "                          selected = 'Days of Life'\n",
    "             ) \n",
    "        ),\n",
    "        \n",
    "        #Select age range of subjects\n",
    "        conditionalPanel(condition = \"input.dataType != 'RNAseq: T cells' && input.dataType != 'RNAseq: Newborns' && input.dataType != 'Mass Spectrometry: Newborns' && input.dataType != 'Cibersort: Newborns'\",\n",
    "                         h4('Age Range:'),\n",
    "                         sliderInput(\"ageRange\",label = NULL,\n",
    "                                     min = 0,\n",
    "                                     max = 100,\n",
    "                                     value = c(0,100),\n",
    "                                     dragRange = TRUE,\n",
    "                                     round = TRUE,\n",
    "                                     step = 1),\n",
    "                         \n",
    "                                                \n",
    "                         \n",
    "                         #Select the ethnicities of subjects\n",
    "                 fluidRow(\n",
    "                         column( 8, \n",
    "                             h4('Ethnicities:'),\n",
    "                             checkboxGroupInput('race', label = NULL,\n",
    "                                                choices = c('White', 'Black or African American','Asian','Other'),\n",
    "                                                selected = c('White', 'Black or African American','Asian','Other')\n",
    "                             )\n",
    "                        ),\n",
    "                         #How to color plot\n",
    "                         column( 4 ,\n",
    "                             h4('Plot By:'),\n",
    "                             radioButtons('colorCode', label = NULL,\n",
    "                                          choices = c('Age & Sex','Ethnicity','Study'),\n",
    "                                          selected = 'Age & Sex'\n",
    "                             )                  \n",
    "                         )\n",
    "                     \n",
    "                     ),\n",
    "                         \n",
    "                 fluidRow(   \n",
    "                                                  #Select male or female subjects\n",
    "                         column( 12 ,\n",
    "                             h4('Sex:'),\n",
    "                             checkboxGroupInput(\"gender\", label = NULL, choices = c('Female','Male'), selected = c('Female','Male'), inline=TRUE  )\n",
    "                        )\n",
    "                     )\n",
    "                         \n",
    "\n",
    "        )\n",
    "        \n",
    "      )\n",
    "       "
   ]
  },
  {
   "cell_type": "markdown",
   "metadata": {},
   "source": [
    "#### <font color=\"gray\">Cleaning Code, Failed</font>"
   ]
  },
  {
   "cell_type": "markdown",
   "metadata": {},
   "source": [
    "```python\n",
    "sidebar = sidebarPanel(\n",
    "        \n",
    "        #Select which data type to visualize\n",
    "        h4('Select Data Type:'),\n",
    "        selectInput('dataType', label = NULL,\n",
    "                    choices = c('CyTOF: PBMC','ELISA',\n",
    "                                'Flow Cytometry: Whole Blood', 'Flow Cytometry: PBMC',\n",
    "                                'Gene Expression: PBMC','Gene Expression: Whole Blood',\n",
    "                                'HAI Titer', \n",
    "                                'Lab Tests: Blood Count','Lab Tests: Metabolic Panel',\n",
    "                                'Lab Tests: Lipid Profile','Multiplex ELISA', 'Virus Neutralization Titer',\n",
    "                                'RNAseq: T cells', 'Newborn RNAseq'),\n",
    "                    selected = 'CyTOF: PBMC'\n",
    "        ),\n",
    "        \n",
    "        \n",
    "        # Select Analyte\n",
    "        conditionalPanel(condition = \"is.element( input.dataType, c('CyTOF: PBMC','ELISA','Flow Cytometry: Whole Blood','Flow Cytometry: PBMC','HAI Titer','Multiplex ELISA','Lab Tests: Blood Count','Lab Tests: Lipid Profile','Lab Tests: Metabolic Panel','Virus Neutralization Titer') )\",\n",
    "                         h4('Select Analyte:'),\n",
    "                         selectInput('analyte', label = NULL, choices = cytof_pbmc_analytes, selected = 'T_cells')\n",
    "        ),\n",
    "        \n",
    "        # Normalized\n",
    "        conditionalPanel(condition = \"is.element( input.dataType, c('CyTOF: PBMC','ELISA','Flow Cytometry: Whole Blood','Flow Cytometry: PBMC','Gene Expression: Whole Blood','HAI Titer','Multiplex ELISA','Lab Tests: Blood Count','Virus Neutralization Titer','Gene Expression: PBMC') )\",\n",
    "                         checkboxInput('processing', label = 'Normalized', value = T)\n",
    "        ),    \n",
    "         \n",
    "        # Hugo Symbol\n",
    "        conditionalPanel(condition = \"input.dataType == 'RNAseq: T cells'\",\n",
    "                         h4('Enter HUGO Gene Symbol:'),\n",
    "                         textInput('HUGO', label = NULL, value = 'CD9')\n",
    "        ),\n",
    "    \n",
    "        #Select age range of subjects\n",
    "        conditionalPanel(condition = \"is.element( input.dataType, c('RNAseq: T cells','Newborn RNAseq') )\",\n",
    "                     h4('Age Range:'),\n",
    "                     sliderInput(\"ageRange\",label = NULL,\n",
    "                                 min = 0,\n",
    "                                 max = 100,\n",
    "                                 value = c(0,100),\n",
    "                                 dragRange = TRUE,\n",
    "                                 round = TRUE,\n",
    "                                 step = 1),\n",
    "                     #Select male or female subjects\n",
    "                     h4('Sex:'),\n",
    "                     checkboxGroupInput(\"gender\", label = NULL,\n",
    "                                        choices = c('Female','Male'), \n",
    "                                        selected = c('Female','Male')),\n",
    "                     #Select the ethnicities of subjects\n",
    "                     h4('Ethnicities:'),\n",
    "                     checkboxGroupInput('race', label = NULL,\n",
    "                                        choices = c('White', 'Black or African American','Asian','Other'),\n",
    "                                        selected = c('White', 'Black or African American','Asian','Other')\n",
    "                     ),\n",
    "                     #How to color plot\n",
    "                     h4('Plot By:'),\n",
    "                     radioButtons('colorCode', label = NULL,\n",
    "                                  choices = c('Age & Sex','Ethnicity','Study'),\n",
    "                                  selected = 'Age & Sex'\n",
    "                     )\n",
    "        )\n",
    "      )\n",
    "```\n",
    "       "
   ]
  },
  {
   "cell_type": "markdown",
   "metadata": {},
   "source": [
    "### <font color=\"gray\">Helper</font> <font color=\"blue\">myDownloadButton</font>"
   ]
  },
  {
   "cell_type": "markdown",
   "metadata": {},
   "source": [
    "I customized R Shiny's download button to make it look nice for the app. The code I used to do this comes [from here](https://stackoverflow.com/questions/49350509/adding-removing-icon-in-downloadbutton-and-fileinput)"
   ]
  },
  {
   "cell_type": "code",
   "execution_count": null,
   "metadata": {},
   "outputs": [],
   "source": [
    "myDownloadButton <- function(outputId, label = \"Download\", myIcon=\"download\", class = NULL, ... ){\n",
    "     tags$a(id = outputId, class = paste(\"btn btn-default shiny-download-link\", class),\n",
    "         href = \"\", target = \"_blank\", download = NA, \n",
    "         icon(myIcon) , label, ...)\n",
    "}"
   ]
  },
  {
   "cell_type": "markdown",
   "metadata": {},
   "source": [
    "### <font color=\"peru\">Graph"
   ]
  },
  {
   "cell_type": "markdown",
   "metadata": {},
   "source": [
    "<font color=\"red\">Note:</font> in the future uncomment out `numSubjects` to print number of subjects."
   ]
  },
  {
   "cell_type": "code",
   "execution_count": null,
   "metadata": {},
   "outputs": [],
   "source": [
    "main_panel = mainPanel(   #div( class=\"col-sm-8\",\n",
    "        plotlyOutput(\"dataPlot\"),\n",
    "        tags$div(class = 'container2', style = 'width:100; float:right; color:black',textOutput('nSubsText', inline = F)),\n",
    "        #h6( id='numSubjects', class=\"pull-right\", \"Number of Subjects: \" ),\n",
    "        h2( class=\"col-xs-offset-2 col-md-offset-1\", \"Download\"),\n",
    "        div(\n",
    "            myDownloadButton('downloadPlot', label='Image', myIcon=\"image\", class=\"btn btn-success\"),\n",
    "            myDownloadButton('downloadPlotData', label='Plot Data', myIcon=\"file-download\", class=\"btn btn-warning\"),\n",
    "            tags$button(  id=\"downloadAllData\", class=\"btn\", style=\"padding:0\"#,  #  id='downloadAllData'\n",
    "               #HTML(\"<a  href='https://storage.googleapis.com/bakar-data/10k/png_metabolomics.725331.csv' download ><button class='btn btn-danger'><i class='fa fa-cart-arrow-down'></i> All Data</button></a>\")\n",
    "            )\n",
    "            #myDownloadButton('downloadAllData', label='All Data', myIcon=\"cart-arrow-down\", class=\"btn btn-danger\")\n",
    "        )\n",
    "      )\n",
    "\n"
   ]
  },
  {
   "cell_type": "markdown",
   "metadata": {},
   "source": [
    "Putting Graph and SideBar together"
   ]
  },
  {
   "cell_type": "code",
   "execution_count": null,
   "metadata": {},
   "outputs": [],
   "source": [
    "tempHtml  = conditionalPanel( title=\"graphMain\", condition = \"input.page != 'home'\",             \n",
    "    sidebarLayout( sidebar, main_panel )             \n",
    ")    \n",
    "ui = tagAppendChild(ui, tempHtml )\n",
    "#tempHtml"
   ]
  },
  {
   "cell_type": "markdown",
   "metadata": {},
   "source": [
    "### <font color=\"peru\">Data Explanations"
   ]
  },
  {
   "cell_type": "markdown",
   "metadata": {},
   "source": [
    "Template for Data explanation text"
   ]
  },
  {
   "cell_type": "code",
   "execution_count": null,
   "metadata": {},
   "outputs": [],
   "source": [
    "tempHtml = conditionalPanel( title=\"info_text\", condition = \"input.page != 'home'\",   \n",
    "    div( class=\"jumbotron\", style=\"background-color: white; padding: .9em;\",  # padding-left: .9em; padding-top: 0px;\",\n",
    "         p( id=\"graph_data_info\" , '..........' )\n",
    "   )                        \n",
    ")\n",
    "ui = tagAppendChild(ui, tempHtml )\n"
   ]
  },
  {
   "cell_type": "markdown",
   "metadata": {},
   "source": [
    "Code that switches what template says based on selected dataset"
   ]
  },
  {
   "cell_type": "code",
   "execution_count": null,
   "metadata": {},
   "outputs": [],
   "source": [
    "temp = quote({\n",
    "  observeEvent( input$dataType , {\n",
    "      \n",
    "      if( input$dataType == 'CyTOF: PBMC' ){\n",
    "          html(id=\"graph_data_info\", html= \"<b>CYTOF Data: </b><small>CyTOF data of healthy human blood samples were downloaded from ImmPort web portal. Every .fcs file was pared down to 5000 events. These .fcs files constitute the “raw” CyTOF:PBMC data. All data were arcsinh transformed. For CyTOF data, the formula f(x) = arcsinh (x/8) was used. Transformation and compensation were done using the preprocessing.batch function in MetaCyto (1). The cell definitions from the Human ImmunoPhenotyping Consortium (2) were used to identify 24 types of immune cells using the searchClster.batch function in MetaCyto. Specifically, each marker in each cytometry panels was bisected into positive and negative regions. Cells fulfilling the cell definitions are identified. For example, the CD14+ CD33+ CD16- (CD16- monocytes) cell subset corresponds to the cells that fall into the CD14+ region, CD33+ region and CD16- region concurrently. The proportion of each cell subsets in the PBMC were then calculated by dividing the number of cells in a subset by the total number of cells in the blood. These steps together produce the “formatted” CyTOF: PBMC data. These data were then batch-corrected with an established empirical Bayes method (3), using study accession for batch and age, sex, and race as known covariates to produce the “formatted and normalized” CyTOF: PBMC data. </small>\" ) \n",
    "      \n",
    "      }else if( input$dataType == 'ELISA' ){\n",
    "          html(id=\"graph_data_info\", html= \"<b>ELISA Data: </b><small>Parsed ELISA data were downloaded from ImmPort. Analyte names were standardized to HUGO gene names where appropriate, and measurements were standardized to a common unit of measurement (pg/mL). These steps produced the “formatted” ELISA data. Because ELISA data is low-throughput, and most subjects only have measurements for one analyte, batch correction was conducted with a simple linear model for each analyte, mean correcting by study accession while accounting for age, sex, and race. These steps produced the “formatted and normalized” ELISA data.</small>\" ) \n",
    "      \n",
    "      }else if( input$dataType %in% c('Flow Cytometry: Whole Blood','Flow Cytometry: PBMC')  ){\n",
    "          html(id=\"graph_data_info\", html= \"<b>Cytometry Data: </b><small>Meta-analysis of Cytometry data is conducted using the MetaCyto package (1). Briefly, flow cytometry data were downloaded from ImmPort web portal. Every .fcs file was pared down to 5000 events. These .fcs files constitute the “raw” Flow Cytometry:PBMC data. Flow cytometry data from ImmPort were compensated for fluorescence spillovers using the compensation matrix supplied in each fcs file.  All data from ImmPort were arcsinh transformed. For flow cytometry data, the formula f(x) = arcsinh (x/150) was used. Transformation and compensation were done using the preprocessing.batch function in MetaCyto (1). The cell definitions from the Human ImmunoPhenotyping Consortium (2) were used to identify 24 types of immune cells using the searchClster.batch function in MetaCyto. Specifically, each marker in each cytometry panels was bisected into positive and negative regions. Cells fulfilling the cell definitions are identified. For example, the CD14+ CD33+ CD16- (CD16- monocytes) cell subset corresponds to the cells that fall into the CD14+ region, CD33+ region and CD16- region concurrently. The proportion of each cell subsets in the PBMC or whole blood were then calculated by dividing the number of cells in a subset by the total number of cells in the blood. These steps together produce the “formatted” Flow Cytometry: PBMC data. Because the Flow Cytometry data are sparse, batch correction was conducted with a simple linear model for each cell type, mean correcting by study accession while accounting for age, sex, and race. These steps produced the “formatted and normalized” Flow Cytometry data.</small>\")\n",
    "      \n",
    "      }else if( input$dataType %in% c('Microarray: PBMC','Microarray: Whole Blood') ){\n",
    "          html(id=\"graph_data_info\", html= \"<b>Gene Expression Data: </b><small>Gene expression array data were obtained in three formats. Data in their original formats (.CEL files, series matrix files, etc) constitute the “raw” gene expression data. For data collected on Affymetrix platforms, we utilized the ReadAffy utility in the affy Bioconductor package to read in raw .CEL files. The rma utility was used to conduct Robust Multichip Average (rma) background correction (as in (4)), quantile normalization, and log2 normalization of the data. For data collected on Illumina platforms and stored in the Gene Expression Omnibus (GEO) database, we utilized the getGEO utility in the GEOquery Bioconductor package to read the expression files and the preprocessCore package to conduction rma background correction, quantile normalization, and log2 normalization of the gene expression data. Finally, for data collected on Illumina platforms but not stored in GEO, we utilized the read.ilmn utility of the limma Bioconductor package to read in the data, and the neqc function to rma background correct, quantile normalize, and log2 normalize the gene expression data. In all instances, probe IDs were converted to Entrez Gene IDs. Where multiple probes mapped to the same Entrez Gene ID, the median value across probes was used to represent the expression value of the corresponding gene. The background-corrected and normalized datasets were combined based on common Entrez IDs, missing values were imputed with a k-nearest neighbors algorithm (R package: impute, function: impute.knn) using k = 10 and default values for rowmax, colmax, and maxp. Enter Gene IDs were then converted to HUGO gene names. These steps together produced the “formatted” gene expression files. To create the “formatted and normalized” datasets, we utilized established empirical Bayes algorithm for batch correction (2), compensating for possible batch effects while maintaining potential effects of age, race, and sex across datasets.</small>\") \n",
    "      \n",
    "      }else if( input$dataType == 'HAI Titer' ){\n",
    "          html(id=\"graph_data_info\", html= \"<b>HAI Titer Data: </b><small>Parsed HAI data were downloaded from ImmPort. Names were standardized to WHO viral nomenclature where necessary. These steps produced the “formatted” HAI data. Because HAI data is low-throughput, and most subjects only have measurements for one-to-three of the viruses, batch correction was conducted with a simple linear model for each analyte, mean correcting by study accession while accounting for age, sex, and race. These steps produced the “formatted and normalized” HAI data.</small>\")\n",
    "      \n",
    "      }else if( input$dataType %in%  c('Blood Count','Metabolic Panel','Lipid Profile') ){\n",
    "          html(id=\"graph_data_info\", html= \"<b>Lab Test Data: </b><small>Parsed lab test data were downloaded from ImmPort and organized into three standard panels: Complete Blood Count (CBC), Fasting Lipid Profile (FLP), and Comprehensive Metabolic Panel (CMP). Because FLP and CMP data are derived from only one study, no further standardization was required. These parsed data constitute the 'formatted' lab test data for these two types, and no 'normalized' table is available. CBC data were derived from 12 different studies. As such, names of individual tests as well as units of measurement needed to be standardized for the data to be directly comparable. For example, cells reported as thousands of cells per microliter were variously described as 'K/mi', 'K/', “cells/mm3”, “thou/mcL”, ”per”, “1000/microliter”, “10^3/mm3”, “10^3”, “1e3/uL”, “10*3/ul”, “/uL”, or “10^3 cells/uL”, and the names of assays were comparably variable. These standardization steps produced the “formatted” Lab Test: Blood Count data. These data were then batch corrected with a simple linear model for each analyte, mean correcting by study accession while accounting for age, sex, and race to produce the “formatted and normalized” CBC data.</small>\")\n",
    "      \n",
    "      }else if( input$dataType == 'Multiplex ELISA' ){\n",
    "          html(id=\"graph_data_info\", html= \"<b>Multiplex ELISA Data: </b><small>Secreted protein data measured on the multiplex ELISA platform were collected from ImmPort studies SDY22, SDY23, SDY111, SDY113, SDY180, SDY202, SDY305, SDY311, SDY312, SDY315, SDY420, SDY472, SDY478, SDY514, SDY515, SDY519, and SDY720. Data were drawn from the ImmPort parsed data tables using RMySQL or loaded into R from user-submitted unparsed data tables. Across the studies that contribute data, there are disparities in terms of the dilution of samples and units of measure in which the data are reported. We corrected for differences in dilution factor and units of measure across experiments and standardized labels associated with each protein as HUGO gene symbols. This step represents the “formatted” Multiplex ELISA data table.  Compensation for batch effects was conducted using an established empirical Bayes algorithm (2), with study accession representing batch and a model matrix that included age, sex, and race of each subject. Data were log2 transformed before normalization to better fit the assumption that the data are normally distributed. The effectiveness of the log2 transform, as well as our batch correction efforts, are detailed in the manuscript associated with this resource (5). This batch-corrected data represents the “formatted and normalized” Multiplex ELISA data. </small>\")\n",
    "      \n",
    "      }else if( input$dataType == 'Virus Neutralization Titer' ){\n",
    "          html(id=\"graph_data_info\", html= \"<b>Virus Neutralization Data: </b><small>Parsed VNT data were downloaded from ImmPort. Names were standardized to WHO viral nomenclature where necessary. These steps produced the “formatted” VNT data. Because VNT data is low-throughput, and most subjects only have measurements for one-to-three of the viruses, batch correction was conducted with a simple linear model for each analyte, mean correcting by study accession while accounting for age, sex, and race. These steps produced the “formatted and normalized” VNT data.</small>\")\n",
    "      \n",
    "      }else if( input$dataType %in% c( 'RNAseq: Newborns', 'Mass Spectrometry: Newborns', 'Cibersort: Newborns') ){\n",
    "          html(id=\"graph_data_info\", html= \"<b>Newborn Immunologic Data: </b><small>The newborn RNA-Seq and Mass Spectrometry datasets were downloaded from Immport  (Studies: SDY1256 and SDY1412). The RNAseq data comes from peripheral blood and Mass-Spec data comes from blood plasma. Phenotyping data was obtaiend by from running Cibersort on RNAseq data. The files used from Immport were formatted and normalized by the EPIC Consortium. More information on the study can be found in this <a href=‘https://www.nature.com/articles/s41467-019-08794-x’>Nature Article</a> published by Amy H. Lee, et al. Some minor additional formatting was done for presenting data on 10k Immunomes.</small>\") \n",
    "      \n",
    "      }else if( input$dataType == 'RNAseq: T cells' ){\n",
    "          html(id=\"graph_data_info\", html= \"<b>RNA-Seq T Cell Data: </b><small>The T cells' raw sequence read files were download from the Sequence Read Archive (SRA).  The sequence reads are quantified at the gene level using Kallisto. The Transcripts per million (TPM) is used to quantify the transcription levels in T cells.</small>\")\n",
    "\n",
    "      }else{\n",
    "          html(id=\"graph_data_info\", html= \"   \")\n",
    "      }\n",
    "  })\n",
    "})\n",
    "body(server) = callConcat( body(server), temp )"
   ]
  },
  {
   "cell_type": "markdown",
   "metadata": {},
   "source": [
    "# <font color=\"purple\">Graph Functions</font>"
   ]
  },
  {
   "cell_type": "markdown",
   "metadata": {},
   "source": [
    "**<font color=\"red\">NOTE: This code is old, make it better!</font>**"
   ]
  },
  {
   "cell_type": "markdown",
   "metadata": {},
   "source": [
    "##  <font color=\"purple\">Set data"
   ]
  },
  {
   "cell_type": "code",
   "execution_count": null,
   "metadata": {},
   "outputs": [],
   "source": [
    "temp= quote({\n",
    "  data <- reactive({\n",
    "    if(input$dataType == 'Multiplex ELISA' & input$mbaa_processing ==F){return(mbaa_raw[mbaa_raw$age > min(input$ageRange) & mbaa_raw$age < max(input$ageRange)\n",
    "                                                                                        & mbaa_raw$gender %in% input$gender & mbaa_raw$race %in% input$race,])}\n",
    "    else if (input$dataType == 'Flow Cytometry: PBMC' & input$flow_pbmc_processing ==F){return(flow_pbmc_raw[flow_pbmc_raw$age > min(input$ageRange) & flow_pbmc_raw$age < max(input$ageRange)\n",
    "                                                                                                             & flow_pbmc_raw$gender %in% input$gender & flow_pbmc_raw$race %in% input$race,])}\n",
    "    else if (input$dataType == 'CyTOF: PBMC' & input$cytof_pbmc_processing ==F){return(cytof_pbmc_raw[cytof_pbmc_raw$age > min(input$ageRange) & cytof_pbmc_raw$age < max(input$ageRange)\n",
    "                                                                                                      & cytof_pbmc_raw$gender %in% input$gender & cytof_pbmc_raw$race %in% input$race,])}\n",
    "    else if (input$dataType == \"Microarray: Whole Blood\" & input$gene_blood_processing ==F){return(gene_blood_raw[gene_blood_raw$age > min(input$ageRange) & gene_blood_raw$age < max(input$ageRange)\n",
    "                                                                                                                       & gene_blood_raw$gender %in% input$gender & gene_blood_raw$race %in% input$race,])}\n",
    "    else if (input$dataType == \"Microarray: PBMC\" & input$gene_pbmc_processing ==F){return(gene_pbmc_raw[gene_pbmc_raw$age > min(input$ageRange) & gene_pbmc_raw$age < max(input$ageRange)\n",
    "                                                                                                              & gene_pbmc_raw$gender %in% input$gender & gene_pbmc_raw$race %in% input$race,])}\n",
    "    else if (input$dataType == \"ELISA\" & input$elisa_processing ==F){return(elisa_raw[elisa_raw$age > min(input$ageRange) & elisa_raw$age < max(input$ageRange)\n",
    "                                                                                      & elisa_raw$gender %in% input$gender & elisa_raw$race %in% input$race,])}\n",
    "    else if (input$dataType == \"HAI Titer\"& input$hai_processing ==F){return(hai_raw[hai_raw$age > min(input$ageRange) & hai_raw$age < max(input$ageRange)\n",
    "                                                                                     & hai_raw$gender %in% input$gender & hai_raw$race %in% input$race,])}\n",
    "    else if (input$dataType == \"Blood Count\" & input$cbc_processing ==F){return(cbc_raw[cbc$age > min(input$ageRange) & cbc_raw$age < max(input$ageRange)\n",
    "                                                                                                   & cbc_raw$gender %in% input$gender & cbc_raw$race %in% input$race,])}\n",
    "    else if (input$dataType == 'Virus Neutralization Titer' & input$vnt_processing ==F){return(vnt_raw[vnt_raw$age > min(input$ageRange) & vnt_raw$age < max(input$ageRange)\n",
    "                                                                                                       & vnt_raw$gender %in% input$gender & vnt_raw$race %in% input$race,])}\n",
    "    else{\n",
    "      switch(input$dataType,\n",
    "             \"CyTOF: PBMC\" = cytof_pbmc[cytof_pbmc$age > min(input$ageRange) & cytof_pbmc$age < max(input$ageRange)\n",
    "                                        & cytof_pbmc$gender %in% input$gender & cytof_pbmc$race %in% input$race,],\n",
    "             \"ELISA\" = elisa[elisa$age > min(input$ageRange) & elisa$age < max(input$ageRange)\n",
    "                             & elisa$gender %in% input$gender & elisa$race %in% input$race,],\n",
    "             \"Flow Cytometry: PBMC\" = flow_pbmc[flow_pbmc$age > min(input$ageRange) & flow_pbmc$age < max(input$ageRange)\n",
    "                                                & flow_pbmc$gender %in% input$gender & flow_pbmc$race %in% input$race,],\n",
    "             \"Flow Cytometry: Whole Blood\" = flow_blood_raw[flow_blood_raw$age > min(input$ageRange) & flow_blood_raw$age < max(input$ageRange)\n",
    "                                                            & flow_blood_raw$gender %in% input$gender & flow_blood_raw$race %in% input$race,],\n",
    "             \"Microarray: Whole Blood\" = gene_blood[gene_blood$age > min(input$ageRange) & gene_blood$age < max(input$ageRange)\n",
    "                                                         & gene_blood$gender %in% input$gender & gene_blood$race %in% input$race,],\n",
    "             \"Microarray: PBMC\" = gene_pbmc[gene_pbmc$age > min(input$ageRange) & gene_pbmc$age < max(input$ageRange)\n",
    "                                                 & gene_pbmc$gender %in% input$gender & gene_pbmc$race %in% input$race,],\n",
    "             \"HAI Titer\" = hai[hai$age > min(input$ageRange) & hai$age < max(input$ageRange)\n",
    "                               & hai$gender %in% input$gender & hai$race %in% input$race,],\n",
    "             \"HLA Type\" = hla[hla$age > min(input$ageRange) & hla$age < max(input$ageRange)\n",
    "                              & hla$gender %in% input$gender & hla$race %in% input$race,],\n",
    "             \"Multiplex ELISA\" = mbaa[mbaa$age > min(input$ageRange) & mbaa$age < max(input$ageRange)\n",
    "                                      & mbaa$gender %in% input$gender & mbaa$race %in% input$race,],\n",
    "             \"Blood Count\" = cbc[cbc$age > min(input$ageRange) & cbc$age < max(input$ageRange)\n",
    "                                            & cbc$gender %in% input$gender & cbc$race %in% input$race,],\n",
    "             \"Lipid Profile\" = flp[flp$age > min(input$ageRange) & flp$age < max(input$ageRange)\n",
    "                                              & flp$gender %in% input$gender & flp$race %in% input$race,],\n",
    "             \"Metabolic Panel\" = cmp[cmp$age > min(input$ageRange) & cmp$age < max(input$ageRange)\n",
    "                                                & cmp$gender %in% input$gender & cmp$race %in% input$race,],\n",
    "             'Virus Neutralization Titer' = vnt[vnt$age > min(input$ageRange) & vnt$age < max(input$ageRange)\n",
    "                                                & vnt$gender %in% input$gender & vnt$race %in% input$race,],\n",
    "             'RNAseq: T cells' = gene_Tcell_raw,\n",
    "             'RNAseq: Newborns' = gambia_rna,\n",
    "             'Mass Spectrometry: Newborns' = guinea_mass_spec, # for debugging, never use this variable anyways\n",
    "             'Cibersort: Newborns' =  guinea_cibersort # Never actually use this\n",
    "      )}\n",
    "  })\n",
    "})\n",
    "body(server) = callConcat( body(server), temp )\n",
    "\n"
   ]
  },
  {
   "cell_type": "code",
   "execution_count": null,
   "metadata": {},
   "outputs": [],
   "source": []
  },
  {
   "cell_type": "markdown",
   "metadata": {},
   "source": [
    "##  <font color=\"purple\">Set analytes"
   ]
  },
  {
   "cell_type": "code",
   "execution_count": null,
   "metadata": {},
   "outputs": [],
   "source": [
    "temp= quote({\n",
    "#select the analyte for plotting based on user input\n",
    "analyte <- reactive({switch(input$dataType,\n",
    "                              \"CyTOF: PBMC\" = input$cytof_pbmc_analyte,\n",
    "                              \"ELISA\" = input$elisa_analyte,\n",
    "                              \"Flow Cytometry: PBMC\" = input$flow_pbmc_analyte,\n",
    "                              \"Flow Cytometry: Whole Blood\" = input$flow_blood_analyte,\n",
    "                              \"Microarray: Whole Blood\" = input$gene_blood_analyte,\n",
    "                              \"Microarray: PBMC\" = input$gene_pbmc_analyte,\n",
    "                              \"Gene Set Enrichment: Whole Blood\" = input$gsea_analyte,\n",
    "                              \"HAI Titer\" = input$hai_analyte,\n",
    "                              \"HLA Type\" = input$hla_analyte,\n",
    "                              \"Multiplex ELISA\" = input$mbaaAnalyte,\n",
    "                              \"Blood Count\" = input$cbcAnalyte,\n",
    "                              \"Lipid Profile\" = input$flpAnalyte,\n",
    "                              \"Metabolic Panel\" = input$cmpAnalyte,\n",
    "                              \"Virus Neutralization Titer\" = input$vntAnalyte,\n",
    "                              \"RNAseq: T cells\" = input$T_cell_analyte,\n",
    "                              \"RNAseq: Newborns\" = input$T_cell_analyte, \n",
    "                              \"Cibersort: Newborns\" = input$T_cell_analyte,\n",
    "                              \"Mass Spectrometry: Newborns\" = input$mass_spec_analyte\n",
    "  )})\n",
    "})\n",
    "body(server) = callConcat( body(server), temp )\n"
   ]
  },
  {
   "cell_type": "markdown",
   "metadata": {},
   "source": [
    "### <font color=\"gray\">Cleaning Code, Failed</font>"
   ]
  },
  {
   "cell_type": "markdown",
   "metadata": {},
   "source": [
    "```python\n",
    "#updateSelectInput(session, \"dataType\", selected = 'RNAseq: T cells', choices = c('RNAseq: T cells','Newborn RNAseq'))\n",
    "tempHtml=temp= quote({\n",
    "#select the analyte for plotting based on user input\n",
    "  analyte <- reactive({\n",
    " \n",
    "      # Get analytes of seleceted dataset and setup input box\n",
    "      if( input$dataType %in% c('CyTOF: PBMC','ELISA','Flow Cytometry: Whole Blood','Flow Cytometry: PBMC','HAI Titer','Multiplex ELISA','Lab Tests: Blood Count','Lab Tests: Lipid Profile','Lab Tests: Metabolic Panel','Virus Neutralization Titer')  ){\n",
    "          choices = switch(input$dataType,\n",
    "                 \"CyTOF: PBMC\" = cytof_pbmc_analytes,\n",
    "                 \"ELISA\" = elisaAnalytes,\n",
    "                 \"Flow Cytometry: PBMC\" = flow_pbmc_analytes,\n",
    "                 \"Flow Cytometry: Whole Blood\" = flow_blood_analytes,\n",
    "                 \"HAI Titer\" = haiAnalytes,\n",
    "                 \"Multiplex ELISA\" = mbaaAnalytes,\n",
    "                 \"Lab Tests: Blood Count\" = cbcAnalytes,\n",
    "                 \"Lab Tests: Lipid Profile\" = flpAnalytes,\n",
    "                 \"Lab Tests: Metabolic Panel\" = cmpAnalytes,\n",
    "                 'Virus Neutralization Titer' = vntAnalytes\n",
    "                )\n",
    "          updateSelectInput( session, \"analyte\", selected = choices[1], choices = choices )\n",
    "          new_analyte = input$analyte\n",
    "      }else{ #( input.dataType %in% c('Gene Expression: PBMC','Gene Expression: Whole Blood','RNAseq: T cells','Newborn RNAseq') ){\n",
    "          new_analyte = input$HUGO\n",
    "      }  \n",
    "      \n",
    "      new_analyte\n",
    "      \n",
    "  })\n",
    "})\n",
    "boedy(server) = callConcat( body(server), temp ) \n",
    "```\n"
   ]
  },
  {
   "cell_type": "markdown",
   "metadata": {},
   "source": [
    "##  <font color=\"purple\">Set Up Plot"
   ]
  },
  {
   "cell_type": "markdown",
   "metadata": {},
   "source": [
    "<font color=\"orange\"> Currently adding Plot types for newborns. Variable being used is `newbornPlotBy`, with types 'Days of Life','Sex','Vaccination'"
   ]
  },
  {
   "cell_type": "code",
   "execution_count": null,
   "metadata": {},
   "outputs": [],
   "source": [
    "temp= quote({\n",
    "  #Create a plot that can be downloaded. Shiny doesn't allow you to grab output objects (like output$dataPlot) for use in later functions.\n",
    "  plotInput <- reactive({\n",
    "    \n",
    "    #print('made it here 1')\n",
    "  #if(  input$dataType != \"Mass-Spec: Newborns\" ){\n",
    "      \n",
    "    #Decide based on data type whether the y-axis should be log-scaled\n",
    "    if (input$dataType == 'Microarray: Whole Blood' || input$dataType == 'Microarray: PBMC' || input$dataType == 'Multiplex ELISA'|| input$dataType == 'RNAseq: T cells'){\n",
    "      scaleChoice = 'log10'\n",
    "    } else { \n",
    "      scaleChoice = 'identity'\n",
    "    };\n",
    "    \n",
    "    #pull the data\n",
    "    thisDemo <- reactive({\n",
    "      if(input$dataType != 'RNAseq: T cells'){\n",
    "        data()[!is.na(data()[,analyte()]),1:8]\n",
    "        }else{\n",
    "        data()[!is.na(data()[,analyte()]),1:3]\n",
    "      }\n",
    "      })\n",
    "    thisData <- reactive({data()[!is.na(data()[,analyte()]), as.character(analyte())]})\n",
    "    dataBind <- reactive({data.frame(cbind(thisData(),thisDemo()))})\n",
    "    thisAnalyte <- reactive({analyte()})\n",
    "    \n",
    "    #print('made it here 2')  \n",
    "    #make y axis labels\n",
    "    ylab <- reactive({ \n",
    "      switch( input$dataType ,\n",
    "             \"CyTOF: PBMC\" = paste(gsub('_',' ',analyte()),'(percent)'),\n",
    "             \"ELISA\"= paste(analyte(), '(Concentration in pg/mL)'),\n",
    "             \"Flow Cytometry: PBMC\" = paste(gsub('_',' ',analyte()),'(percent)'),\n",
    "             \"Flow Cytometry: Whole Blood\" = paste(gsub('_',' ',analyte()), '(percent)'),\n",
    "             \"Microarray: Whole Blood\" = paste(analyte(), '(Expression)'),\n",
    "             \"Microarray: PBMC\" = paste(analyte(), '(Expression)'),\n",
    "             \"Gene Set Enrichment: Whole Blood\" = paste(analyte()),\n",
    "             \"HAI Titer\" = paste(analyte(), '(HAI Titer)'),\n",
    "             \"Multiplex ELISA\" = paste(analyte(), '(Concentration in pg/mL)'),\n",
    "             \"Blood Count\" = analyte(),\n",
    "             \"Lipid Profile\" = analyte(),\n",
    "             \"Metabolic Panel\" = analyte(),\n",
    "             \"Virus Neutralization Titer\" = paste(analyte(), '(Virus Neutralization Titer)'),\n",
    "             \"RNAseq: T cells\" = paste(analyte(), '(Expression)'),\n",
    "             \"RNAseq: Newborns\" = paste(analyte(), '(Expression)'),\n",
    "             \"Cibersort: Newborns\" = paste(analyte(), '(Expression)'),\n",
    "             \"Mass Spectrometry: Newborns\" = paste(analyte(), '(Expression)')\n",
    "      )\n",
    "    })\n",
    "    #generate a title\n",
    "    title <- reactive({paste(gsub('_',' ',analyte()), 'by Subject')})      \n",
    "      \n",
    "  #}  # <-- if(  input$dataType != \"Mass-Spec: Newborns\"\n",
    "    #print('made it here 3')\n",
    "    if( input$dataType != 'RNAseq: T cells' && input$dataType != 'RNAseq: Newborns' && input$dataType != \"Mass Spectrometry: Newborns\" && input$dataType != 'Cibersort: Newborns' ){ \n",
    "      #if plotting by age and sex\n",
    "      if(input$colorCode == 'Age & Sex'){\n",
    "        p <- ggplot(data = dataBind(), \n",
    "                    aes(x=dataBind()[,'age'], y=dataBind()[,1], colour = factor(dataBind()[,'gender']))) +\n",
    "          geom_point()  + \n",
    "          labs(x = 'Subject Ages', y = ylab(), title = title(), fill = NULL, colour = NULL)\n",
    "          p +  scale_y_continuous(trans=scaleChoice) + stat_smooth(method=loess,data = dataBind() )+\n",
    "            theme_gdocs() \n",
    "      } \n",
    "      \n",
    "      #if plotting by study\n",
    "      else if(input$colorCode == 'Study'){\n",
    "        p <- ggplot(data = dataBind(), aes(x=dataBind()[,'age'], y=dataBind()[,1], colour = factor(dataBind()[,'study_accession']))) +\n",
    "          geom_point()  + \n",
    "          labs(x = 'Subject Ages', y = ylab(), title = title(), fill = NULL, colour = NULL)\n",
    "        p +  scale_y_continuous(trans=scaleChoice) + stat_smooth(method=loess,data = dataBind(),aes(fill = factor(dataBind()[,'study_accession'])))+\n",
    "            theme_gdocs() \n",
    "      }\n",
    "      \n",
    "      #if plotting by ethnicity\n",
    "      else if(input$colorCode == 'Ethnicity'){\n",
    "        par(las=1, bty='l', lwd=2, family  = 'sans',cex.axis=1.25, cex.lab=1.25, cex.main=1.75)\n",
    "        med = median(dataBind()[,1])\n",
    "        p <- ggplot(data = dataBind(),aes(x = dataBind()[,'race'], y = dataBind()[,1])) \n",
    "        p + geom_violin(trim = FALSE, fill = 'deepskyblue4', inherit.aes = T)+\n",
    "          geom_dotplot(binaxis='y', stackdir='center', dotsize=.2) +\n",
    "          stat_summary_bin(fun.y = median, geom = 'line', lwd = 1, aes(group = dataBind()[,'race'])) +\n",
    "          geom_hline(aes(yintercept = med), linetype = 'dashed') +\n",
    "          labs(x = 'Race', y = ylab(), title = title(), fill = NULL, colour = NULL) + \n",
    "          theme_gdocs() \n",
    "          #scale_y_continuous(trans=scaleChoice) +   #<-- CAUSES ERRORS!\n",
    "          # #<-- CAUSES ERRORS!\n",
    "      }\n",
    "    }       \n",
    "\n",
    "    # Plot RNA T-Cell Data\n",
    "    else if( input$dataType == 'RNAseq: T cells' ){ \n",
    "          par(las=1, bty='l', lwd=2, family  = 'sans',cex.axis=1.25, cex.lab=1.25, cex.main=1.75)\n",
    "          med = median(dataBind()[,1])\n",
    "          p <- ggplot(data = dataBind(),aes(x = gsub(\" CD3.*\",\"\",dataBind()[,'CellType']), y = dataBind()[,1])) \n",
    "          p + geom_violin(trim = FALSE, fill = 'deepskyblue4', inherit.aes = T)+\n",
    "            geom_dotplot(binaxis='y', stackdir='center', dotsize=.2) +\n",
    "            stat_summary_bin(fun.y = median, geom = 'line', lwd = 1, aes(group = dataBind()[,'CellType'])) +\n",
    "            geom_hline(aes(yintercept = med), linetype = 'dashed') +\n",
    "            labs(x = 'Cell Type', y = ylab(), title = title(), fill = NULL, colour = NULL) +\n",
    "            theme(axis.text=element_text(size=16), axis.title=element_text(size=18),\n",
    "                  plot.title=element_text(size = 20, face = 'bold'), plot.margin=unit(c(.5,.5,.5,.5),'cm'))\n",
    "            # scale_y_continuous(trans=scaleChoice) #<-- CAUSES ERRORS!!!\n",
    "    }\n",
    "    \n",
    "    # Plot RNA Gambia Data\n",
    "    else if( input$dataType == 'RNAseq: Newborns' ){\n",
    "        num = which(gambia_rna$hgnc==analyte() )\n",
    "        gene_name = gambia_rna[num,2]\n",
    "        a_row = gambia_rna[num,3:dim(gambia_rna)[2]]\n",
    "        \n",
    "        # Put data in data frame\n",
    "        cols = list()\n",
    "        to_graph= data.frame( counts = as.numeric(a_row) )\n",
    "        \n",
    "        # groups data by age \n",
    "        groups = c()\n",
    "        for( i in names(a_row) ){\n",
    "          groups= c( groups, substr(i, start=nchar(i)-1, stop=nchar(i) )) \n",
    "        }\n",
    "        to_graph$groups = as.factor( groups )\n",
    "        \n",
    "        # create X variable for scatter\n",
    "        `%+=%` = function(e1,e2) eval.parent(substitute(e1 <- e1 + e2))\n",
    "        to_graph$X = rnorm( length(a_row) , mean = 0, sd = .15 )\n",
    "        to_graph$X[ grep(\"*D0\", names(a_row))  ] %+=% 0\n",
    "        to_graph$X[ grep(\"*D1\", names(a_row))  ] %+=% 1\n",
    "        to_graph$X[ grep(\"*D3\", names(a_row))  ] %+=% 3\n",
    "        to_graph$X[ grep(\"*D7\", names(a_row))  ] %+=% 7\n",
    "        \n",
    "        # Get data on Vaccination and Sex\n",
    "        to_graph$sex = guinea_mass_spec$SEX[ match( substr( colnames(a_row), 1,3 ) , guinea_mass_spec$SUBJECT ) ]\n",
    "        to_graph$treatment = guinea_mass_spec$TREATMENT[ match( substr( colnames(a_row), 1,3 ) , guinea_mass_spec$SUBJECT ) ]\n",
    "\n",
    "        # Decide how to plot data based on \"newbornPlotBy\" input value\n",
    "        main_plot = switch( input$newbornPlotBy ,\n",
    "             'Days of Life' = ggplot( to_graph, aes(x=X, y=counts, color=groups) ) ,\n",
    "             'Sex'= ggplot( to_graph, aes(x=X, y=counts, color=sex) ) ,\n",
    "             'Vaccination' = ggplot( to_graph, aes(x=X, y=counts, color=treatment) )\n",
    "        )\n",
    "        \n",
    "        p = main_plot + geom_point() + theme_gdocs() +\n",
    "          labs(x='Days Alive', y=\"Gene Expression (counts)\", title=paste(gene_name,\" Expression in Newborns\"), fill = NULL, colour = NULL )      \n",
    "    }\n",
    "    \n",
    "    # Plot Mass Spec Data\n",
    "    else if( input$dataType == \"Mass Spectrometry: Newborns\" ){        \n",
    "        # get column number of analyte\n",
    "        mass_spec_analyte = input$mass_spec_analyte\n",
    "        col_num = which( colnames( guinea_mass_spec ) == mass_spec_analyte )[1]\n",
    "        \n",
    "        # create mini dataframe of data we want to graph\n",
    "        to_graph= data.frame( vals=  guinea_mass_spec[,col_num] , groups= as.factor(  guinea_mass_spec$DAY ), sex=guinea_mass_spec$SEX, treatment=guinea_mass_spec$TREATMENT  ) \n",
    "        days =  guinea_mass_spec$DAY + rnorm( dim(guinea_mass_spec)[1] , mean = 0, sd = .15 ) \n",
    "        to_graph$days = days\n",
    "        \n",
    "        # Decide how to plot data based on \"newbornPlotBy\" input value\n",
    "        main_plot = switch( input$newbornPlotBy ,\n",
    "             'Days of Life' = ggplot( to_graph, aes(x=days, y=vals, color=groups) ),\n",
    "             'Sex'= ggplot( to_graph, aes(x=days, y=vals, color=sex) ),\n",
    "             'Vaccination' = ggplot( to_graph, aes(x=days, y=vals, color=treatment) ) \n",
    "        )\n",
    "        \n",
    "        # create and display graph\n",
    "        p = main_plot + geom_point() + theme_gdocs()  +\n",
    "        labs(x='Days Alive', y=\"Molecule Expression\", title=paste(mass_spec_analyte,\" Expression in Newborns\"), fill = NULL, colour = NULL )   \n",
    "    }\n",
    "        \n",
    "    # Plot Cibersort Newborns Data\n",
    "    else if( input$dataType == \"Cibersort: Newborns\" ){        \n",
    "        # get cibersort analyte and create graph dataframe\n",
    "        thisAnalyte = input$cibersort_analyte\n",
    "        col_num = which( colnames( guinea_cibersort ) == thisAnalyte )[1]\n",
    "        to_graph= data.frame( vals=  guinea_cibersort[,col_num] , groups= as.factor(guinea_cibersort$DAY) )\n",
    "        \n",
    "        # add additional columns to to_graph\n",
    "        to_graph$days = guinea_cibersort$DAY + rnorm( dim(guinea_cibersort)[1] , mean = 0, sd = .15 ) \n",
    "        to_graph$vaccination = guinea_mass_spec[ match( guinea_cibersort$SUBJECT, guinea_mass_spec$SUBJECT), 5 ]\n",
    "        to_graph$sex = guinea_mass_spec[ match( guinea_cibersort$SUBJECT, guinea_mass_spec$SUBJECT), 6 ]\n",
    "\n",
    "        # Decide how to plot data based on \"newbornPlotBy\" input value\n",
    "        main_plot = switch( input$newbornPlotBy ,\n",
    "             'Days of Life' = ggplot( to_graph, aes(x=days, y=vals, color=groups) ),\n",
    "             'Sex'= ggplot( to_graph, aes(x=days, y=vals, color=sex) ),\n",
    "             'Vaccination' = ggplot( to_graph, aes(x=days, y=vals, color=vaccination) ) \n",
    "        )\n",
    "        \n",
    "        # create and display graph\n",
    "        p = main_plot + geom_point() + theme_gdocs()  +\n",
    "            labs(x='Days Alive', y=\"Phenotype Expression\", title=paste(thisAnalyte,\" Expression in Newborns\"), fill = NULL, colour = NULL )  \n",
    "    }\n",
    "        \n",
    "  }) #<-- plotInput end\n",
    "})  #<-- Quote end\n",
    "body(server) = callConcat( body(server), temp )\n"
   ]
  },
  {
   "cell_type": "markdown",
   "metadata": {},
   "source": [
    "##  <font color=\"purple\">Number of Subjects</font> <font color=\"red\">Not Done</font>"
   ]
  },
  {
   "cell_type": "code",
   "execution_count": null,
   "metadata": {},
   "outputs": [],
   "source": [
    "temp= quote({\n",
    "  #Output plot (created below) on the Visualize page\n",
    "  output$dataPlot <- renderPlotly({ plotInput() })\n",
    "    \n",
    "  #Calculate and print the number of distinct subjects in the plot\n",
    "  #nSubs <- reactive({sum(!is.na(thisData()))})\n",
    "  #nSubsMessage <- reactive({paste('Distinct Subjects:',nSubs())})\n",
    "  #output$nSubsText <- renderText({nSubsMessage()})\n",
    "})\n",
    "body(server) = callConcat( body(server), temp )"
   ]
  },
  {
   "cell_type": "markdown",
   "metadata": {},
   "source": [
    "# <font color=\"green\">Download Data</font>"
   ]
  },
  {
   "cell_type": "markdown",
   "metadata": {},
   "source": [
    "The functions below run when one of the \"Download\" buttons is clicked."
   ]
  },
  {
   "cell_type": "markdown",
   "metadata": {},
   "source": [
    "<font color=\"red\">Note: `Cibersort: Newborns` data is currently filled with dummy variables. Should fix this later"
   ]
  },
  {
   "cell_type": "markdown",
   "metadata": {},
   "source": [
    "## <font color=\"green\">Download Image</font>"
   ]
  },
  {
   "cell_type": "markdown",
   "metadata": {},
   "source": [
    "The code that runs when \"image\" is clicked"
   ]
  },
  {
   "cell_type": "code",
   "execution_count": null,
   "metadata": {},
   "outputs": [],
   "source": [
    "temp= quote({\n",
    "  #Handle 'Download Plot' button on Visualize page\n",
    "  output$downloadPlot <- downloadHandler(\n",
    "    filename = function() {\n",
    "      paste('10KImmunomes', input$dataType, analyte(), '.pdf', sep='_')\n",
    "      #paste('10KImmunomes', input$dataType, '.pdf', sep='_')  \n",
    "    },\n",
    "    content = function(file) {\n",
    "      pdf(file, width = 8, height = 5)\n",
    "      print(plotInput())\n",
    "      dev.off()\n",
    "    }\n",
    "  )\n",
    "})  #<-- Quote end\n",
    "body(server) = callConcat( body(server), temp )"
   ]
  },
  {
   "cell_type": "markdown",
   "metadata": {},
   "source": [
    "## <font color=\"green\">Download Plot Data</font>"
   ]
  },
  {
   "cell_type": "markdown",
   "metadata": {},
   "source": [
    "The code that runs when \"Plot Data\" is clicked"
   ]
  },
  {
   "cell_type": "code",
   "execution_count": null,
   "metadata": {},
   "outputs": [],
   "source": [
    "temp= quote({\n",
    "  output$downloadPlotData <- downloadHandler(\n",
    "    # Write File Name  \n",
    "    filename = function() { paste('10KImmunomes', input$dataType, analyte(), '.csv', sep='_') }, # Sys.Date()  <-- can add if u like \n",
    "    \n",
    "    # Create File\n",
    "    content = function(file) {\n",
    "      # Get Dataset for file\n",
    "      dataPlot= switch( input$dataType,\n",
    "                        'RNAseq: T cells'  =  cbind( data()[,2:3] , data()[, analyte()] ) ,\n",
    "                        \"RNAseq: Newborns\"   =  data()[ which(data()$hgnc==analyte()) , ]   ,\n",
    "                        \"Mass Spectrometry: Newborns\"=  cbind( data()[,4:8] , data()[, analyte()] ) ,\n",
    "                        \"Cibersort: Newborns\"=  cbind( data()[,4:8] , data()[, analyte()] ) ,\n",
    "                         cbind( data()[,2:5] , data()[, analyte()] ) # <-- All Other Data                       \n",
    "                      )        \n",
    "      write.csv( dataPlot, file, row.names = F) # Write File \n",
    "    }\n",
    "  )\n",
    "})  #<-- Quote end\n",
    "body(server) = callConcat( body(server), temp )"
   ]
  },
  {
   "cell_type": "markdown",
   "metadata": {},
   "source": [
    "## <font color=\"green\">Download All Data</font>"
   ]
  },
  {
   "cell_type": "markdown",
   "metadata": {},
   "source": [
    "The code that runs when \"All Data\" is clicked"
   ]
  },
  {
   "cell_type": "code",
   "execution_count": null,
   "metadata": {},
   "outputs": [],
   "source": [
    "temp= quote({\n",
    "    observeEvent( input$dataType , {\n",
    "        # Get the path to where the data will be downloaded from\n",
    "        file_path = switch(input$dataType,\n",
    "              \"CyTOF: PBMC\" = \"https://storage.googleapis.com/bakar-data/10k/CyTOF_PBMC.zip\",\n",
    "              \"ELISA\" = \"https://storage.googleapis.com/bakar-data/10k/ELISA.zip\",\n",
    "              \"Flow Cytometry: PBMC\" = \"https://storage.googleapis.com/bakar-data/10k/Flow_Cytometry_PBMC.zip\",\n",
    "              \"Flow Cytometry: Whole Blood\" = \"https://storage.googleapis.com/bakar-data/10k/Flow_Cytometry_Whole_Blood.zip\",\n",
    "              \"Microarray: Whole Blood\" = \"https://storage.googleapis.com/bakar-data/10k/Gene_Expression_Whole_Blood.zip\",\n",
    "              \"Microarray: PBMC\" = \"https://storage.googleapis.com/bakar-data/10k/Gene_Expression_PBMC.zip\",  #\"Gene Set Enrichment: Whole Blood\" = input$gsea_analyte,\n",
    "              \"HAI Titer\" = \"https://storage.googleapis.com/bakar-data/10k/HAI_Titer.zip\",\n",
    "              \"HLA Type\" = \"https://storage.googleapis.com/bakar-data/10k/hla.csv\",\n",
    "              \"Multiplex ELISA\" = \"https://storage.googleapis.com/bakar-data/10k/Multiplex_ELISA.zip\",\n",
    "              \"Blood Count\" = \"https://storage.googleapis.com/bakar-data/10k/Lab_Tests_Blood_Count.zip\",\n",
    "              \"Lipid Profile\" = \"https://storage.googleapis.com/bakar-data/10k/lab_test_fasting_lipid_profile.csv\",\n",
    "              \"Metabolic Panel\" = \"https://storage.googleapis.com/bakar-data/10k/lab_test_comprehensive_metabolic_panel.csv\",\n",
    "              \"Virus Neutralization Titer\" = \"https://storage.googleapis.com/bakar-data/10k/Virus_Neutralization_Titer.zip\",\n",
    "              \"RNAseq: T cells\" = \"https://storage.googleapis.com/bakar-data/10k/gene_Tcells_formatted.csv\",\n",
    "              \"RNAseq: Newborns\" = \"https://storage.googleapis.com/bakar-data/10k/Guinea_RNA.csv\",\n",
    "              \"Mass Spectrometry: Newborns\" = \"https://storage.googleapis.com/bakar-data/10k/png_metabolomics.725331.csv\",\n",
    "              \"Cibersort: Newborns\" = \"https://storage.googleapis.com/bakar-data/10k/Guinea_RNA.csv\",\n",
    "        )\n",
    "        # Change the download button's href to the download path\n",
    "        html_pre = \"<a  href='\"\n",
    "        html_post= \"' download ><button class='btn btn-danger'><i class='fa fa-cart-arrow-down'></i> All Data</button></a>\" \n",
    "        html( id='downloadAllData', html=paste( html_pre, file_path, html_post, sep=\"\" )  )\n",
    "        \n",
    "    }) #<-- observeEvent end\n",
    "})  #<-- Quote end\n",
    "body(server) = callConcat( body(server), temp )\n"
   ]
  },
  {
   "cell_type": "code",
   "execution_count": null,
   "metadata": {},
   "outputs": [],
   "source": []
  },
  {
   "cell_type": "markdown",
   "metadata": {},
   "source": [
    "# <font color=\"blue\">Run  Shiny</font> "
   ]
  },
  {
   "cell_type": "markdown",
   "metadata": {},
   "source": [
    "We change the following options so that <font color=\"blue\">RShiny</font> runs at an exposed port and on the computer's public host."
   ]
  },
  {
   "cell_type": "code",
   "execution_count": null,
   "metadata": {},
   "outputs": [],
   "source": [
    "options(shiny.port = 8888)\n",
    "options(shiny.host = \"0.0.0.0\")"
   ]
  },
  {
   "cell_type": "markdown",
   "metadata": {},
   "source": [
    "We run the app!"
   ]
  },
  {
   "cell_type": "code",
   "execution_count": null,
   "metadata": {},
   "outputs": [],
   "source": [
    "shinyApp(ui = fluidPage( useShinyjs(), style='margin-left:5px; margin-right:5px', ui  ), server = server)\n",
    "#shinyApp(ui = fluidPage( useShinyjs(), style='padding:5px;', ui  ), server = server)"
   ]
  },
  {
   "cell_type": "markdown",
   "metadata": {},
   "source": [
    "# <font color=\"brown\">Scratch Paper</font>"
   ]
  },
  {
   "cell_type": "markdown",
   "metadata": {},
   "source": [
    "## Basic ui and server"
   ]
  },
  {
   "cell_type": "markdown",
   "metadata": {},
   "source": [
    "ui <- basicPage(\n",
    "  plotlyOutput(\"dataPlot\")\n",
    ")\n",
    "\n",
    "server <- function(input, output) {\n",
    "  output$dataPlot <-   renderPlotly({     # plot(x, sin(x))  })\n",
    "    ggplot( to_graph, aes(x=X, y=counts, color=groups) ) + \n",
    "      geom_point() +\n",
    "      labs(x='Days Alive', y=\"Gene Expression (counts)\", title=paste(gene_name,\" Expression in Newborns\"), fill = NULL, colour = NULL ) +\n",
    "      theme_gdocs()\n",
    "  })\n",
    "\n",
    "}\n"
   ]
  },
  {
   "cell_type": "markdown",
   "metadata": {},
   "source": [
    "## <font color=\"purple\">Maybe Useful-</font> ShinyJS"
   ]
  },
  {
   "cell_type": "markdown",
   "metadata": {},
   "source": [
    "The following code can be added to the notebook to add javascript and CSS features to the Shiny application."
   ]
  },
  {
   "cell_type": "markdown",
   "metadata": {},
   "source": [
    "``` python\n",
    "jscode <- \"\n",
    "shinyjs.disableTab = function(name) {\n",
    "}\n",
    "\"\n",
    "\n",
    "css <- \"\n",
    ".nav li a.disabled {\n",
    "background-color: #aaa !important;\n",
    "color: #333 !important;\n",
    "cursor: not-allowed !important;\n",
    "border-color: #aaa !important;\n",
    "}\"\n",
    "```"
   ]
  },
  {
   "cell_type": "markdown",
   "metadata": {},
   "source": [
    "After the code is written put a line of code like the one below in the <font color=\"green\">ui</font>"
   ]
  },
  {
   "cell_type": "markdown",
   "metadata": {},
   "source": [
    "``` python\n",
    "extendShinyjs(text = jscode)\n",
    "```"
   ]
  },
  {
   "cell_type": "markdown",
   "metadata": {},
   "source": [
    "## Maybe Useful: Boostrap Page"
   ]
  },
  {
   "cell_type": "markdown",
   "metadata": {},
   "source": [
    "``` python\n",
    "ui = bootstrapPage( h1(\"howdy Dowdy\") )\n",
    "\n",
    "```"
   ]
  },
  {
   "cell_type": "code",
   "execution_count": null,
   "metadata": {},
   "outputs": [],
   "source": []
  }
 ],
 "metadata": {
  "hide_input": false,
  "kernelspec": {
   "display_name": "R (Juniper)",
   "language": "R",
   "name": "juniper"
  },
  "language_info": {
   "codemirror_mode": "r",
   "file_extension": ".R",
   "mimetype": "text/x-r-source",
   "name": "R",
   "pygments_lexer": "r",
   "version": "3.5.1"
  },
  "toc": {
   "base_numbering": 1,
   "nav_menu": {},
   "number_sections": true,
   "sideBar": true,
   "skip_h1_title": false,
   "title_cell": "Table of Contents",
   "title_sidebar": "Contents",
   "toc_cell": false,
   "toc_position": {},
   "toc_section_display": true,
   "toc_window_display": false
  },
  "varInspector": {
   "cols": {
    "lenName": 16,
    "lenType": 16,
    "lenVar": 40
   },
   "kernels_config": {
    "python": {
     "delete_cmd_postfix": "",
     "delete_cmd_prefix": "del ",
     "library": "var_list.py",
     "varRefreshCmd": "print(var_dic_list())"
    },
    "r": {
     "delete_cmd_postfix": ") ",
     "delete_cmd_prefix": "rm(",
     "library": "var_list.r",
     "varRefreshCmd": "cat(var_dic_list()) "
    }
   },
   "types_to_exclude": [
    "module",
    "function",
    "builtin_function_or_method",
    "instance",
    "_Feature"
   ],
   "window_display": false
  },
  "widgets": {
   "application/vnd.jupyter.widget-state+json": {
    "state": {},
    "version_major": 2,
    "version_minor": 0
   }
  }
 },
 "nbformat": 4,
 "nbformat_minor": 2
}
