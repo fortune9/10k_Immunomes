{
 "cells": [
  {
   "cell_type": "markdown",
   "metadata": {},
   "source": [
    "<font size=8>10k Immunomes Source Code</font>"
   ]
  },
  {
   "cell_type": "markdown",
   "metadata": {},
   "source": [
    "This code used to create the [10k immunomes website](http://10kimmunomes.ucsf.edu/)."
   ]
  },
  {
   "cell_type": "markdown",
   "metadata": {},
   "source": [
    "# <font color=\"gray\">Set Up Notebook</font>"
   ]
  },
  {
   "cell_type": "markdown",
   "metadata": {},
   "source": [
    "**Import Packages**"
   ]
  },
  {
   "cell_type": "markdown",
   "metadata": {
    "slideshow": {
     "slide_type": "slide"
    }
   },
   "source": [
    "<font color=\"red\">WARNING: the V8 package does not load correctly</font>"
   ]
  },
  {
   "cell_type": "code",
   "execution_count": null,
   "metadata": {},
   "outputs": [],
   "source": [
    "# #require necessary code\n",
    "require(shiny)\n",
    "require(shinythemes)\n",
    "require(ggplot2)\n",
    "require(digest) \n",
    "require(grid)\n",
    "require(gtable) \n",
    "require(MASS) \n",
    "require(plyr)\n",
    "require(reshape2) \n",
    "require(scales) \n",
    "require(stats) \n",
    "require(tibble) \n",
    "require(lazyeval)\n",
    "require(shinyjs) \n",
    "require(plotly)"
   ]
  },
  {
   "cell_type": "code",
   "execution_count": null,
   "metadata": {},
   "outputs": [],
   "source": [
    "#require(V8)\n",
    "install.packages(\"V8\")"
   ]
  },
  {
   "cell_type": "markdown",
   "metadata": {},
   "source": [
    "additional packages"
   ]
  },
  {
   "cell_type": "markdown",
   "metadata": {},
   "source": [
    "<font color=\"red\">Error: need to load in package ggthemes</font>"
   ]
  },
  {
   "cell_type": "code",
   "execution_count": null,
   "metadata": {},
   "outputs": [],
   "source": [
    "library(ggplot2)\n",
    "library(plotly)\n",
    "library(ggthemes)"
   ]
  },
  {
   "cell_type": "markdown",
   "metadata": {},
   "source": [
    "**Other Stuff**"
   ]
  },
  {
   "cell_type": "markdown",
   "metadata": {},
   "source": [
    "Here we get hte notebook set up for coding"
   ]
  },
  {
   "cell_type": "markdown",
   "metadata": {},
   "source": [
    " Add the `www` folder to R Shiny's file path."
   ]
  },
  {
   "cell_type": "code",
   "execution_count": null,
   "metadata": {},
   "outputs": [],
   "source": []
  },
  {
   "cell_type": "code",
   "execution_count": null,
   "metadata": {},
   "outputs": [],
   "source": [
    "addResourcePath(\"www\", paste(getwd() , \"/www\", sep=\"\") )"
   ]
  },
  {
   "cell_type": "markdown",
   "metadata": {},
   "source": [
    "Load in the dataset"
   ]
  },
  {
   "cell_type": "code",
   "execution_count": null,
   "metadata": {},
   "outputs": [],
   "source": [
    "if( !exists(\"elisaAnalytes\") ){ temp=load('newtenkdata.rdata') }\n"
   ]
  },
  {
   "cell_type": "markdown",
   "metadata": {},
   "source": [
    "Load in Gambia Data"
   ]
  },
  {
   "cell_type": "code",
   "execution_count": null,
   "metadata": {},
   "outputs": [],
   "source": [
    "gambia_rna = read.table( \"Infants_RNA.csv\",  stringsAsFactors=FALSE, header=TRUE,sep=\",\" )"
   ]
  },
  {
   "cell_type": "markdown",
   "metadata": {},
   "source": [
    "#  <font color=\"blue\">Initialize Shiny</font> "
   ]
  },
  {
   "cell_type": "markdown",
   "metadata": {},
   "source": [
    "This line creates the **<font color=\"green\">user interface</font>**, the \"front end\" part of the website that everyone sees."
   ]
  },
  {
   "cell_type": "code",
   "execution_count": null,
   "metadata": {},
   "outputs": [],
   "source": [
    "ui = fluidPage( style='padding:0px;', useShinyjs()  )"
   ]
  },
  {
   "cell_type": "markdown",
   "metadata": {},
   "source": [
    "We create the **<font color=\"purple\">server</font>** object then we add code to it one at a time in the followign sections."
   ]
  },
  {
   "cell_type": "code",
   "execution_count": null,
   "metadata": {},
   "outputs": [],
   "source": [
    "server <- function(input, output, session) { }"
   ]
  },
  {
   "cell_type": "markdown",
   "metadata": {},
   "source": [
    "These lines add [google analytics](https://analytics.google.com/analytics/web/) features to the website. This makes it so that you can track the users button clicks. "
   ]
  },
  {
   "cell_type": "markdown",
   "metadata": {},
   "source": [
    "<font color=\"orange\">NOTE:  I think only 1 of these files is necessary, the other should probably be removed.</font>"
   ]
  },
  {
   "cell_type": "code",
   "execution_count": null,
   "metadata": {},
   "outputs": [],
   "source": [
    "ui = tagAppendChild(ui, tags$head(includeScript(\"analytics.ucsf.js\")) )  \n",
    "ui = tagAppendChild(ui, tags$head(includeScript(\"analytics.org.js\"))  )"
   ]
  },
  {
   "cell_type": "markdown",
   "metadata": {},
   "source": [
    "We add the hidden element `page` which controls which page the user is on."
   ]
  },
  {
   "cell_type": "code",
   "execution_count": null,
   "metadata": {},
   "outputs": [],
   "source": [
    "ui = tagAppendChild(ui,  hidden( selectInput('page', choices = c('home','cytometry','gene','HAI Titer', 'lab','rna','antibody'), selected = 'home', label=NULL )) )\n"
   ]
  },
  {
   "cell_type": "markdown",
   "metadata": {},
   "source": [
    "## <font color=\"gray\">Helper Function: callConcat</font>"
   ]
  },
  {
   "cell_type": "markdown",
   "metadata": {},
   "source": [
    "<font color=\"blue\">callConcat</font> is a function that combines difference are expressions. [Link to solution](https://codeday.me/en/qa/20190306/8275.html)"
   ]
  },
  {
   "cell_type": "code",
   "execution_count": null,
   "metadata": {},
   "outputs": [],
   "source": [
    "callConcat = function(...) {\n",
    "    ll <- list(...)\n",
    "    ll <- lapply(ll, function(X) as.list(X)[-1])\n",
    "    ll <- do.call(\"c\", ll)\n",
    "    as.call(c(as.symbol(\"{\"), ll))\n",
    "}"
   ]
  },
  {
   "cell_type": "markdown",
   "metadata": {},
   "source": [
    "#  <font color=\"orange\">Titles</font>"
   ]
  },
  {
   "cell_type": "markdown",
   "metadata": {},
   "source": [
    "This is the information that describes the page at the top of top of the screen. It it all the code that is above the buttons htat switch between the pages."
   ]
  },
  {
   "cell_type": "markdown",
   "metadata": {},
   "source": [
    "### Main Page"
   ]
  },
  {
   "cell_type": "code",
   "execution_count": null,
   "metadata": {
    "scrolled": true
   },
   "outputs": [],
   "source": [
    "tempHtml = conditionalPanel(title = \"homeAbout\", condition = \"input.page == 'home'\",\n",
    " \n",
    "        img(src='www/Banner.png', class=\"img-responsive\"),\n",
    "        div( class=\"jumbotron\", style=\"padding: .9em; background-color: rgb(250,250,250)\",   \n",
    "            br(),\n",
    "            p(\" In scientific experiments it’s important to compare experimental results against a control dataset. However, sometimes it’s not possible for a lab to easily obtain data from healthy control subjects. This is especially true in immunology, the study of the immune system, where scientists may run multiple costly tests. We built 10k immunomes so that anyone can get high quality data from healthy subjects using any of the latest scientific methods. In minutes, you will have a graph ready for your paper!\"),\n",
    "            p( strong('What is 10k Immunomes?'),\n",
    "               'The 10,000 Immunomes Project is a reference dataset for human immunology, \\r derived from over 10,000 control subjects in the', \n",
    "                a(href=\"http://www.immport.org\", \"NIAID ImmPort Database\",inline = T, target = \"_blank\"), \n",
    "                '. Available data include flow cytometry, CyTOF, multiplex ELISA, gene expression, HAI titers,\\r clinical lab tests, HLA type, and others. Check out the', \n",
    "                a(id = 'VisualizeClick', \"Visualize\",inline = T), \n",
    "                'page to view the available\\r data. Visit the', \n",
    "                a(id = 'DownloadClick', 'Download',inline = T) ,\n",
    "                'page to download a subset of the data or the entire dataset\\r for your own use. More information can be found in our', \n",
    "                a(href = 'https://www.cell.com/cell-reports/fulltext/S2211-1247(18)31451-7', 'Cell Reports Publication',inline = T, target = \"_blank\"),'.', \n",
    "                a(href = 'mailto:BISC_Helpdesk@niaid.nih.gov', 'Contact us', inline = T, target = \"_blank\"), \n",
    "                'with queries and bug reports. This app updated 11/13/2018.'),\n",
    "            br()\n",
    "        )\n",
    " )\n",
    "\n",
    "ui = tagAppendChild(ui, tempHtml )\n",
    "#tempHtml\n"
   ]
  },
  {
   "cell_type": "markdown",
   "metadata": {},
   "source": [
    "### Gene Expression"
   ]
  },
  {
   "cell_type": "code",
   "execution_count": null,
   "metadata": {},
   "outputs": [],
   "source": [
    "tempHtml= conditionalPanel(title = \"geneAbout\", condition = \"input.page == 'gene'\",\n",
    "  div( class=\"jumbotron\", style=\"padding: .9em\",\n",
    "      h1('Gene Expression', class=\"text-center\"),\n",
    "      p(\"Lab tests give important information about the current status of a person's metabolism including the health of the kidneys and liver, electrolyte and acid/base balance as well as levels of blood glucose and blood proteins. Abnormal results can indicate a problem that needs to be addressed. We provide lab tests on blood count, a metabolic panel, and a lipid profile.\")\n",
    "  )\n",
    ")\n",
    "\n",
    "ui = tagAppendChild(ui, tempHtml )\n",
    "#tempHtml\n"
   ]
  },
  {
   "cell_type": "markdown",
   "metadata": {},
   "source": [
    "### Cytometry"
   ]
  },
  {
   "cell_type": "code",
   "execution_count": null,
   "metadata": {},
   "outputs": [],
   "source": [
    "tempHtml= conditionalPanel(title = \"cytometryAbout\", condition = \"input.page == 'cytometry'\",\n",
    "  div( class=\"jumbotron\", style=\"padding: .9em\",\n",
    "       h1('Cytometry', class=\"text-center\"),\n",
    "       p(\"Flow cytometry is a popular laser-based technology to analyze cells or particles. It detects and measures physical and chemical characteristics of a population of cells.  In this immunophenotyping technique suspensions of living cells are stained with specific, fluorescently labeled antibodies and then analyzed with a flow cytometer. In the flow cytometer a laser beam is focused on the cell and the light scattered from it is analyzed.\")\n",
    "  )\n",
    ")\n",
    "\n",
    "ui = tagAppendChild(ui, tempHtml )\n",
    "#tempHtml\n"
   ]
  },
  {
   "cell_type": "markdown",
   "metadata": {},
   "source": [
    "### Lab Tests"
   ]
  },
  {
   "cell_type": "code",
   "execution_count": null,
   "metadata": {},
   "outputs": [],
   "source": [
    "tempHtml= conditionalPanel(title = \"labAbout\", condition = \"input.page == 'lab'\",\n",
    "  div( class=\"jumbotron\", style=\"padding: .9em\",\n",
    "    h1('Lab Tests', class=\"text-center\"),\n",
    "    p(\"Lab tests give important information about the current status of a person's metabolism including the health of the kidneys and liver, electrolyte and acid/base balance as well as levels of blood glucose and blood proteins. Abnormal results can indicate a problem that needs to be addressed. We provide lab tests on blood count, a metabolic panel, and a lipid profile.\")\n",
    "  )\n",
    ")\n",
    "\n",
    "ui = tagAppendChild(ui, tempHtml )\n",
    "#tempHtml\n"
   ]
  },
  {
   "cell_type": "markdown",
   "metadata": {},
   "source": [
    "### RNA "
   ]
  },
  {
   "cell_type": "code",
   "execution_count": null,
   "metadata": {},
   "outputs": [],
   "source": [
    "tempHtml= conditionalPanel(title = \"rnaAbout\", condition = \"input.page == 'rna'\",\n",
    "   div( class=\"jumbotron\", style=\"padding: .9em\",\n",
    "        h1('RNA-Seq', class=\"text-center\"),\n",
    "        p(\"Lab tests give important information about the current status of a person's metabolism including the health of the kidneys and liver, electrolyte and acid/base balance as well as levels of blood glucose and blood proteins. Abnormal results can indicate a problem that needs to be addressed. We provide lab tests on blood count, a metabolic panel, and a lipid profile.\")\n",
    "   )\n",
    ")\n",
    "\n",
    "ui = tagAppendChild(ui, tempHtml )\n",
    "#tempHtml\n"
   ]
  },
  {
   "cell_type": "markdown",
   "metadata": {},
   "source": [
    "### Antibody"
   ]
  },
  {
   "cell_type": "code",
   "execution_count": null,
   "metadata": {},
   "outputs": [],
   "source": [
    "tempHtml= conditionalPanel(title = \"antibodyAbout\", condition = \"input.page == 'antibody'\",\n",
    "   div( class=\"jumbotron\", style=\"padding: .9em\",\n",
    "        h1('Antibody Tests', class=\"text-center\"),\n",
    "        p(\"Lab tests give important information about the current status of a person's metabolism including the health of the kidneys and liver, electrolyte and acid/base balance as well as levels of blood glucose and blood proteins. Abnormal results can indicate a problem that needs to be addressed. We provide lab tests on blood count, a metabolic panel, and a lipid profile.\")\n",
    "   )\n",
    ")\n",
    "\n",
    "ui = tagAppendChild(ui, tempHtml )\n",
    "#tempHtml\n"
   ]
  },
  {
   "cell_type": "code",
   "execution_count": null,
   "metadata": {},
   "outputs": [],
   "source": []
  },
  {
   "cell_type": "markdown",
   "metadata": {},
   "source": [
    "# <font color=\"SkyBlue\">Buttons</font>"
   ]
  },
  {
   "cell_type": "markdown",
   "metadata": {},
   "source": [
    "Add <font color=\"SkyBlue\">Buttons</font> to <font color=\"green\">user interface</font>"
   ]
  },
  {
   "cell_type": "code",
   "execution_count": null,
   "metadata": {},
   "outputs": [],
   "source": [
    "tempHtml= div(\n",
    "    column(2, actionButton(\"homeBtn\", icon = icon(\"home\"), label=\"Home\", class=\"btn btn-default btn-lg text-center\", style=\"width: 100%\")),\n",
    "    column(2, actionButton(\"geneBtn\", icon = icon(\"dna\"), label=\"DNA\", class=\"btn btn-success btn-lg text-center\", style=\"width: 100%\")),\n",
    "    column(2, actionButton(\"rnaBtn\", icon = icon(\"dna\"), label=\"RNA\", class=\"btn btn-info btn-lg text-center\", style=\"width: 100%\")),\n",
    "    column(2, actionButton(\"cytometryBtn\", icon = icon(\"tint\"), label=\"Cytometry\", class=\"btn btn-primary btn-lg text-center\",style=\"width: 100%\")),\n",
    "    column(2, actionButton(\"labBtn\", icon = icon(\"vial\"), label=\"Lab Tests\", class=\"btn btn-danger btn-lg text-center\", style=\"width: 100%\")),\n",
    "    column(2, actionButton(\"antibodyBtn\", icon = icon(\"yahoo\"), label=\"Antibody\", class=\"btn btn-warning btn-lg text-center\", style=\"width: 100%\")),\n",
    "    p(\".\"),\n",
    "    HTML(\"<hr>\")\n",
    ")\n",
    "\n",
    "ui = tagAppendChild(ui, tempHtml )\n",
    "#tempHtml"
   ]
  },
  {
   "cell_type": "markdown",
   "metadata": {},
   "source": [
    "Add functions for <font color=\"skyblue\">button clicks</font> to the <font color=\"purple\">server</font>"
   ]
  },
  {
   "cell_type": "code",
   "execution_count": null,
   "metadata": {
    "code_folding": []
   },
   "outputs": [],
   "source": [
    "tempHtml=temp= quote({\n",
    "  observeEvent(input$homeBtn, {\n",
    "    updateSelectInput(session, \"page\", selected = 'home')\n",
    "  })\n",
    "  observeEvent(input$geneBtn, {\n",
    "    updateSelectInput(session, \"page\", selected = 'gene')\n",
    "    updateSelectInput(session, \"dataType\", selected = 'Gene Expression: PBMC', choices = c('Gene Expression: PBMC','Gene Expression: Whole Blood'))\n",
    "  })\n",
    "  observeEvent(input$cytometryBtn, {\n",
    "    updateSelectInput(session, \"page\", selected = 'cytometry')\n",
    "    updateSelectInput(session, \"dataType\", selected = 'CyTOF: PBMC', choices = c('CyTOF: PBMC','Flow Cytometry: Whole Blood', 'Flow Cytometry: PBMC'))\n",
    "  })\n",
    "  observeEvent(input$labBtn, {\n",
    "    updateSelectInput(session, \"page\", selected = 'lab')\n",
    "    updateSelectInput(session, \"dataType\", selected = 'Lab Tests: Blood Count', choices = c('Lab Tests: Blood Count','Lab Tests: Metabolic Panel','Lab Tests: Lipid Profile'))\n",
    "  })\n",
    "  observeEvent(input$rnaBtn, {\n",
    "    updateSelectInput(session, \"page\", selected = 'rna')\n",
    "    updateSelectInput(session, \"dataType\", selected = 'RNAseq: T cells', choices = c('RNAseq: T cells','Newborn RNAseq'))\n",
    "  })  \n",
    "  observeEvent(input$antibodyBtn, {\n",
    "    updateSelectInput(session, \"page\", selected = 'antibody')\n",
    "    updateSelectInput(session, \"dataType\", selected = 'HAI Titer', choices = c('HAI Titer','ELISA', 'Multiplex ELISA', 'Virus Neutralization Titer'))\n",
    "  })   \n",
    "})\n",
    "body(server) = callConcat( body(server), temp )\n",
    "\n",
    "    "
   ]
  },
  {
   "cell_type": "code",
   "execution_count": null,
   "metadata": {},
   "outputs": [],
   "source": []
  },
  {
   "cell_type": "markdown",
   "metadata": {},
   "source": [
    "# <font color=\"peru\">Body</font>"
   ]
  },
  {
   "cell_type": "markdown",
   "metadata": {},
   "source": [
    "##  <font color=\"peru\">Body Home</font>"
   ]
  },
  {
   "cell_type": "code",
   "execution_count": null,
   "metadata": {},
   "outputs": [],
   "source": [
    "tempHtml= conditionalPanel(title = \"homeMain\", condition = \"input.page == 'home'\",\n",
    "   div(class=\"jumbotron\", style=\"background-color: white; padding: .9em\",\n",
    "\n",
    "        column(12, column(7,tags$u( h2(\"Made with ImmPort\", class=\"text-center\")  ))),\n",
    "        column( 7, img(src='www/Figure_1.jpeg', class=\"img-responsive\") ),\n",
    "        column( 5, \n",
    "                p(\"Data from 242 studies and 44,775 subjects (including flow cytometry and CyTOF, mRNA expression, secreted protein levels [including cy- tokines, chemokines, and growth factors], clinical lab tests, HAI titers, HLA type, and others) were collected from the NIAID Immunology Data and Analysis Portal, ImmPort (http://www.immport. org/ ). We hand curated the entire contents of ImmPort to filter for normal healthy control human subjects. Each of the 10 data types was system- atically processed and harmonized. These data constitute the largest compendium to date of cellular and molecular immune measurements on healthy normal human subjects.\")\n",
    "              ),\n",
    "       p(\".\"),\n",
    "       HTML(\"<hr>\"),\n",
    "       \n",
    "        # Links for external sites\n",
    "        column( 5, \n",
    "                h3(\"Learn More\"), \n",
    "                p(\n",
    "                  a(href = 'http://www.immport.org/immport-open/public/home/home', 'ImmPort Homepage'), br(),\n",
    "                  a(href = 'https://www.cell.com/cell-reports/fulltext/S2211-1247(18)31451-7', '10,000 Immunomes Paper', target = \"_blank\"), br(),\n",
    "                  a(href = 'https://www.cell.com/cell-reports/fulltext/S2211-1247(18)31080-5', 'MetaCyto Cytometry Analysis Paper', target = \"_blank\"), br(),\n",
    "                  a(href = 'https://bioconductor.org/packages/release/bioc/html/MetaCyto.html', 'MetaCyto Cytometry Analysis Code', target = \"_blank\"), br(),\n",
    "                  a(href = 'https://www.bu.edu/jlab/wp-assets/ComBat/Abstract.html', 'ComBat Batch Correction Algorithm', target = \"_blank\"), br(),\n",
    "                  a(href = 'mailto:BISC_Helpdesk@niaid.nih.gov','Contact Us', target = \"_blank\")\n",
    "              )\n",
    "        ),\n",
    " \n",
    "      column( 5,\n",
    "              tags$u( h2(\"10,000 Subjects\")  ),\n",
    "              p(\"Counts of distinct subjects for whom raw data of each type is represented in the initial release of the 10KIP. Because many subjects contributed multiple measurement types, the totals across all measurement types substantially exceed the number of distinct subjects.\")\n",
    "            ),\n",
    "      column( 6,\n",
    "              img(src='www/Table_1.jpg', class=\"img-responsive\") \n",
    "            ),\n",
    "      column(5,\n",
    "         h3(\"Video Tutorial\") , \n",
    "         div( class=\"embed-responsive embed-responsive-16by9\",\n",
    "              HTML('<iframe width=\"200\" height=\"100\" src=\"https://www.youtube.com/embed/iCGEv6MGUVg\" class=\"embed-responsive-item\"></iframe>')\n",
    "             )\n",
    "          ),\n",
    "      column(12,\n",
    "        tags$hr(),     \n",
    "        h3('Cite 10k Immunomes'),\n",
    "        p(tags$small(\"Zalocusky KA, Kan MJ, Hu Z, Dunn P, Thomson E, Wiser J, Bhattacharya S, Butte AJ. The 10,000 Immunomes Project: Building a Resource for Human Immunology. Cell reports. 2018 Oct 9;25(2):513-22. PMID:30304689\"  ))\n",
    "        ),\n",
    "      column(12,\n",
    "        h3('REFERENCES'),\n",
    "        p(tags$small('1) Hu Z, Jujjavarapu C, Hughey JJ, Andorf S, Lee H, Gherardini PF, Spitzer MH, et al. Meta-analysis of Cytometry Data Reveals Racial Differences in Immune Cells. Cell Reports. 2018 Jul 31;24(5):1377-88. ' )),\n",
    "        p(tags$small('2) Finak G, Langweiler M, Jaimes M, Malek M, Taghiyar J, Korin Y, et al. Standardizing Flow Cytometry Immunophenotyping Analysis from the Human ImmunoPhenotyping Consortium. Scientific Reports. 2016 Aug 10;6(1):20686.' )),\n",
    "        p(tags$small('3) Johnson WE, Li C, Rabinovic A. Adjusting batch effects in microarray expression data using empirical Bayes methods. Biostat. 2007 Jan 1;8(1):118–27. ' )),\n",
    "        p(tags$small('4) Irizarry RA, Hobbs B, Collin F, Beazer‐Barclay YD, Antonellis KJ, Scherf U, et al. Exploration, normalization, and summaries of high density oligonucleotide array probe level data. Biostatistics. 2003 Apr 1;4(2):249–64. ' )),\n",
    "        p(tags$small('5) Zalocusky KA, Kan MJ, Hu Z, Dunn P, Thomson E, Wiser J, Bhattacharya S, Butte AJ. The 10,000 Immunomes Project: Building a Resource for Human Immunology. Cell reports. 2018 Oct 9;25(2):513-22. PMID:30304689' ))\n",
    "        ),\n",
    "      p(\".\")\n",
    "   ) #<- end jumbotron\n",
    ") #<-- end conidtional panel\n",
    "ui = tagAppendChild(ui, tempHtml )\n",
    "#tempHtml"
   ]
  },
  {
   "cell_type": "code",
   "execution_count": null,
   "metadata": {},
   "outputs": [],
   "source": []
  },
  {
   "cell_type": "code",
   "execution_count": null,
   "metadata": {},
   "outputs": [],
   "source": []
  },
  {
   "cell_type": "markdown",
   "metadata": {},
   "source": [
    "## <font color=\"peru\">Body Graph</font>"
   ]
  },
  {
   "cell_type": "markdown",
   "metadata": {},
   "source": [
    "The code below crete the <font color=\"peru\">Page Body</font>. The is broken up into to basic sections, the **sidebar** and the **main panel**.\n",
    "* **sidebar:** This is where all the widgets are that control what is graphed\n",
    "* **main panel:** This small piece of code displays the graph"
   ]
  },
  {
   "cell_type": "code",
   "execution_count": null,
   "metadata": {},
   "outputs": [],
   "source": [
    "\n",
    "tempHtml  = conditionalPanel( title=\"graphMain\", condition = \"input.page != 'home'\",             \n",
    "    sidebarLayout(\n",
    "      sidebarPanel(\n",
    "        \n",
    "        #Select which data type to visualize\n",
    "        h4('Select Data Type:'),\n",
    "        selectInput('dataType', label = NULL,\n",
    "                    choices = c('CyTOF: PBMC','ELISA',\n",
    "                                'Flow Cytometry: Whole Blood', 'Flow Cytometry: PBMC',\n",
    "                                'Gene Expression: PBMC','Gene Expression: Whole Blood',\n",
    "                                'HAI Titer', \n",
    "                                'Lab Tests: Blood Count','Lab Tests: Metabolic Panel',\n",
    "                                'Lab Tests: Lipid Profile','Multiplex ELISA', 'Virus Neutralization Titer',\n",
    "                                'RNAseq: T cells', 'Newborn RNAseq'),\n",
    "                    selected = 'CyTOF: PBMC'\n",
    "        ),\n",
    "        \n",
    "        ##Conditional panels for analyte selection\n",
    "        #Which drop-down menu appears will depend on the data type the user selects.\n",
    "        conditionalPanel(condition = \"input.dataType == 'CyTOF: PBMC'\",\n",
    "                         h4('Select Analyte:'),\n",
    "                         selectInput('cytof_pbmc_analyte', label = NULL,\n",
    "                                     choices = cytof_pbmc_analytes,\n",
    "                                     selected = 'T_cells')\n",
    "        ),\n",
    "        conditionalPanel(condition = \"input.dataType == 'CyTOF: PBMC'\",\n",
    "                         checkboxInput('cytof_pbmc_processing', label = 'Normalized',\n",
    "                                       value = T)\n",
    "        ),\n",
    "        conditionalPanel(condition = \"input.dataType == 'ELISA'\",\n",
    "                         h4('Select Analyte:'),\n",
    "                         selectInput('elisa_analyte', label = NULL,\n",
    "                                     choices = elisaAnalytes,\n",
    "                                     selected = 'CXCL10')\n",
    "        ),\n",
    "        conditionalPanel(condition = \"input.dataType == 'ELISA'\",\n",
    "                         checkboxInput('elisa_processing', label = 'Normalized',\n",
    "                                       value = T)\n",
    "        ),\n",
    "        conditionalPanel(condition = \"input.dataType == 'Flow Cytometry: PBMC'\",\n",
    "                         h4('Select Analyte:'),\n",
    "                         selectInput('flow_pbmc_analyte', label = NULL,\n",
    "                                     choices =  flow_pbmc_analytes,\n",
    "                                     selected = 'T_cells')\n",
    "        ),\n",
    "        conditionalPanel(condition = \"input.dataType == 'Flow Cytometry: PBMC'\",\n",
    "                         checkboxInput('flow_pbmc_processing', label = 'Normalized',\n",
    "                                       value = T)\n",
    "        ),\n",
    "        conditionalPanel(condition = \"input.dataType == 'Flow Cytometry: Whole Blood'\",\n",
    "                         h4('Select Analyte:'),\n",
    "                         selectInput('flow_blood_analyte', label = NULL,\n",
    "                                     choices = flow_blood_analytes,\n",
    "                                     selected = 'T_cells')\n",
    "        ),\n",
    "        conditionalPanel(condition = \"input.dataType == 'Gene Expression: PBMC'\",\n",
    "                         h4('Enter HUGO Gene Symbol:'),\n",
    "                         textInput('gene_pbmc_analyte', label = NULL,\n",
    "                                   value = 'CD9')\n",
    "        ),\n",
    "        conditionalPanel(condition = \"input.dataType == 'Gene Expression: PBMC'\",\n",
    "                         checkboxInput('gene_pbmc_processing', label = 'Normalized',\n",
    "                                       value = T)\n",
    "        ),\n",
    "        conditionalPanel(condition = \"input.dataType == 'Gene Expression: Whole Blood'\",\n",
    "                         h4('Enter HUGO Gene Symbol:'),\n",
    "                         textInput('gene_blood_analyte', label = NULL,\n",
    "                                   value = 'CD9')\n",
    "        ),\n",
    "        conditionalPanel(condition = \"input.dataType == 'Gene Expression: Whole Blood'\",\n",
    "                         checkboxInput('gene_blood_processing', label = 'Normalized',\n",
    "                                       value = T)\n",
    "        ),\n",
    "        conditionalPanel(condition = \"input.dataType == 'HAI Titer'\",\n",
    "                         h4('Select Analyte:'),\n",
    "                         selectInput('hai_analyte', label = NULL,\n",
    "                                     choices = haiAnalytes,\n",
    "                                     selected = haiAnalytes[1])\n",
    "        ),\n",
    "        conditionalPanel(condition = \"input.dataType == 'HAI Titer'\",\n",
    "                         checkboxInput('hai_processing', label = 'Normalized',\n",
    "                                       value = T)\n",
    "        ),\n",
    "        conditionalPanel(condition = \"input.dataType == 'Multiplex ELISA'\",\n",
    "                         h4('Select Analyte:'),\n",
    "                         selectInput('mbaaAnalyte', label = NULL,\n",
    "                                     choices = mbaaAnalytes,\n",
    "                                     selected = 'CXCL5')\n",
    "        ),\n",
    "        conditionalPanel(condition = \"input.dataType == 'Multiplex ELISA'\",\n",
    "                         checkboxInput('mbaa_processing', label = 'Normalized',\n",
    "                                       value = T)\n",
    "        ),\n",
    "        conditionalPanel(condition = \"input.dataType == 'Lab Tests: Blood Count'\",\n",
    "                         h4('Select Analyte:'),\n",
    "                         selectInput('cbcAnalyte', label = NULL,\n",
    "                                     choices = cbcAnalytes,\n",
    "                                     selected = 'HGB_g_per_dL')\n",
    "        ),\n",
    "        conditionalPanel(condition = \"input.dataType == 'Lab Tests: Blood Count'\",\n",
    "                         checkboxInput('cbc_processing', label = 'Normalized',\n",
    "                                       value = T)\n",
    "        ),\n",
    "        conditionalPanel(condition = \"input.dataType == 'Lab Tests: Lipid Profile'\",\n",
    "                         h4('Select Analyte:'),\n",
    "                         selectInput('flpAnalyte', label = NULL,\n",
    "                                     choices = flpAnalytes,\n",
    "                                     selected = flpAnalytes[1])\n",
    "        ),\n",
    "        conditionalPanel(condition = \"input.dataType == 'Lab Tests: Metabolic Panel'\",\n",
    "                         h4('Select Analyte:'),\n",
    "                         selectInput('cmpAnalyte', label = NULL,\n",
    "                                     choices = cmpAnalytes,\n",
    "                                     selected = cmpAnalytes[1])\n",
    "        ),\n",
    "        conditionalPanel(condition = \"input.dataType == 'Virus Neutralization Titer'\",\n",
    "                         h4('Select Analyte:'),\n",
    "                         selectInput('vntAnalyte', label = NULL,\n",
    "                                     choices = vntAnalytes,\n",
    "                                     selected = 'Measles_Edmonston')\n",
    "        ),\n",
    "        conditionalPanel(condition = \"input.dataType == 'Virus Neutralization Titer'\",\n",
    "                         checkboxInput('vnt_processing', label = 'Normalized',\n",
    "                                       value = T)\n",
    "        ),\n",
    "        conditionalPanel(condition = \"input.dataType == 'RNAseq: T cells' || input.dataType == 'Newborn RNAseq' \", \n",
    "                         h4('Enter HUGO Gene Symbol:'),\n",
    "                         textInput('T_cell_analyte', label = NULL,\n",
    "                                   value = 'CD9')\n",
    "        ),\n",
    "        \n",
    "        \n",
    "        #Select age range of subjects\n",
    "        conditionalPanel(condition = \"input.dataType != 'RNAseq: T cells' && input.dataType != 'Newborn RNAseq'\",\n",
    "                         h4('Age Range:'),\n",
    "                         sliderInput(\"ageRange\",label = NULL,\n",
    "                                     min = 0,\n",
    "                                     max = 100,\n",
    "                                     value = c(0,100),\n",
    "                                     dragRange = TRUE,\n",
    "                                     round = TRUE,\n",
    "                                     step = 1),\n",
    "                         #Select male or female subjects\n",
    "                         h4('Sex:'),\n",
    "                         checkboxGroupInput(\"gender\", label = NULL,\n",
    "                                            choices = c('Female','Male'), \n",
    "                                            selected = c('Female','Male')),\n",
    "                         #Select the ethnicities of subjects\n",
    "                         h4('Ethnicities:'),\n",
    "                         checkboxGroupInput('race', label = NULL,\n",
    "                                            choices = c('White', 'Black or African American','Asian','Other'),\n",
    "                                            selected = c('White', 'Black or African American','Asian','Other')\n",
    "                         ),\n",
    "                         #How to color plot\n",
    "                         h4('Plot By:'),\n",
    "                         radioButtons('colorCode', label = NULL,\n",
    "                                      choices = c('Age & Sex','Ethnicity','Study'),\n",
    "                                      selected = 'Age & Sex'\n",
    "                         )\n",
    "        )\n",
    "        \n",
    "      ),\n",
    "      \n",
    "      # Show a plot of the selected data.\n",
    "      mainPanel(\n",
    "        plotlyOutput(\"dataPlot\"),\n",
    "        tags$div(class = 'container2', style = 'width:100; float:right',textOutput('nSubsText', inline = F)),\n",
    "        downloadButton('downloadPlot','Download Plot',class=\"btn btn-primary\"),\n",
    "        downloadButton('downloadPlotData','Download Data', class=\"btn btn-primary\")\n",
    "\n",
    "      )\n",
    "    ),    \n",
    "    \n",
    "    br()\n",
    ")    \n",
    "ui = tagAppendChild(ui, tempHtml )\n",
    "#tempHtml"
   ]
  },
  {
   "cell_type": "code",
   "execution_count": null,
   "metadata": {},
   "outputs": [],
   "source": []
  },
  {
   "cell_type": "markdown",
   "metadata": {},
   "source": [
    "## Data Explanations"
   ]
  },
  {
   "cell_type": "markdown",
   "metadata": {},
   "source": [
    "### Gene Expression"
   ]
  },
  {
   "cell_type": "code",
   "execution_count": null,
   "metadata": {},
   "outputs": [],
   "source": [
    "tempHtml = conditionalPanel( title=\"infoCytofPBMC\", condition = \"input.dataType == 'CyTOF: PBMC' &&  input.page == 'cytometry'\",   \n",
    "    div( class=\"jumbotron\", style=\"background-color: white; padding: .9em\",\n",
    "         h3('CYTOF'),\n",
    "         p(tags$small('CyTOF data of healthy human blood samples were downloaded from ImmPort web portal. Every .fcs file was pared down to 5000 events. These .fcs files constitute the “raw” CyTOF:PBMC data. All data were arcsinh transformed. For CyTOF data, the formula f(x) = arcsinh (x/8) was used. Transformation and compensation were done using the preprocessing.batch function in MetaCyto (1). The cell definitions from the Human ImmunoPhenotyping Consortium (2) were used to identify 24 types of immune cells using the searchClster.batch function in MetaCyto. Specifically, each marker in each cytometry panels was bisected into positive and negative regions. Cells fulfilling the cell definitions are identified. For example, the CD14+ CD33+ CD16- (CD16- monocytes) cell subset corresponds to the cells that fall into the CD14+ region, CD33+ region and CD16- region concurrently. The proportion of each cell subsets in the PBMC were then calculated by dividing the number of cells in a subset by the total number of cells in the blood. These steps together produce the “formatted” CyTOF: PBMC data. These data were then batch-corrected with an established empirical Bayes method (3), using study accession for batch and age, sex, and race as known covariates to produce the “formatted and normalized” CyTOF: PBMC data. ' ))\n",
    "   )                        \n",
    ")\n",
    "ui = tagAppendChild(ui, tempHtml )\n"
   ]
  },
  {
   "cell_type": "code",
   "execution_count": null,
   "metadata": {},
   "outputs": [],
   "source": []
  },
  {
   "cell_type": "code",
   "execution_count": null,
   "metadata": {},
   "outputs": [],
   "source": []
  },
  {
   "cell_type": "markdown",
   "metadata": {},
   "source": [
    "# <font color=\"purple\">Graph Functions</font>"
   ]
  },
  {
   "cell_type": "markdown",
   "metadata": {},
   "source": [
    "**<font color=\"red\">NOTE: This code is old, make it better!</font>**"
   ]
  },
  {
   "cell_type": "markdown",
   "metadata": {},
   "source": [
    "## Set data"
   ]
  },
  {
   "cell_type": "code",
   "execution_count": null,
   "metadata": {},
   "outputs": [],
   "source": [
    "tempHtml=temp= quote({\n",
    "  data <- reactive({\n",
    "    if(input$dataType == 'Multiplex ELISA' & input$mbaa_processing ==F){return(mbaa_raw[mbaa_raw$age > min(input$ageRange) & mbaa_raw$age < max(input$ageRange)\n",
    "                                                                                        & mbaa_raw$gender %in% input$gender & mbaa_raw$race %in% input$race,])}\n",
    "    else if (input$dataType == 'Flow Cytometry: PBMC' & input$flow_pbmc_processing ==F){return(flow_pbmc_raw[flow_pbmc_raw$age > min(input$ageRange) & flow_pbmc_raw$age < max(input$ageRange)\n",
    "                                                                                                             & flow_pbmc_raw$gender %in% input$gender & flow_pbmc_raw$race %in% input$race,])}\n",
    "    else if (input$dataType == 'CyTOF: PBMC' & input$cytof_pbmc_processing ==F){return(cytof_pbmc_raw[cytof_pbmc_raw$age > min(input$ageRange) & cytof_pbmc_raw$age < max(input$ageRange)\n",
    "                                                                                                      & cytof_pbmc_raw$gender %in% input$gender & cytof_pbmc_raw$race %in% input$race,])}\n",
    "    else if (input$dataType == \"Gene Expression: Whole Blood\" & input$gene_blood_processing ==F){return(gene_blood_raw[gene_blood_raw$age > min(input$ageRange) & gene_blood_raw$age < max(input$ageRange)\n",
    "                                                                                                                       & gene_blood_raw$gender %in% input$gender & gene_blood_raw$race %in% input$race,])}\n",
    "    else if (input$dataType == \"Gene Expression: PBMC\" & input$gene_pbmc_processing ==F){return(gene_pbmc_raw[gene_pbmc_raw$age > min(input$ageRange) & gene_pbmc_raw$age < max(input$ageRange)\n",
    "                                                                                                              & gene_pbmc_raw$gender %in% input$gender & gene_pbmc_raw$race %in% input$race,])}\n",
    "    else if (input$dataType == \"ELISA\" & input$elisa_processing ==F){return(elisa_raw[elisa_raw$age > min(input$ageRange) & elisa_raw$age < max(input$ageRange)\n",
    "                                                                                      & elisa_raw$gender %in% input$gender & elisa_raw$race %in% input$race,])}\n",
    "    else if (input$dataType == \"HAI Titer\"& input$hai_processing ==F){return(hai_raw[hai_raw$age > min(input$ageRange) & hai_raw$age < max(input$ageRange)\n",
    "                                                                                     & hai_raw$gender %in% input$gender & hai_raw$race %in% input$race,])}\n",
    "    else if (input$dataType == \"Lab Tests: Blood Count\" & input$cbc_processing ==F){return(cbc_raw[cbc$age > min(input$ageRange) & cbc_raw$age < max(input$ageRange)\n",
    "                                                                                                   & cbc_raw$gender %in% input$gender & cbc_raw$race %in% input$race,])}\n",
    "    else if (input$dataType == 'Virus Neutralization Titer' & input$vnt_processing ==F){return(vnt_raw[vnt_raw$age > min(input$ageRange) & vnt_raw$age < max(input$ageRange)\n",
    "                                                                                                       & vnt_raw$gender %in% input$gender & vnt_raw$race %in% input$race,])}\n",
    "    else{\n",
    "      switch(input$dataType,\n",
    "             \"CyTOF: PBMC\" = cytof_pbmc[cytof_pbmc$age > min(input$ageRange) & cytof_pbmc$age < max(input$ageRange)\n",
    "                                        & cytof_pbmc$gender %in% input$gender & cytof_pbmc$race %in% input$race,],\n",
    "             \"ELISA\" = elisa[elisa$age > min(input$ageRange) & elisa$age < max(input$ageRange)\n",
    "                             & elisa$gender %in% input$gender & elisa$race %in% input$race,],\n",
    "             \"Flow Cytometry: PBMC\" = flow_pbmc[flow_pbmc$age > min(input$ageRange) & flow_pbmc$age < max(input$ageRange)\n",
    "                                                & flow_pbmc$gender %in% input$gender & flow_pbmc$race %in% input$race,],\n",
    "             \"Flow Cytometry: Whole Blood\" = flow_blood_raw[flow_blood_raw$age > min(input$ageRange) & flow_blood_raw$age < max(input$ageRange)\n",
    "                                                            & flow_blood_raw$gender %in% input$gender & flow_blood_raw$race %in% input$race,],\n",
    "             \"Gene Expression: Whole Blood\" = gene_blood[gene_blood$age > min(input$ageRange) & gene_blood$age < max(input$ageRange)\n",
    "                                                         & gene_blood$gender %in% input$gender & gene_blood$race %in% input$race,],\n",
    "             \"Gene Expression: PBMC\" = gene_pbmc[gene_pbmc$age > min(input$ageRange) & gene_pbmc$age < max(input$ageRange)\n",
    "                                                 & gene_pbmc$gender %in% input$gender & gene_pbmc$race %in% input$race,],\n",
    "             \"HAI Titer\" = hai[hai$age > min(input$ageRange) & hai$age < max(input$ageRange)\n",
    "                               & hai$gender %in% input$gender & hai$race %in% input$race,],\n",
    "             \"HLA Type\" = hla[hla$age > min(input$ageRange) & hla$age < max(input$ageRange)\n",
    "                              & hla$gender %in% input$gender & hla$race %in% input$race,],\n",
    "             \"Multiplex ELISA\" = mbaa[mbaa$age > min(input$ageRange) & mbaa$age < max(input$ageRange)\n",
    "                                      & mbaa$gender %in% input$gender & mbaa$race %in% input$race,],\n",
    "             \"Lab Tests: Blood Count\" = cbc[cbc$age > min(input$ageRange) & cbc$age < max(input$ageRange)\n",
    "                                            & cbc$gender %in% input$gender & cbc$race %in% input$race,],\n",
    "             \"Lab Tests: Lipid Profile\" = flp[flp$age > min(input$ageRange) & flp$age < max(input$ageRange)\n",
    "                                              & flp$gender %in% input$gender & flp$race %in% input$race,],\n",
    "             \"Lab Tests: Metabolic Panel\" = cmp[cmp$age > min(input$ageRange) & cmp$age < max(input$ageRange)\n",
    "                                                & cmp$gender %in% input$gender & cmp$race %in% input$race,],\n",
    "             'Virus Neutralization Titer' = vnt[vnt$age > min(input$ageRange) & vnt$age < max(input$ageRange)\n",
    "                                                & vnt$gender %in% input$gender & vnt$race %in% input$race,],\n",
    "             'RNAseq: T cells' = gene_Tcell_raw,\n",
    "             'Newborn RNAseq' = gambia_rna\n",
    "      )}\n",
    "  })\n",
    "})\n",
    "body(server) = callConcat( body(server), temp )\n",
    "\n"
   ]
  },
  {
   "cell_type": "code",
   "execution_count": null,
   "metadata": {},
   "outputs": [],
   "source": []
  },
  {
   "cell_type": "code",
   "execution_count": null,
   "metadata": {},
   "outputs": [],
   "source": [
    "#dim(gene_Tcell_raw)"
   ]
  },
  {
   "cell_type": "code",
   "execution_count": null,
   "metadata": {},
   "outputs": [],
   "source": [
    "#gene_Tcell_raw[1:10,'CD9']"
   ]
  },
  {
   "cell_type": "code",
   "execution_count": null,
   "metadata": {},
   "outputs": [],
   "source": [
    "#checkit = gene_Tcell_raw[!is.na(gene_Tcell_raw[,'CD9']),1:3]"
   ]
  },
  {
   "cell_type": "code",
   "execution_count": null,
   "metadata": {},
   "outputs": [],
   "source": [
    "#data.frame(cbind( gene_Tcell_raw , checkit ))"
   ]
  },
  {
   "cell_type": "code",
   "execution_count": null,
   "metadata": {},
   "outputs": [],
   "source": [
    "#testit = !is.na(gene_Tcell_raw[,'CD9'])"
   ]
  },
  {
   "cell_type": "code",
   "execution_count": null,
   "metadata": {},
   "outputs": [],
   "source": [
    "#gene_Tcell_raw[!is.na(gene_Tcell_raw[,'CD9']),1:3]"
   ]
  },
  {
   "cell_type": "code",
   "execution_count": null,
   "metadata": {},
   "outputs": [],
   "source": []
  },
  {
   "cell_type": "markdown",
   "metadata": {},
   "source": [
    "## Set analytes"
   ]
  },
  {
   "cell_type": "code",
   "execution_count": null,
   "metadata": {},
   "outputs": [],
   "source": [
    "tempHtml=temp= quote({\n",
    "#select the analyte for plotting based on user input\n",
    "  analyte <- reactive({switch(input$dataType,\n",
    "                              \"CyTOF: PBMC\" = input$cytof_pbmc_analyte,\n",
    "                              \"ELISA\" = input$elisa_analyte,\n",
    "                              \"Flow Cytometry: PBMC\" = input$flow_pbmc_analyte,\n",
    "                              \"Flow Cytometry: Whole Blood\" = input$flow_blood_analyte,\n",
    "                              \"Gene Expression: Whole Blood\" = input$gene_blood_analyte,\n",
    "                              \"Gene Expression: PBMC\" = input$gene_pbmc_analyte,\n",
    "                              \"Gene Set Enrichment: Whole Blood\" = input$gsea_analyte,\n",
    "                              \"HAI Titer\" = input$hai_analyte,\n",
    "                              \"HLA Type\" = input$hla_analyte,\n",
    "                              \"Multiplex ELISA\" = input$mbaaAnalyte,\n",
    "                              \"Lab Tests: Blood Count\" = input$cbcAnalyte,\n",
    "                              \"Lab Tests: Lipid Profile\" = input$flpAnalyte,\n",
    "                              \"Lab Tests: Metabolic Panel\" = input$cmpAnalyte,\n",
    "                              \"Virus Neutralization Titer\" = input$vntAnalyte,\n",
    "                              \"RNAseq: T cells\" = input$T_cell_analyte,\n",
    "                              \"Newborn RNAseq\" = input$T_cell_analyte\n",
    "  )})\n",
    "})\n",
    "body(server) = callConcat( body(server), temp )"
   ]
  },
  {
   "cell_type": "markdown",
   "metadata": {},
   "source": [
    "## Set Up Plot"
   ]
  },
  {
   "cell_type": "code",
   "execution_count": null,
   "metadata": {},
   "outputs": [],
   "source": [
    "tempHtml=temp= quote({\n",
    "  #Create a plot that can be downloaded. Shiny doesn't allow you to grab output objects (like output$dataPlot) for use in later functions.\n",
    "  plotInput <- reactive({\n",
    "    \n",
    "    #Decide based on data type whether the y-axis should be log-scaled\n",
    "    if (input$dataType == 'Gene Expression: Whole Blood' || input$dataType == 'Gene Expression: PBMC' || input$dataType == 'Multiplex ELISA'|| input$dataType == 'RNAseq: T cells'){\n",
    "      scaleChoice = 'log10'\n",
    "    } else { \n",
    "      scaleChoice = 'identity'\n",
    "    };\n",
    "    \n",
    "    #pull the data\n",
    "    thisDemo <- reactive({\n",
    "      if(input$dataType != 'RNAseq: T cells'){\n",
    "        data()[!is.na(data()[,analyte()]),1:8]\n",
    "        }else{\n",
    "        data()[!is.na(data()[,analyte()]),1:3]\n",
    "      }\n",
    "      })\n",
    "    thisData <- reactive({data()[!is.na(data()[,analyte()]), as.character(analyte())]})\n",
    "    dataBind <- reactive({data.frame(cbind(thisData(),thisDemo()))})\n",
    "    thisAnalyte <- reactive({analyte()})\n",
    "      \n",
    "    #make y axis labels\n",
    "    ylab <- reactive({ \n",
    "      switch(input$dataType,\n",
    "             \"CyTOF: PBMC\" = paste(gsub('_',' ',analyte()),'(percent)'),\n",
    "             \"ELISA\"= paste(analyte(), '(Concentration in pg/mL)'),\n",
    "             \"Flow Cytometry: PBMC\" = paste(gsub('_',' ',analyte()),'(percent)'),\n",
    "             \"Flow Cytometry: Whole Blood\" = paste(gsub('_',' ',analyte()), '(percent)'),\n",
    "             \"Gene Expression: Whole Blood\" = paste(analyte(), '(Expression)'),\n",
    "             \"Gene Expression: PBMC\" = paste(analyte(), '(Expression)'),\n",
    "             \"Gene Set Enrichment: Whole Blood\" = paste(analyte()),\n",
    "             \"HAI Titer\" = paste(analyte(), '(HAI Titer)'),\n",
    "             \"Multiplex ELISA\" = paste(analyte(), '(Concentration in pg/mL)'),\n",
    "             \"Lab Tests: Blood Count\" = analyte(),\n",
    "             \"Lab Tests: Lipid Profile\" = analyte(),\n",
    "             \"Lab Tests: Metabolic Panel\" = analyte(),\n",
    "             \"Virus Neutralization Titer\" = paste(analyte(), '(Virus Neutralization Titer)'),\n",
    "             \"RNAseq: T cells\" = paste(analyte(), '(Expression)'),\n",
    "             \"Newborn RNAseq\" = paste(analyte(), '(Expression)')\n",
    "      )\n",
    "    })\n",
    "    #generate a title\n",
    "    title <- reactive({paste(gsub('_',' ',analyte()), 'by Subject')})      \n",
    "      \n",
    "      \n",
    "    \n",
    "    if( input$dataType != 'RNAseq: T cells' && input$dataType != 'Newborn RNAseq' ){ \n",
    "      #if plotting by age and sex\n",
    "      if(input$colorCode == 'Age & Sex'){\n",
    "        p <- ggplot(data = dataBind(), \n",
    "                    aes(x=dataBind()[,'age'], y=dataBind()[,1], colour = factor(dataBind()[,'gender']))) +\n",
    "          geom_point()  + \n",
    "          labs(x = 'Subject Ages', y = ylab(), title = title(), fill = NULL, colour = NULL)\n",
    "        p +  scale_y_continuous(trans=scaleChoice) + stat_smooth(method=loess,data = dataBind(),aes(fill = factor(dataBind()[,'gender'])))+\n",
    "            theme_gdocs() \n",
    "      } \n",
    "      \n",
    "      #if plotting by study\n",
    "      else if(input$colorCode == 'Study'){\n",
    "        p <- ggplot(data = dataBind(), aes(x=dataBind()[,'age'], y=dataBind()[,1], colour = factor(dataBind()[,'study_accession']))) +\n",
    "          geom_point()  + \n",
    "          labs(x = 'Subject Ages', y = ylab(), title = title(), fill = NULL, colour = NULL)\n",
    "        p +  scale_y_continuous(trans=scaleChoice) + stat_smooth(method=loess,data = dataBind(),aes(fill = factor(dataBind()[,'study_accession'])))+\n",
    "            theme_gdocs() \n",
    "      }\n",
    "      \n",
    "      #if plotting by ethnicity\n",
    "      else if(input$colorCode == 'Ethnicity'){\n",
    "        par(las=1, bty='l', lwd=2, family  = 'sans',cex.axis=1.25, cex.lab=1.25, cex.main=1.75)\n",
    "        med = median(dataBind()[,1])\n",
    "        p <- ggplot(data = dataBind(),aes(x = dataBind()[,'race'], y = dataBind()[,1])) \n",
    "        p + geom_violin(trim = FALSE, fill = 'deepskyblue4', inherit.aes = T)+\n",
    "          geom_dotplot(binaxis='y', stackdir='center', dotsize=.2) +\n",
    "          stat_summary_bin(fun.y = median, geom = 'line', lwd = 1, aes(group = dataBind()[,'race'])) +\n",
    "          geom_hline(aes(yintercept = med), linetype = 'dashed') +\n",
    "          labs(x = 'Race', y = ylab(), title = title(), fill = NULL, colour = NULL) + \n",
    "          theme_gdocs() \n",
    "          #scale_y_continuous(trans=scaleChoice) +   #<-- CAUSES ERRORS!\n",
    "          # #<-- CAUSES ERRORS!\n",
    "      }\n",
    "    }       \n",
    "\n",
    "    # Plot RNA T-Cell Data\n",
    "    else if( input$dataType == 'RNAseq: T cells' ){ \n",
    "          par(las=1, bty='l', lwd=2, family  = 'sans',cex.axis=1.25, cex.lab=1.25, cex.main=1.75)\n",
    "          med = median(dataBind()[,1])\n",
    "          p <- ggplot(data = dataBind(),aes(x = gsub(\" CD3.*\",\"\",dataBind()[,'CellType']), y = dataBind()[,1])) \n",
    "          p + geom_violin(trim = FALSE, fill = 'deepskyblue4', inherit.aes = T)+\n",
    "            geom_dotplot(binaxis='y', stackdir='center', dotsize=.2) +\n",
    "            stat_summary_bin(fun.y = median, geom = 'line', lwd = 1, aes(group = dataBind()[,'CellType'])) +\n",
    "            geom_hline(aes(yintercept = med), linetype = 'dashed') +\n",
    "            labs(x = 'Cell Type', y = ylab(), title = title(), fill = NULL, colour = NULL) +\n",
    "            theme(axis.text=element_text(size=16), axis.title=element_text(size=18),\n",
    "                  plot.title=element_text(size = 20, face = 'bold'), plot.margin=unit(c(.5,.5,.5,.5),'cm'))\n",
    "            # scale_y_continuous(trans=scaleChoice) #<-- CAUSES ERRORS!!!\n",
    "    }\n",
    "    \n",
    "    # Plot RNA Gambia Data\n",
    "    else if( input$dataType == 'Newborn RNAseq' ){\n",
    "        num = which(gambia_rna$hgnc==analyte() )\n",
    "        gene_name = gambia_rna[num,2]\n",
    "        a_row = gambia_rna[num,3:dim(gambia_rna)[2]]\n",
    "        \n",
    "        # Put data in data frame\n",
    "        cols = list()\n",
    "        to_graph= data.frame( counts = as.numeric(a_row) )\n",
    "        \n",
    "        # groups data by age \n",
    "        groups = c()\n",
    "        for( i in names(a_row) ){\n",
    "          groups= c( groups, substr(i, start=nchar(i)-1, stop=nchar(i) )) \n",
    "        }\n",
    "        to_graph$groups = as.factor( groups )\n",
    "        \n",
    "        # create X variable for scatter\n",
    "        `%+=%` = function(e1,e2) eval.parent(substitute(e1 <- e1 + e2))\n",
    "        to_graph$X = rnorm( length(a_row) , mean = 0, sd = .15 )\n",
    "        to_graph$X[ grep(\"*D0\", names(a_row))  ] %+=% 0\n",
    "        to_graph$X[ grep(\"*D1\", names(a_row))  ] %+=% 1\n",
    "        to_graph$X[ grep(\"*D3\", names(a_row))  ] %+=% 3\n",
    "        to_graph$X[ grep(\"*D7\", names(a_row))  ] %+=% 7\n",
    "        \n",
    "        p = ggplot( to_graph, aes(x=X, y=counts, color=groups) ) + \n",
    "          geom_point() +\n",
    "          labs(x='Days Alive', y=\"Gene Expression (counts)\", title=paste(gene_name,\" Expression in Newborns\"), fill = NULL, colour = NULL ) +\n",
    "          theme_gdocs()     \n",
    "    }\n",
    "    \n",
    "        \n",
    "  }) #<-- plotInput end\n",
    "})  #<-- Quote end\n",
    "body(server) = callConcat( body(server), temp )\n"
   ]
  },
  {
   "cell_type": "code",
   "execution_count": null,
   "metadata": {},
   "outputs": [],
   "source": [
    "tempHtml=temp= quote({\n",
    "  #Output plot (created below) on the Visualize page\n",
    "  output$dataPlot <- renderPlotly({ plotInput() })\n",
    "    \n",
    "  #Calculate and print the number of distinct subjects in the plot\n",
    "  #nSubs <- reactive({sum(!is.na(thisData()))})\n",
    "  #nSubsMessage <- reactive({paste('Distinct Subjects:',nSubs())})\n",
    "  #output$nSubsText <- renderText({nSubsMessage()})\n",
    "})\n",
    "body(server) = callConcat( body(server), temp )"
   ]
  },
  {
   "cell_type": "code",
   "execution_count": null,
   "metadata": {},
   "outputs": [],
   "source": []
  },
  {
   "cell_type": "code",
   "execution_count": null,
   "metadata": {},
   "outputs": [],
   "source": []
  },
  {
   "cell_type": "code",
   "execution_count": null,
   "metadata": {},
   "outputs": [],
   "source": []
  },
  {
   "cell_type": "markdown",
   "metadata": {},
   "source": [
    "# <font color=\"blue\">Run  Shiny</font> "
   ]
  },
  {
   "cell_type": "markdown",
   "metadata": {},
   "source": [
    "We change the following options so that <font color=\"blue\">RShiny</font> runs at an exposed port and on the computer's public host."
   ]
  },
  {
   "cell_type": "code",
   "execution_count": null,
   "metadata": {},
   "outputs": [],
   "source": [
    "options(shiny.port = 8888)\n",
    "options(shiny.host = \"0.0.0.0\")"
   ]
  },
  {
   "cell_type": "markdown",
   "metadata": {},
   "source": [
    "We run the app!"
   ]
  },
  {
   "cell_type": "code",
   "execution_count": null,
   "metadata": {},
   "outputs": [],
   "source": [
    "shinyApp(ui = ui, server = server)"
   ]
  },
  {
   "cell_type": "code",
   "execution_count": null,
   "metadata": {},
   "outputs": [],
   "source": []
  },
  {
   "cell_type": "code",
   "execution_count": null,
   "metadata": {},
   "outputs": [],
   "source": []
  },
  {
   "cell_type": "markdown",
   "metadata": {},
   "source": [
    "# <font color=\"gray\">Old Code </font>"
   ]
  },
  {
   "cell_type": "markdown",
   "metadata": {},
   "source": [
    "### Visualization"
   ]
  },
  {
   "cell_type": "markdown",
   "metadata": {},
   "source": [
    "``` python\n",
    "##################################\n",
    "#  Visualization\n",
    "##################################           \n",
    "\n",
    "conditionalPanel(condition = \"input.page != 'home'\",\n",
    "\n",
    "    sidebarLayout(\n",
    "      sidebarPanel(\n",
    "        \n",
    "        #Select which data type to visualize\n",
    "        h4('Select Data Type:'),\n",
    "        selectInput('dataType', label = NULL,\n",
    "                    choices = c('CyTOF: PBMC','ELISA',\n",
    "                                'Flow Cytometry: Whole Blood', 'Flow Cytometry: PBMC',\n",
    "                                'Gene Expression: PBMC','Gene Expression: Whole Blood',\n",
    "                                'HAI Titer', \n",
    "                                'Lab Tests: Blood Count','Lab Tests: Metabolic Panel',\n",
    "                                'Lab Tests: Lipid Profile','Multiplex ELISA', 'Virus Neutralization Titer',\n",
    "                                'RNAseq: T cells','Newborn RNAseq'),\n",
    "                    selected = 'CyTOF: PBMC'\n",
    "        ),\n",
    "        \n",
    "        ##Conditional panels for analyte selection\n",
    "        #Which drop-down menu appears will depend on the data type the user selects.\n",
    "        conditionalPanel(condition = \"input.dataType == 'CyTOF: PBMC'\",\n",
    "                         h4('Select Analyte:'),\n",
    "                         selectInput('cytof_pbmc_analyte', label = NULL,\n",
    "                                     choices = cytof_pbmc_analytes,\n",
    "                                     selected = 'T_cells')\n",
    "        ),\n",
    "        conditionalPanel(condition = \"input.dataType == 'CyTOF: PBMC'\",\n",
    "                         checkboxInput('cytof_pbmc_processing', label = 'Normalized',\n",
    "                                       value = T)\n",
    "        ),\n",
    "        conditionalPanel(condition = \"input.dataType == 'ELISA'\",\n",
    "                         h4('Select Analyte:'),\n",
    "                         selectInput('elisa_analyte', label = NULL,\n",
    "                                     choices = elisaAnalytes,\n",
    "                                     selected = 'CXCL10')\n",
    "        ),\n",
    "        conditionalPanel(condition = \"input.dataType == 'ELISA'\",\n",
    "                         checkboxInput('elisa_processing', label = 'Normalized',\n",
    "                                       value = T)\n",
    "        ),\n",
    "        conditionalPanel(condition = \"input.dataType == 'Flow Cytometry: PBMC'\",\n",
    "                         h4('Select Analyte:'),\n",
    "                         selectInput('flow_pbmc_analyte', label = NULL,\n",
    "                                     choices = flow_pbmc_analytes,\n",
    "                                     selected = 'T_cells')\n",
    "        ),\n",
    "        conditionalPanel(condition = \"input.dataType == 'Flow Cytometry: PBMC'\",\n",
    "                         checkboxInput('flow_pbmc_processing', label = 'Normalized',\n",
    "                                       value = T)\n",
    "        ),\n",
    "        conditionalPanel(condition = \"input.dataType == 'Flow Cytometry: Whole Blood'\",\n",
    "                         h4('Select Analyte:'),\n",
    "                         selectInput('flow_blood_analyte', label = NULL,\n",
    "                                     choices = flow_blood_analytes,\n",
    "                                     selected = 'T_cells')\n",
    "        ),\n",
    "        conditionalPanel(condition = \"input.dataType == 'Gene Expression: PBMC'\",\n",
    "                         h4('Enter HUGO Gene Symbol:'),\n",
    "                         textInput('gene_pbmc_analyte', label = NULL,\n",
    "                                   value = 'CD9')\n",
    "        ),\n",
    "        conditionalPanel(condition = \"input.dataType == 'Gene Expression: PBMC'\",\n",
    "                         checkboxInput('gene_pbmc_processing', label = 'Normalized',\n",
    "                                       value = T)\n",
    "        ),\n",
    "        conditionalPanel(condition = \"input.dataType == 'Gene Expression: Whole Blood'\",\n",
    "                         h4('Enter HUGO Gene Symbol:'),\n",
    "                         textInput('gene_blood_analyte', label = NULL,\n",
    "                                   value = 'CD9')\n",
    "        ),\n",
    "        conditionalPanel(condition = \"input.dataType == 'Gene Expression: Whole Blood'\",\n",
    "                         checkboxInput('gene_blood_processing', label = 'Normalized',\n",
    "                                       value = T)\n",
    "        ),\n",
    "        conditionalPanel(condition = \"input.dataType == 'HAI Titer'\",\n",
    "                         h4('Select Analyte:'),\n",
    "                         selectInput('hai_analyte', label = NULL,\n",
    "                                     choices = haiAnalytes,\n",
    "                                     selected = haiAnalytes[1])\n",
    "        ),\n",
    "        conditionalPanel(condition = \"input.dataType == 'HAI Titer'\",\n",
    "                         checkboxInput('hai_processing', label = 'Normalized',\n",
    "                                       value = T)\n",
    "        ),\n",
    "        conditionalPanel(condition = \"input.dataType == 'Multiplex ELISA'\",\n",
    "                         h4('Select Analyte:'),\n",
    "                         selectInput('mbaaAnalyte', label = NULL,\n",
    "                                     choices = mbaaAnalytes,\n",
    "                                     selected = 'CXCL5')\n",
    "        ),\n",
    "        conditionalPanel(condition = \"input.dataType == 'Multiplex ELISA'\",\n",
    "                         checkboxInput('mbaa_processing', label = 'Normalized',\n",
    "                                       value = T)\n",
    "        ),\n",
    "        conditionalPanel(condition = \"input.dataType == 'Lab Tests: Blood Count'\",\n",
    "                         h4('Select Analyte:'),\n",
    "                         selectInput('cbcAnalyte', label = NULL,\n",
    "                                     choices = cbcAnalytes,\n",
    "                                     selected = 'HGB_g_per_dL')\n",
    "        ),\n",
    "        conditionalPanel(condition = \"input.dataType == 'Lab Tests: Blood Count'\",\n",
    "                         checkboxInput('cbc_processing', label = 'Normalized',\n",
    "                                       value = T)\n",
    "        ),\n",
    "        conditionalPanel(condition = \"input.dataType == 'Lab Tests: Lipid Profile'\",\n",
    "                         h4('Select Analyte:'),\n",
    "                         selectInput('flpAnalyte', label = NULL,\n",
    "                                     choices = flpAnalytes,\n",
    "                                     selected = flpAnalytes[1])\n",
    "        ),\n",
    "        conditionalPanel(condition = \"input.dataType == 'Lab Tests: Metabolic Panel'\",\n",
    "                         h4('Select Analyte:'),\n",
    "                         selectInput('cmpAnalyte', label = NULL,\n",
    "                                     choices = cmpAnalytes,\n",
    "                                     selected = cmpAnalytes[1])\n",
    "        ),\n",
    "        conditionalPanel(condition = \"input.dataType == 'Virus Neutralization Titer'\",\n",
    "                         h4('Select Analyte:'),\n",
    "                         selectInput('vntAnalyte', label = NULL,\n",
    "                                     choices = vntAnalytes,\n",
    "                                     selected = 'Measles_Edmonston')\n",
    "        ),\n",
    "        conditionalPanel(condition = \"input.dataType == 'Virus Neutralization Titer'\",\n",
    "                         checkboxInput('vnt_processing', label = 'Normalized',\n",
    "                                       value = T)\n",
    "        ),\n",
    "        conditionalPanel(condition = \"input.dataType == 'RNAseq: T cells' || input.dataType == 'Newborn RNAseq' \",\n",
    "                         h4('Enter HUGO Gene Symbol:'),\n",
    "                         textInput('T_cell_analyte', label = NULL,\n",
    "                                   value = 'CD9')\n",
    "        ),\n",
    "        \n",
    "        \n",
    "        #Select age range of subjects\n",
    "        conditionalPanel(condition = \"input.dataType != 'RNAseq: T cells' && input.dataType != 'Newborn RNAseq' \",\n",
    "                         h4('Age Range:'),\n",
    "                         sliderInput(\"ageRange\",label = NULL,\n",
    "                                     min = 0,\n",
    "                                     max = 100,\n",
    "                                     value = c(0,100),\n",
    "                                     dragRange = TRUE,\n",
    "                                     round = TRUE,\n",
    "                                     step = 1),\n",
    "                         #br(),\n",
    "                         \n",
    "                         #Select male or female subjects\n",
    "                         h4('Sex:'),\n",
    "                         checkboxGroupInput(\"gender\", label = NULL,\n",
    "                                            choices = c('Female','Male'), \n",
    "                                            selected = c('Female','Male')),\n",
    "                         #br(),\n",
    "                         \n",
    "                         #Select the ethnicities of subjects\n",
    "                         h4('Ethnicities:'),\n",
    "                         checkboxGroupInput('race', label = NULL,\n",
    "                                            choices = c('White', 'Black or African American','Asian','Other'),\n",
    "                                            selected = c('White', 'Black or African American','Asian','Other')\n",
    "                         ),\n",
    "                         \n",
    "                         #How to color plot\n",
    "                         h4('Plot By:'),\n",
    "                         radioButtons('colorCode', label = NULL,\n",
    "                                      choices = c('Age & Sex','Ethnicity','Study'),\n",
    "                                      selected = 'Age & Sex'\n",
    "                         )\n",
    "        )\n",
    "        \n",
    "      ),\n",
    "      \n",
    "      # Show a plot of the selected data.\n",
    "      mainPanel(\n",
    "        plotlyOutput(\"dataPlot\"),\n",
    "        tags$div(class = 'container2', style = 'width:100; float:right',textOutput('nSubsText', inline = F)),\n",
    "        downloadButton('downloadPlot','Download Plot',class=\"btn btn-primary\"),\n",
    "        downloadButton('downloadPlotData','Download Data', class=\"btn btn-primary\")\n",
    "\n",
    "      )\n",
    "    ),    \n",
    "    \n",
    "    br()\n",
    "),    \n",
    "\n",
    "\n",
    "\n",
    " ##################################\n",
    " #  Home Main Page\n",
    " ##################################  \n",
    "conditionalPanel(title = \"homeMain\", condition = \"input.page == 'home'\",\n",
    "   div(class=\"jumbotron\", style=\"background-color: white; padding: .9em\",\n",
    "\n",
    "        column(12, column(7,tags$u( h2(\"Made with ImmPort\", class=\"text-center\")  ))),\n",
    "        column( 7, img(src='Figure_1.jpeg', class=\"img-responsive\") ),\n",
    "        column( 5, \n",
    "                p(\"Data from 242 studies and 44,775 subjects (including flow cytometry and CyTOF, mRNA expression, secreted protein levels [including cy- tokines, chemokines, and growth factors], clinical lab tests, HAI titers, HLA type, and others) were collected from the NIAID Immunology Data and Analysis Portal, ImmPort (http://www.immport. org/ ). We hand curated the entire contents of ImmPort to filter for normal healthy control human subjects. Each of the 10 data types was system- atically processed and harmonized. These data constitute the largest compendium to date of cellular and molecular immune measurements on healthy normal human subjects.\")\n",
    "              ),\n",
    "       p(\".\"),\n",
    "       HTML(\"<hr>\"),\n",
    "       \n",
    "        # Links for external sites\n",
    "        column( 5, \n",
    "                h3(\"Learn More\"), \n",
    "                p(\n",
    "                  a(href = 'http://www.immport.org/immport-open/public/home/home', 'ImmPort Homepage'),\n",
    "                  br(),\n",
    "                  a(href = 'https://www.cell.com/cell-reports/fulltext/S2211-1247(18)31451-7', '10,000 Immunomes Paper', target = \"_blank\"),\n",
    "                  br(),\n",
    "                  a(href = 'https://www.cell.com/cell-reports/fulltext/S2211-1247(18)31080-5', 'MetaCyto Cytometry Analysis Paper', target = \"_blank\"),\n",
    "                  br(),\n",
    "                  a(href = 'https://bioconductor.org/packages/release/bioc/html/MetaCyto.html', 'MetaCyto Cytometry Analysis Code', target = \"_blank\"),\n",
    "                  br(),\n",
    "                  a(href = 'https://www.bu.edu/jlab/wp-assets/ComBat/Abstract.html', 'ComBat Batch Correction Algorithm', target = \"_blank\"),\n",
    "                  br(),\n",
    "                  a(href = 'mailto:BISC_Helpdesk@niaid.nih.gov','Contact Us', target = \"_blank\")\n",
    "              )\n",
    "        ),\n",
    "\n",
    "       \n",
    "       \n",
    "      column( 5,\n",
    "              tags$u( h2(\"10,000 Subjects\")  ),\n",
    "              p(\"Counts of distinct subjects for whom raw data of each type is represented in the initial release of the 10KIP. Because many subjects contributed multiple measurement types, the totals across all measurement types substantially exceed the number of distinct subjects.\")\n",
    "            ),\n",
    "      column( 6,\n",
    "              img(src='Table_1.jpg', class=\"img-responsive\") \n",
    "            ),\n",
    "\n",
    "      column(5,\n",
    "         h3(\"Video Tutorial\") , \n",
    "         div( class=\"embed-responsive embed-responsive-16by9\",\n",
    "              HTML('<iframe width=\"200\" height=\"100\" src=\"https://www.youtube.com/embed/iCGEv6MGUVg\" class=\"embed-responsive-item\"></iframe>')\n",
    "         )\n",
    "      ),\n",
    "      \n",
    "      \n",
    "      \n",
    "      column(12,\n",
    "        tags$hr(),     \n",
    "        h3('Cite 10k Immunomes'),\n",
    "        p(tags$small(\"Zalocusky KA, Kan MJ, Hu Z, Dunn P, Thomson E, Wiser J, Bhattacharya S, Butte AJ. The 10,000 Immunomes Project: Building a Resource for Human Immunology. Cell reports. 2018 Oct 9;25(2):513-22. PMID:30304689\"  ))\n",
    "      ),\n",
    "      \n",
    "      column(12,\n",
    "        h3('REFERENCES'),\n",
    "        p(tags$small('1) Hu Z, Jujjavarapu C, Hughey JJ, Andorf S, Lee H, Gherardini PF, Spitzer MH, et al. Meta-analysis of Cytometry Data Reveals Racial Differences in Immune Cells. Cell Reports. 2018 Jul 31;24(5):1377-88. ' )),\n",
    "        p(tags$small('2) Finak G, Langweiler M, Jaimes M, Malek M, Taghiyar J, Korin Y, et al. Standardizing Flow Cytometry Immunophenotyping Analysis from the Human ImmunoPhenotyping Consortium. Scientific Reports. 2016 Aug 10;6(1):20686.' )),\n",
    "        p(tags$small('3) Johnson WE, Li C, Rabinovic A. Adjusting batch effects in microarray expression data using empirical Bayes methods. Biostat. 2007 Jan 1;8(1):118–27. ' )),\n",
    "        p(tags$small('4) Irizarry RA, Hobbs B, Collin F, Beazer‐Barclay YD, Antonellis KJ, Scherf U, et al. Exploration, normalization, and summaries of high density oligonucleotide array probe level data. Biostatistics. 2003 Apr 1;4(2):249–64. ' )),\n",
    "        p(tags$small('5) Zalocusky KA, Kan MJ, Hu Z, Dunn P, Thomson E, Wiser J, Bhattacharya S, Butte AJ. The 10,000 Immunomes Project: Building a Resource for Human Immunology. Cell reports. 2018 Oct 9;25(2):513-22. PMID:30304689' ))\n",
    "      ),\n",
    "      p(\".\")\n",
    "   ) #<- end jumbotron\n",
    "), #<-- end conidtional panel\n",
    "\n",
    "\n",
    "   \n",
    "\n",
    "\n",
    "##################################\n",
    "#  Gene Expression Main Page\n",
    "##################################  \n",
    "conditionalPanel(title = \"geneMain\", condition = \"input.page == 'gene'\",\n",
    "\n",
    "   tags$div(\n",
    "     br(),\n",
    "     #h3(\"Data Guide\" ),\n",
    "     br(),\n",
    "     #h3('GENE EXPRESSION'),\n",
    "     #p('Gene expression array data were obtained in three formats. Data in their original formats (.CEL files, series matrix files, etc) constitute the “raw” gene expression data. For data collected on Affymetrix platforms, we utilized the ReadAffy utility in the affy Bioconductor package to read in raw .CEL files. The rma utility was used to conduct Robust Multichip Average (rma) background correction (as in (4)), quantile normalization, and log2 normalization of the data. For data collected on Illumina platforms and stored in the Gene Expression Omnibus (GEO) database, we utilized the getGEO utility in the GEOquery Bioconductor package to read the expression files and the preprocessCore package to conduction rma background correction, quantile normalization, and log2 normalization of the gene expression data. Finally, for data collected on Illumina platforms but not stored in GEO, we utilized the read.ilmn utility of the limma Bioconductor package to read in the data, and the neqc function to rma background correct, quantile normalize, and log2 normalize the gene expression data. In all instances, probe IDs were converted to Entrez Gene IDs. Where multiple probes mapped to the same Entrez Gene ID, the median value across probes was used to represent the expression value of the corresponding gene. The background-corrected and normalized datasets were combined based on common Entrez IDs, missing values were imputed with a k-nearest neighbors algorithm (R package: impute, function: impute.knn) using k = 10 and default values for rowmax, colmax, and maxp. Enter Gene IDs were then converted to HUGO gene names. These steps together produced the “formatted” gene expression files. To create the “formatted and normalized” datasets, we utilized established empirical Bayes algorithm for batch correction (2), compensating for possible batch effects while maintaining potential effects of age, race, and sex across datasets. ' ),\n",
    "     br()\n",
    "   )\n",
    "                 \n",
    "), \n",
    "\n",
    "\n",
    "##################################\n",
    "#  RNA  Main Page\n",
    "##################################  \n",
    "conditionalPanel(title = \"rnaMain\", condition = \"input.page == 'rna'\",\n",
    "                 \n",
    "                 tags$div(\n",
    "                   br(),\n",
    "                   #h3(\"Data Guide\" ),\n",
    "                   br(),\n",
    "                   #h3('GENE EXPRESSION'),\n",
    "                   #p('Gene expression array data were obtained in three formats. Data in their original formats (.CEL files, series matrix files, etc) constitute the “raw” gene expression data. For data collected on Affymetrix platforms, we utilized the ReadAffy utility in the affy Bioconductor package to read in raw .CEL files. The rma utility was used to conduct Robust Multichip Average (rma) background correction (as in (4)), quantile normalization, and log2 normalization of the data. For data collected on Illumina platforms and stored in the Gene Expression Omnibus (GEO) database, we utilized the getGEO utility in the GEOquery Bioconductor package to read the expression files and the preprocessCore package to conduction rma background correction, quantile normalization, and log2 normalization of the gene expression data. Finally, for data collected on Illumina platforms but not stored in GEO, we utilized the read.ilmn utility of the limma Bioconductor package to read in the data, and the neqc function to rma background correct, quantile normalize, and log2 normalize the gene expression data. In all instances, probe IDs were converted to Entrez Gene IDs. Where multiple probes mapped to the same Entrez Gene ID, the median value across probes was used to represent the expression value of the corresponding gene. The background-corrected and normalized datasets were combined based on common Entrez IDs, missing values were imputed with a k-nearest neighbors algorithm (R package: impute, function: impute.knn) using k = 10 and default values for rowmax, colmax, and maxp. Enter Gene IDs were then converted to HUGO gene names. These steps together produced the “formatted” gene expression files. To create the “formatted and normalized” datasets, we utilized established empirical Bayes algorithm for batch correction (2), compensating for possible batch effects while maintaining potential effects of age, race, and sex across datasets. ' ),\n",
    "                   br()\n",
    "                 )\n",
    "), \n",
    "\n",
    "\n",
    "\n",
    "##################################\n",
    "#  Cytometry  Main Page\n",
    "##################################  \n",
    "conditionalPanel(title = \"cytometryMain\", condition = \"input.page == 'cytometry'\",\n",
    "                 \n",
    "       tags$div(\n",
    "         br(),\n",
    "         #h3(\"Data Guide\" ),\n",
    "         br(),\n",
    "         #h3('FLOW CYTOMETRY'),\n",
    "         #p('Meta-analysis of Cytometry data is conducted using the MetaCyto package (1). Briefly, flow cytometry data were downloaded from ImmPort web portal. Every .fcs file was pared down to 5000 events. These .fcs files constitute the “raw” Flow Cytometry:PBMC data. Flow cytometry data from ImmPort were compensated for fluorescence spillovers using the compensation matrix supplied in each fcs file.  All data from ImmPort were arcsinh transformed. For flow cytometry data, the formula f(x) = arcsinh (x/150) was used. Transformation and compensation were done using the preprocessing.batch function in MetaCyto (1). The cell definitions from the Human ImmunoPhenotyping Consortium (2) were used to identify 24 types of immune cells using the searchClster.batch function in MetaCyto. Specifically, each marker in each cytometry panels was bisected into positive and negative regions. Cells fulfilling the cell definitions are identified. For example, the CD14+ CD33+ CD16- (CD16- monocytes) cell subset corresponds to the cells that fall into the CD14+ region, CD33+ region and CD16- region concurrently. The proportion of each cell subsets in the PBMC or whole blood were then calculated by dividing the number of cells in a subset by the total number of cells in the blood. These steps together produce the “formatted” Flow Cytometry: PBMC data. Because the Flow Cytometry data are sparse, batch correction was conducted with a simple linear model for each cell type, mean correcting by study accession while accounting for age, sex, and race. These steps produced the “formatted and normalized” Flow Cytometry data. ' ),\n",
    "         br(),\n",
    "         #h3('CYTOF'),\n",
    "         #p('CyTOF data of healthy human blood samples were downloaded from ImmPort web portal. Every .fcs file was pared down to 5000 events. These .fcs files constitute the “raw” CyTOF:PBMC data. All data were arcsinh transformed. For CyTOF data, the formula f(x) = arcsinh (x/8) was used. Transformation and compensation were done using the preprocessing.batch function in MetaCyto (1). The cell definitions from the Human ImmunoPhenotyping Consortium (2) were used to identify 24 types of immune cells using the searchClster.batch function in MetaCyto. Specifically, each marker in each cytometry panels was bisected into positive and negative regions. Cells fulfilling the cell definitions are identified. For example, the CD14+ CD33+ CD16- (CD16- monocytes) cell subset corresponds to the cells that fall into the CD14+ region, CD33+ region and CD16- region concurrently. The proportion of each cell subsets in the PBMC were then calculated by dividing the number of cells in a subset by the total number of cells in the blood. These steps together produce the “formatted” CyTOF: PBMC data. These data were then batch-corrected with an established empirical Bayes method (3), using study accession for batch and age, sex, and race as known covariates to produce the “formatted and normalized” CyTOF: PBMC data. ' ),\n",
    "         \n",
    "         br()\n",
    "       )\n",
    "                 \n",
    "), \n",
    "\n",
    "\n",
    "##################################\n",
    "#  Lab Tests Main Page\n",
    "##################################  \n",
    "conditionalPanel(title = \"labMain\", condition = \"input.page == 'lab'\",\n",
    "                 \n",
    "     tags$div(\n",
    "       br(),\n",
    "       #h3(\"Data Guide\" ),\n",
    "       br(),\n",
    "       #h3('LAB TESTS'),\n",
    "       #p('Parsed lab test data were downloaded from ImmPort and organized into three standard panels: Complete Blood Count (CBC), Fasting Lipid Profile (FLP), and Comprehensive Metabolic Panel (CMP). Because FLP and CMP data are derived from only one study, no further standardization was required. These parsed data constitute the “formatted” lab test data for these two types, and no “normalized” table is available. CBC data were derived from 12 different studies. As such, names of individual tests as well as units of measurement needed to be standardized for the data to be directly comparable. For example, cells reported as thousands of cells per microliter were variously described as “K/mi”, “K/“, “cells/mm3”, “thou/mcL”, ”per”, “1000/microliter”, “10^3/mm3”, “10^3”, “1e3/uL”, “10*3/ul”, “/uL”, or “10^3 cells/uL”, and the names of assays were comparably variable. These standardization steps produced the “formatted” Lab Test: Blood Count data. These data were then batch corrected with a simple linear model for each analyte, mean correcting by study accession while accounting for age, sex, and race to produce the “formatted and normalized” CBC data. ' ),\n",
    "       br()\n",
    "     )\n",
    "                 \n",
    "), \n",
    "```"
   ]
  },
  {
   "cell_type": "markdown",
   "metadata": {},
   "source": [
    "### Old Navbar"
   ]
  },
  {
   "cell_type": "code",
   "execution_count": null,
   "metadata": {},
   "outputs": [],
   "source": []
  },
  {
   "cell_type": "markdown",
   "metadata": {},
   "source": [
    "``` python\n",
    "#select the data for plotting based on user inputs\n",
    "  data <- reactive({\n",
    "    if(input$dataType == 'Multiplex ELISA' & input$mbaa_processing ==F){return(mbaa_raw[mbaa_raw$age > min(input$ageRange) & mbaa_raw$age < max(input$ageRange)\n",
    "                                                                                        & mbaa_raw$gender %in% input$gender & mbaa_raw$race %in% input$race,])}\n",
    "    else if (input$dataType == 'Flow Cytometry: PBMC' & input$flow_pbmc_processing ==F){return(flow_pbmc_raw[flow_pbmc_raw$age > min(input$ageRange) & flow_pbmc_raw$age < max(input$ageRange)\n",
    "                                                                                                             & flow_pbmc_raw$gender %in% input$gender & flow_pbmc_raw$race %in% input$race,])}\n",
    "    else if (input$dataType == 'CyTOF: PBMC' & input$cytof_pbmc_processing ==F){return(cytof_pbmc_raw[cytof_pbmc_raw$age > min(input$ageRange) & cytof_pbmc_raw$age < max(input$ageRange)\n",
    "                                                                                                      & cytof_pbmc_raw$gender %in% input$gender & cytof_pbmc_raw$race %in% input$race,])}\n",
    "    else if (input$dataType == \"Gene Expression: Whole Blood\" & input$gene_blood_processing ==F){return(gene_blood_raw[gene_blood_raw$age > min(input$ageRange) & gene_blood_raw$age < max(input$ageRange)\n",
    "                                                                                                                       & gene_blood_raw$gender %in% input$gender & gene_blood_raw$race %in% input$race,])}\n",
    "    else if (input$dataType == \"Gene Expression: PBMC\" & input$gene_pbmc_processing ==F){return(gene_pbmc_raw[gene_pbmc_raw$age > min(input$ageRange) & gene_pbmc_raw$age < max(input$ageRange)\n",
    "                                                                                                              & gene_pbmc_raw$gender %in% input$gender & gene_pbmc_raw$race %in% input$race,])}\n",
    "    else if (input$dataType == \"ELISA\" & input$elisa_processing ==F){return(elisa_raw[elisa_raw$age > min(input$ageRange) & elisa_raw$age < max(input$ageRange)\n",
    "                                                                                      & elisa_raw$gender %in% input$gender & elisa_raw$race %in% input$race,])}\n",
    "    else if (input$dataType == \"HAI Titer\"& input$hai_processing ==F){return(hai_raw[hai_raw$age > min(input$ageRange) & hai_raw$age < max(input$ageRange)\n",
    "                                                                                     & hai_raw$gender %in% input$gender & hai_raw$race %in% input$race,])}\n",
    "    else if (input$dataType == \"Lab Tests: Blood Count\" & input$cbc_processing ==F){return(cbc_raw[cbc$age > min(input$ageRange) & cbc_raw$age < max(input$ageRange)\n",
    "                                                                                                   & cbc_raw$gender %in% input$gender & cbc_raw$race %in% input$race,])}\n",
    "    else if (input$dataType == 'Virus Neutralization Titer' & input$vnt_processing ==F){return(vnt_raw[vnt_raw$age > min(input$ageRange) & vnt_raw$age < max(input$ageRange)\n",
    "                                                                                                       & vnt_raw$gender %in% input$gender & vnt_raw$race %in% input$race,])}\n",
    "    else{\n",
    "      switch(input$dataType,\n",
    "             \"CyTOF: PBMC\" = cytof_pbmc[cytof_pbmc$age > min(input$ageRange) & cytof_pbmc$age < max(input$ageRange)\n",
    "                                        & cytof_pbmc$gender %in% input$gender & cytof_pbmc$race %in% input$race,],\n",
    "             \"ELISA\" = elisa[elisa$age > min(input$ageRange) & elisa$age < max(input$ageRange)\n",
    "                             & elisa$gender %in% input$gender & elisa$race %in% input$race,],\n",
    "             \"Flow Cytometry: PBMC\" = flow_pbmc[flow_pbmc$age > min(input$ageRange) & flow_pbmc$age < max(input$ageRange)\n",
    "                                                & flow_pbmc$gender %in% input$gender & flow_pbmc$race %in% input$race,],\n",
    "             \"Flow Cytometry: Whole Blood\" = flow_blood_raw[flow_blood_raw$age > min(input$ageRange) & flow_blood_raw$age < max(input$ageRange)\n",
    "                                                            & flow_blood_raw$gender %in% input$gender & flow_blood_raw$race %in% input$race,],\n",
    "             \"Gene Expression: Whole Blood\" = gene_blood[gene_blood$age > min(input$ageRange) & gene_blood$age < max(input$ageRange)\n",
    "                                                         & gene_blood$gender %in% input$gender & gene_blood$race %in% input$race,],\n",
    "             \"Gene Expression: PBMC\" = gene_pbmc[gene_pbmc$age > min(input$ageRange) & gene_pbmc$age < max(input$ageRange)\n",
    "                                                 & gene_pbmc$gender %in% input$gender & gene_pbmc$race %in% input$race,],\n",
    "             \"HAI Titer\" = hai[hai$age > min(input$ageRange) & hai$age < max(input$ageRange)\n",
    "                               & hai$gender %in% input$gender & hai$race %in% input$race,],\n",
    "             \"HLA Type\" = hla[hla$age > min(input$ageRange) & hla$age < max(input$ageRange)\n",
    "                              & hla$gender %in% input$gender & hla$race %in% input$race,],\n",
    "             \"Multiplex ELISA\" = mbaa[mbaa$age > min(input$ageRange) & mbaa$age < max(input$ageRange)\n",
    "                                      & mbaa$gender %in% input$gender & mbaa$race %in% input$race,],\n",
    "             \"Lab Tests: Blood Count\" = cbc[cbc$age > min(input$ageRange) & cbc$age < max(input$ageRange)\n",
    "                                            & cbc$gender %in% input$gender & cbc$race %in% input$race,],\n",
    "             \"Lab Tests: Lipid Profile\" = flp[flp$age > min(input$ageRange) & flp$age < max(input$ageRange)\n",
    "                                              & flp$gender %in% input$gender & flp$race %in% input$race,],\n",
    "             \"Lab Tests: Metabolic Panel\" = cmp[cmp$age > min(input$ageRange) & cmp$age < max(input$ageRange)\n",
    "                                                & cmp$gender %in% input$gender & cmp$race %in% input$race,],\n",
    "             'Virus Neutralization Titer' = vnt[vnt$age > min(input$ageRange) & vnt$age < max(input$ageRange)\n",
    "                                                & vnt$gender %in% input$gender & vnt$race %in% input$race,],\n",
    "             'RNAseq: T cells' = gene_Tcell_raw,\n",
    "             'Newborn RNAseq' = gene_Tcell_raw\n",
    "      )}\n",
    "  })\n",
    "  \n",
    "  #select the analyte for plotting based on user input\n",
    "  analyte <- reactive({switch(input$dataType,\n",
    "                              \"CyTOF: PBMC\" = input$cytof_pbmc_analyte,\n",
    "                              \"ELISA\" = input$elisa_analyte,\n",
    "                              \"Flow Cytometry: PBMC\" = input$flow_pbmc_analyte,\n",
    "                              \"Flow Cytometry: Whole Blood\" = input$flow_blood_analyte,\n",
    "                              \"Gene Expression: Whole Blood\" = input$gene_blood_analyte,\n",
    "                              \"Gene Expression: PBMC\" = input$gene_pbmc_analyte,\n",
    "                              \"Gene Set Enrichment: Whole Blood\" = input$gsea_analyte,\n",
    "                              \"HAI Titer\" = input$hai_analyte,\n",
    "                              \"HLA Type\" = input$hla_analyte,\n",
    "                              \"Multiplex ELISA\" = input$mbaaAnalyte,\n",
    "                              \"Lab Tests: Blood Count\" = input$cbcAnalyte,\n",
    "                              \"Lab Tests: Lipid Profile\" = input$flpAnalyte,\n",
    "                              \"Lab Tests: Metabolic Panel\" = input$cmpAnalyte,\n",
    "                              \"Virus Neutralization Titer\" = input$vntAnalyte,\n",
    "                              \"RNAseq: T cells\" = input$T_cell_analyte,\n",
    "                              \"Newborn RNAseq\" = input$T_cell_analyte\n",
    "  )})\n",
    "  \n",
    "  #Output plot (created below) on the Visualize page\n",
    "  output$dataPlot <- renderPlotly({ plotInput() })\n",
    "  \n",
    "  #Calculate and print the number of distinct subjects in the plot\n",
    "  nSubs <- reactive({sum(!is.na(thisData()))})\n",
    "  nSubsMessage <- reactive({paste('Distinct Subjects:',nSubs())})\n",
    "  output$nSubsText <- renderText({nSubsMessage()})\n",
    "  \n",
    "  #Create a plot that can be downloaded. Shiny doesn't allow you to grab output objects (like output$dataPlot) for use in later functions.\n",
    "  plotInput <- reactive({\n",
    "    \n",
    "    #Decide based on data type whether the y-axis should be log-scaled\n",
    "    if (input$dataType == 'Gene Expression: Whole Blood' || input$dataType == 'Gene Expression: PBMC' || input$dataType == 'Multiplex ELISA'|| input$dataType == 'RNAseq: T cells'){\n",
    "      scaleChoice = 'log10'\n",
    "    } else { \n",
    "      scaleChoice = 'identity'\n",
    "    };\n",
    "    \n",
    "    #pull the data\n",
    "    thisDemo <- reactive({\n",
    "      if(input$dataType != 'RNAseq: T cells'){\n",
    "        data()[!is.na(data()[,analyte()]),1:8]\n",
    "        }else{\n",
    "        data()[!is.na(data()[,analyte()]),1:3]\n",
    "      }\n",
    "      })\n",
    "    thisData <- reactive({data()[!is.na(data()[,analyte()]), as.character(analyte())]})\n",
    "    dataBind <- reactive({data.frame(cbind(thisData(),thisDemo()))})\n",
    "    thisAnalyte <- reactive({analyte()})\n",
    "    \n",
    "    #make y axis labels\n",
    "    ylab <- reactive({ \n",
    "      switch(input$dataType,\n",
    "             \"CyTOF: PBMC\" = paste(gsub('_',' ',analyte()),'(percent)'),\n",
    "             \"ELISA\"= paste(analyte(), '(Concentration in pg/mL)'),\n",
    "             \"Flow Cytometry: PBMC\" = paste(gsub('_',' ',analyte()),'(percent)'),\n",
    "             \"Flow Cytometry: Whole Blood\" = paste(gsub('_',' ',analyte()), '(percent)'),\n",
    "             \"Gene Expression: Whole Blood\" = paste(analyte(), '(Expression)'),\n",
    "             \"Gene Expression: PBMC\" = paste(analyte(), '(Expression)'),\n",
    "             \"Gene Set Enrichment: Whole Blood\" = paste(analyte()),\n",
    "             \"HAI Titer\" = paste(analyte(), '(HAI Titer)'),\n",
    "             \"Multiplex ELISA\" = paste(analyte(), '(Concentration in pg/mL)'),\n",
    "             \"Lab Tests: Blood Count\" = analyte(),\n",
    "             \"Lab Tests: Lipid Profile\" = analyte(),\n",
    "             \"Lab Tests: Metabolic Panel\" = analyte(),\n",
    "             \"Virus Neutralization Titer\" = paste(analyte(), '(Virus Neutralization Titer)'),\n",
    "             \"RNAseq: T cells\" = paste(analyte(), '(Expression)')\n",
    "      )\n",
    "    })\n",
    "    #generate a title\n",
    "    title <- reactive({paste(gsub('_',' ',analyte()), 'by Subject')})\n",
    "    \n",
    "    if(input$dataType != 'RNAseq: T cells' || input$dataType != 'Newborn RNAseq' ){\n",
    "      #if plotting by age and sex\n",
    "      if(input$colorCode == 'Age & Sex'){\n",
    "        p <- ggplot(data = dataBind(), \n",
    "                    aes(x=dataBind()[,'age'], y=dataBind()[,1], colour = factor(dataBind()[,'gender']))) +\n",
    "          geom_point()  + \n",
    "          labs(x = 'Subject Ages', y = ylab(), title = title(), fill = NULL, colour = NULL)\n",
    "        p +  scale_y_continuous(trans=scaleChoice) + stat_smooth(method=loess,data = dataBind(),aes(fill = factor(dataBind()[,'gender'])))+\n",
    "          theme(axis.text=element_text(size=16), axis.title=element_text(size=18),\n",
    "                plot.title=element_text(size = 20, face = 'bold'), plot.margin=unit(c(.5,.5,.5,.5),'cm'))\n",
    "      } \n",
    "      \n",
    "      #if plotting by study\n",
    "      else if(input$colorCode == 'Study'){\n",
    "        p <- ggplot(data = dataBind(), aes(x=dataBind()[,'age'], y=dataBind()[,1], colour = factor(dataBind()[,'study_accession']))) +\n",
    "          geom_point()  + \n",
    "          labs(x = 'Subject Ages', y = ylab(), title = title(), fill = NULL, colour = NULL)\n",
    "        p +  scale_y_continuous(trans=scaleChoice) + stat_smooth(method=loess,data = dataBind(),aes(fill = factor(dataBind()[,'study_accession'])))+\n",
    "          theme(axis.text=element_text(size=16), axis.title=element_text(size=18),\n",
    "                plot.title=element_text(size = 20, face = 'bold'), plot.margin=unit(c(.5,.5,.5,.5),'cm')) \n",
    "      }\n",
    "      \n",
    "      #if plotting by ethnicity\n",
    "      else if(input$colorCode == 'Ethnicity'){\n",
    "        par(las=1, bty='l', lwd=2, family  = 'sans',cex.axis=1.25, cex.lab=1.25, cex.main=1.75)\n",
    "        med = median(dataBind()[,1])\n",
    "        p <- ggplot(data = dataBind(),aes(x = dataBind()[,'race'], y = dataBind()[,1])) \n",
    "        p + geom_violin(trim = FALSE, fill = 'deepskyblue4', inherit.aes = T)+\n",
    "          geom_dotplot(binaxis='y', stackdir='center', dotsize=.2) +\n",
    "          stat_summary_bin(fun.y = median, geom = 'line', lwd = 1, aes(group = dataBind()[,'race'])) +\n",
    "          geom_hline(aes(yintercept = med), linetype = 'dashed') +\n",
    "          scale_y_continuous(trans=scaleChoice) + labs(x = 'Race', y = ylab(), title = title(), fill = NULL, colour = NULL) +\n",
    "          theme(axis.text=element_text(size=16), axis.title=element_text(size=18),\n",
    "                plot.title=element_text(size = 20, face = 'bold'), plot.margin=unit(c(.5,.5,.5,.5),'cm'))\n",
    "      }\n",
    "    } \n",
    "    if(input$dataType == 'RNAseq: T cells'){\n",
    "      # plot RNAseq in T cells\n",
    "      par(las=1, bty='l', lwd=2, family  = 'sans',cex.axis=1.25, cex.lab=1.25, cex.main=1.75)\n",
    "      med = median(dataBind()[,1])\n",
    "      p <- ggplot(data = dataBind(),aes(x = gsub(\" CD3.*\",\"\",dataBind()[,'CellType']), y = dataBind()[,1])) \n",
    "      p + geom_violin(trim = FALSE, fill = 'deepskyblue4', inherit.aes = T)+\n",
    "        geom_dotplot(binaxis='y', stackdir='center', dotsize=.2) +\n",
    "        stat_summary_bin(fun.y = median, geom = 'line', lwd = 1, aes(group = dataBind()[,'CellType'])) +\n",
    "        geom_hline(aes(yintercept = med), linetype = 'dashed') +\n",
    "        scale_y_continuous(trans=scaleChoice) + labs(x = 'Cell Type', y = ylab(), title = title(), fill = NULL, colour = NULL) +\n",
    "        theme(axis.text=element_text(size=16), axis.title=element_text(size=18),\n",
    "              plot.title=element_text(size = 20, face = 'bold'), plot.margin=unit(c(.5,.5,.5,.5),'cm'))\n",
    "    }\n",
    "    if(input$dataType == 'Newborn RNAseq'){\n",
    "\n",
    "        num = which(gambia_rna$hgnc==analyte() )\n",
    "        gene_name = gambia_rna[num,2]\n",
    "        a_row = gambia_rna[num,3:dim(gambia_rna)[2]]\n",
    "        \n",
    "        # Put data in data frame\n",
    "        cols = list()\n",
    "        to_graph= data.frame( counts = as.numeric(a_row) )\n",
    "        \n",
    "        # groups data by age \n",
    "        groups = c()\n",
    "        for( i in names(a_row) ){\n",
    "          groups= c( groups, substr(i, start=nchar(i)-1, stop=nchar(i) )) \n",
    "        }\n",
    "        to_graph$groups = as.factor( groups )\n",
    "        \n",
    "        # create X variable for scatter\n",
    "        `%+=%` = function(e1,e2) eval.parent(substitute(e1 <- e1 + e2))\n",
    "        to_graph$X = rnorm( length(a_row) , mean = 0, sd = .15 )\n",
    "        to_graph$X[ grep(\"*D0\", names(a_row))  ] %+=% 0\n",
    "        to_graph$X[ grep(\"*D1\", names(a_row))  ] %+=% 1\n",
    "        to_graph$X[ grep(\"*D3\", names(a_row))  ] %+=% 3\n",
    "        to_graph$X[ grep(\"*D7\", names(a_row))  ] %+=% 7\n",
    "        \n",
    "        p = ggplot( to_graph, aes(x=X, y=counts, color=groups) ) + \n",
    "          geom_point() +\n",
    "          labs(x='Days Alive', y=\"Gene Expression (counts)\", title=paste(gene_name,\" Expression in Newborns\"), fill = NULL, colour = NULL ) +\n",
    "          theme_gdocs()      \n",
    "      \n",
    "    }\n",
    " \n",
    "  })\n",
    "```"
   ]
  },
  {
   "cell_type": "markdown",
   "metadata": {},
   "source": [
    "### Old Server Code"
   ]
  },
  {
   "cell_type": "markdown",
   "metadata": {},
   "source": [
    "``` python\n",
    "##################################\n",
    "###############\n",
    "##    Old Navbar\n",
    "###############\n",
    "##################################\n",
    "        \n",
    "           \n",
    "\n",
    "  ################################################################################\n",
    "  #TAB FOR USERS TO SUBSET AND DOWNLOAD 10,000 IMMUNOMES DATA\n",
    "  ################################################################################ \n",
    "         hidden(\n",
    "         h1(\"Download tab\"),\n",
    "         tags$div( class=\"panel panel-default\", style = 'position:relative; width:50%; height:400px; float:left;',\n",
    "                   tags$div( class=\"panel-body\",\n",
    "                             \n",
    "                             #Select which data type to download\n",
    "                             h4('Select Data Type:'),\n",
    "                             selectInput('dataTypeDownload', label = NULL,\n",
    "                                         choices = c('All','CyTOF: PBMC',\n",
    "                                                     'ELISA','Flow Cytometry: PBMC',\n",
    "                                                     'Flow Cytometry: Whole Blood',\n",
    "                                                     'Gene Expression: PBMC',\n",
    "                                                     'Gene Expression: Whole Blood',\n",
    "                                                     'HAI Titer', 'HLA Type',\n",
    "                                                     'Lab Tests: Blood Count','Lab Tests: Metabolic Panel',\n",
    "                                                     'Lab Tests: Lipid Profile','Multiplex ELISA',\n",
    "                                                     'Virus Neutralization Titer','Questionnaire',\n",
    "                                                     'Questionnaire Data Dictionary',\n",
    "                                                     'RNAseq: T cells',\n",
    "                                                     'Newborn RNAseq'),\n",
    "                                         selected = 'CyTOF: PBMC'),\n",
    "                             conditionalPanel(condition = \"input.dataTypeDownload == 'Multiplex ELISA' || input.dataTypeDownload == 'ELISA' || input.dataTypeDownload == 'HAI Titer' || \n",
    "                                              input.dataTypeDownload == 'Lab Tests: Blood Count' || input.dataTypeDownload == 'Virus Neutralization Titer'\",\n",
    "                                              radioButtons('Download_processing_formNorm', label = NULL,\n",
    "                                                           choiceNames = c('Formatted Only','Formatted and Normalized'),\n",
    "                                                           choiceValues = c('formatted','normalized')\n",
    "                                              )\n",
    "                             ),\n",
    "                             conditionalPanel(condition = \"input.dataTypeDownload == 'CyTOF: PBMC' || input.dataTypeDownload == 'Flow Cytometry: PBMC' || input.dataTypeDownload == 'Gene Expression: PBMC'|| input.dataTypeDownload =='Gene Expression: Whole Blood'\",\n",
    "                                              radioButtons('Download_processing_allThree', label = NULL,\n",
    "                                                           choiceNames = c('Raw Data Files','Formatted Only','Formatted and Normalized'),\n",
    "                                                           choiceValues = c('raw','formatted','normalized')\n",
    "                                              )\n",
    "                             ),\n",
    "                             conditionalPanel(condition = \"input.dataTypeDownload == 'Flow Cytometry: Whole Blood'\",\n",
    "                                              radioButtons('Download_processing_rawForm', label = NULL,\n",
    "                                                           choiceNames = c('Raw Data Files','Formatted Only'),\n",
    "                                                           choiceValues = c('raw','formatted')\n",
    "                                              )\n",
    "                             )\n",
    "         ),\n",
    "         \n",
    "         \n",
    "         #Allow user to download the data they've subsetted.\n",
    "         #Display the number of subjects in the data selected for download\n",
    "         # conditionalPanel(condition = 'input.dataTypeDownload != \"All\"', textOutput('nSubsTextDownload')),\n",
    "         #Place the button that downloads the data\n",
    "         downloadButton('downloadReadme','Download README',class=\"btn btn-primary\", style = 'position:absolute; bottom:15px; left:180px'),\n",
    "         conditionalPanel(condition = \"input.dataTypeDownload == 'ELISA' || input.dataTypeDownload == 'HAI Titer' || input.dataTypeDownload == 'HLA Type' || \n",
    "                          input.dataTypeDownload == 'Lab Tests: Blood Count' ||  input.dataTypeDownload == 'Lab Tests: Metabolic Panel' ||  input.dataTypeDownload == 'Lab Tests: Lipid Profile' || \n",
    "                          input.dataTypeDownload == 'Virus Neutralization Titer' ||  input.dataTypeDownload == 'Questionnaire' ||  input.dataTypeDownload == 'Questionnaire Data Dictionary' || \n",
    "                          input.dataTypeDownload == 'Multiplex ELISA'||\n",
    "                          (input.dataTypeDownload == 'Gene Expression: PBMC' && input.Download_processing_allThree == 'normalized') || \n",
    "                          (input.dataTypeDownload == 'Gene Expression: Whole Blood' && input.Download_processing_allThree == 'normalized') ||\n",
    "                          (input.dataTypeDownload == 'Gene Expression: PBMC'&& input.Download_processing_allThree == 'formatted')|| \n",
    "                          (input.dataTypeDownload =='Gene Expression: Whole Blood'&& input.Download_processing_allThree == 'formatted')||\n",
    "                          (input.dataTypeDownload == 'CyTOF: PBMC' && input.Download_processing_allThree == 'normalized') ||\n",
    "                          (input.dataTypeDownload == 'CyTOF: PBMC' && input.Download_processing_allThree == 'formatted') ||\n",
    "                          (input.dataTypeDownload == 'Flow Cytometry: PBMC' && input.Download_processing_allThree == 'normalized') ||\n",
    "                          (input.dataTypeDownload == 'Flow Cytometry: PBMC' && input.Download_processing_allThree == 'formatted') ||\n",
    "                          (input.dataTypeDownload == 'Flow Cytometry: Whole Blood' && input.Download_processing_allThree == 'normalized') ||\n",
    "                          (input.dataTypeDownload == 'Flow Cytometry: Whole Blood' && input.Download_processing_allThree == 'formatted')\",\n",
    "                          downloadButton('downloadCsv','Download CSV', class=\"btn btn-primary\", style = 'position:absolute; bottom:15px' ),\n",
    "                          h6(textOutput('nSubsTextDownload'), style = 'position:absolute; bottom:50px') \n",
    "         ),\n",
    "         conditionalPanel(condition = \"(input.dataTypeDownload == 'CyTOF: PBMC' && input.Download_processing_allThree == 'raw') || (input.dataTypeDownload == 'Flow Cytometry: PBMC' && input.Download_processing_allThree == 'raw')|| \n",
    "                          (input.dataTypeDownload == 'Gene Expression: PBMC'&& input.Download_processing_allThree == 'raw')|| (input.dataTypeDownload =='Gene Expression: Whole Blood'&& input.Download_processing_allThree == 'raw') ||\n",
    "                          (input.dataTypeDownload == 'Flow Cytometry: Whole Blood' && input.Download_processing_rawForm == 'raw') || input.dataTypeDownload == 'All'||\n",
    "                          (input.dataTypeDownload == 'RNAseq: T cells')\",\n",
    "                          downloadButton('downloadZip','Download Zip', class= 'btn btn-primary', style = 'position:absolute; bottom:15px'),\n",
    "                          h6('*This file type does not support selection for age, race, and sex.', style = 'position:absolute; bottom:50px')\n",
    "         )\n",
    "         \n",
    "         ),\n",
    "         tags$div(class=\"panel panel-default\", style = 'width:50%; height:400px; float:right;',\n",
    "                  tags$div( class=\"panel-body\",\n",
    "                            #Select age range of subjects\n",
    "                            h4('Age Range:'),\n",
    "                            sliderInput(\"ageRangeDownload\",label = NULL,\n",
    "                                        min = 0,\n",
    "                                        max = 100,\n",
    "                                        value = c(0,100),\n",
    "                                        dragRange = TRUE,\n",
    "                                        round = TRUE,\n",
    "                                        step = 1),\n",
    "                            \n",
    "                            #Select male or female subjects\n",
    "                            h4('Sex:'),\n",
    "                            checkboxGroupInput(\"genderDownload\", label = NULL,\n",
    "                                               choices = c('Female','Male'), \n",
    "                                               selected = c('Female','Male')\n",
    "                            ),\n",
    "                            \n",
    "                            #Select the ethnicities of subjects\n",
    "                            h4('Ethnicities:'),\n",
    "                            checkboxGroupInput('raceDownload', label = NULL,\n",
    "                                               choices = c('White', 'Black or African American','Asian','Other'),\n",
    "                                               selected = c('White', 'Black or African American','Asian','Other')\n",
    "                            )\n",
    "                            \n",
    "                  )\n",
    "                  \n",
    "         )\n",
    "         \n",
    "         ), # <-- hidden\n",
    "\n",
    "\n",
    "\n",
    "\n",
    "\n",
    "\n",
    "  ################################################################################\n",
    "  #TAB READ ME\n",
    "  ################################################################################ \n",
    "     hidden(\n",
    "         h1(\"README tab\"),\n",
    "         \n",
    "         tags$div(#class=\"jumbotron\",\n",
    "\n",
    "           h3('ELISA'),\n",
    "           p('Parsed ELISA data were downloaded from ImmPort. Analyte names were standardized to HUGO gene names where appropriate, and measurements were standardized to a common unit of measurement (pg/mL). These steps produced the “formatted” ELISA data. Because ELISA data is low-throughput, and most subjects only have measurements for one analyte, batch correction was conducted with a simple linear model for each analyte, mean correcting by study accession while accounting for age, sex, and race. These steps produced the “formatted and normalized” ELISA data.',style = \"font-size: 20px\" ),\n",
    "           \n",
    "\n",
    "           br(),\n",
    "           h3('HAI TITER'),\n",
    "           p('Parsed HAI data were downloaded from ImmPort. Names were standardized to WHO viral nomenclature where necessary. These steps produced the “formatted” HAI data. Because HAI data is low-throughput, and most subjects only have measurements for one-to-three of the viruses, batch correction was conducted with a simple linear model for each analyte, mean correcting by study accession while accounting for age, sex, and race. These steps produced the “formatted and normalized” HAI data.',style = \"font-size: 20px\" ),\n",
    "           \n",
    "\n",
    "           br(),\n",
    "           h3('MULTIPLEX ELISA'),\n",
    "           p('Secreted protein data measured on the multiplex ELISA platform were collected from ImmPort studies SDY22, SDY23, SDY111, SDY113, SDY180, SDY202, SDY305, SDY311, SDY312, SDY315, SDY420, SDY472, SDY478, SDY514, SDY515, SDY519, and SDY720. Data were drawn from the ImmPort parsed data tables using RMySQL or loaded into R from user-submitted unparsed data tables. Across the studies that contribute data, there are disparities in terms of the dilution of samples and units of measure in which the data are reported. We corrected for differences in dilution factor and units of measure across experiments and standardized labels associated with each protein as HUGO gene symbols. This step represents the “formatted” Multiplex ELISA data table.  Compensation for batch effects was conducted using an established empirical Bayes algorithm (2), with study accession representing batch and a model matrix that included age, sex, and race of each subject. Data were log2 transformed before normalization to better fit the assumption that the data are normally distributed. The effectiveness of the log2 transform, as well as our batch correction efforts, are detailed in the manuscript associated with this resource (5). This batch-corrected data represents the “formatted and normalized” Multiplex ELISA data. ',style = \"font-size: 20px\" ),\n",
    "           \n",
    "           br(),\n",
    "           h3('VIRUS NEUTRALIZATION TITER'),\n",
    "           p('Parsed VNT data were downloaded from ImmPort. Names were standardized to WHO viral nomenclature where necessary. These steps produced the “formatted” VNT data. Because VNT data is low-throughput, and most subjects only have measurements for one-to-three of the viruses, batch correction was conducted with a simple linear model for each analyte, mean correcting by study accession while accounting for age, sex, and race. These steps produced the “formatted and normalized” VNT data.',style = \"font-size: 20px\" )\n",
    "           \n",
    "           \n",
    "           )\n",
    "     ) #<- hidden\n",
    "\n",
    ")\n",
    "\n",
    "#####\n",
    "\n",
    "```"
   ]
  },
  {
   "cell_type": "markdown",
   "metadata": {},
   "source": [
    "# <font color=\"brown\">Scratch Paper</font>"
   ]
  },
  {
   "cell_type": "markdown",
   "metadata": {},
   "source": [
    "## Basic ui and server"
   ]
  },
  {
   "cell_type": "markdown",
   "metadata": {},
   "source": [
    "ui <- basicPage(\n",
    "  plotlyOutput(\"dataPlot\")\n",
    ")\n",
    "\n",
    "server <- function(input, output) {\n",
    "  output$dataPlot <-   renderPlotly({     # plot(x, sin(x))  })\n",
    "    ggplot( to_graph, aes(x=X, y=counts, color=groups) ) + \n",
    "      geom_point() +\n",
    "      labs(x='Days Alive', y=\"Gene Expression (counts)\", title=paste(gene_name,\" Expression in Newborns\"), fill = NULL, colour = NULL ) +\n",
    "      theme_gdocs()\n",
    "  })\n",
    "\n",
    "}\n"
   ]
  },
  {
   "cell_type": "markdown",
   "metadata": {},
   "source": [
    "## <font color=\"purple\">Maybe Useful-</font> ShinyJS"
   ]
  },
  {
   "cell_type": "markdown",
   "metadata": {},
   "source": [
    "The following code can be added to the notebook to add javascript and CSS features to the Shiny application."
   ]
  },
  {
   "cell_type": "markdown",
   "metadata": {},
   "source": [
    "``` python\n",
    "jscode <- \"\n",
    "shinyjs.disableTab = function(name) {\n",
    "}\n",
    "\"\n",
    "\n",
    "css <- \"\n",
    ".nav li a.disabled {\n",
    "background-color: #aaa !important;\n",
    "color: #333 !important;\n",
    "cursor: not-allowed !important;\n",
    "border-color: #aaa !important;\n",
    "}\"\n",
    "```"
   ]
  },
  {
   "cell_type": "markdown",
   "metadata": {},
   "source": [
    "After the code is written put a line of code like the one below in the <font color=\"green\">ui</font>"
   ]
  },
  {
   "cell_type": "markdown",
   "metadata": {},
   "source": [
    "``` python\n",
    "extendShinyjs(text = jscode)\n",
    "```"
   ]
  },
  {
   "cell_type": "markdown",
   "metadata": {},
   "source": [
    "## Maybe Useful: Boostrap Page"
   ]
  },
  {
   "cell_type": "markdown",
   "metadata": {},
   "source": [
    "``` python\n",
    "ui = bootstrapPage( h1(\"howdy Dowdy\") )\n",
    "\n",
    "```"
   ]
  },
  {
   "cell_type": "code",
   "execution_count": null,
   "metadata": {},
   "outputs": [],
   "source": []
  }
 ],
 "metadata": {
  "hide_input": false,
  "kernelspec": {
   "display_name": "R (Juniper)",
   "language": "R",
   "name": "juniper"
  },
  "language_info": {
   "codemirror_mode": "r",
   "file_extension": ".R",
   "mimetype": "text/x-r-source",
   "name": "R",
   "pygments_lexer": "r",
   "version": "3.5.1"
  },
  "toc": {
   "base_numbering": 1,
   "nav_menu": {},
   "number_sections": true,
   "sideBar": true,
   "skip_h1_title": false,
   "title_cell": "Table of Contents",
   "title_sidebar": "Contents",
   "toc_cell": false,
   "toc_position": {},
   "toc_section_display": true,
   "toc_window_display": false
  },
  "varInspector": {
   "cols": {
    "lenName": 16,
    "lenType": 16,
    "lenVar": 40
   },
   "kernels_config": {
    "python": {
     "delete_cmd_postfix": "",
     "delete_cmd_prefix": "del ",
     "library": "var_list.py",
     "varRefreshCmd": "print(var_dic_list())"
    },
    "r": {
     "delete_cmd_postfix": ") ",
     "delete_cmd_prefix": "rm(",
     "library": "var_list.r",
     "varRefreshCmd": "cat(var_dic_list()) "
    }
   },
   "types_to_exclude": [
    "module",
    "function",
    "builtin_function_or_method",
    "instance",
    "_Feature"
   ],
   "window_display": false
  },
  "widgets": {
   "application/vnd.jupyter.widget-state+json": {
    "state": {},
    "version_major": 2,
    "version_minor": 0
   }
  }
 },
 "nbformat": 4,
 "nbformat_minor": 2
}
