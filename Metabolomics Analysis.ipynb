{
 "cells": [
  {
   "cell_type": "markdown",
   "metadata": {},
   "source": [
    "# Setup Notebook"
   ]
  },
  {
   "cell_type": "markdown",
   "metadata": {},
   "source": [
    "Load libraries"
   ]
  },
  {
   "cell_type": "code",
   "execution_count": null,
   "metadata": {},
   "outputs": [],
   "source": [
    "library(ggplot2)\n",
    "library(plotly)\n",
    "library(ggthemes)"
   ]
  },
  {
   "cell_type": "markdown",
   "metadata": {},
   "source": [
    "## Load Data"
   ]
  },
  {
   "cell_type": "markdown",
   "metadata": {},
   "source": [
    "Load in metabolomic dataset for papue new gunie subjects from the infants metabolomic dataset. "
   ]
  },
  {
   "cell_type": "code",
   "execution_count": null,
   "metadata": {},
   "outputs": [],
   "source": [
    "if( !'png_metabolomics.725331.csv' %in% list.files() ){\n",
    "    print(\"Downloading Data\")\n",
    "    download.file(url=\"https://storage.googleapis.com/10k-data/png_metabolomics.725331.csv\", destfile=\"png_metabolomics.725331.csv\", method=\"wget\")\n",
    "    print(\"Done\")\n",
    "}"
   ]
  },
  {
   "cell_type": "code",
   "execution_count": null,
   "metadata": {},
   "outputs": [],
   "source": [
    "newGuinea_massSpec = read.csv( \"png_metabolomics.725331.csv\",  stringsAsFactors=FALSE, header=TRUE, sep=\",\" )"
   ]
  },
  {
   "cell_type": "markdown",
   "metadata": {},
   "source": [
    "# Basic Data Analysis"
   ]
  },
  {
   "cell_type": "markdown",
   "metadata": {},
   "source": [
    "## Showing Data"
   ]
  },
  {
   "cell_type": "code",
   "execution_count": null,
   "metadata": {},
   "outputs": [],
   "source": [
    "dim(newGuinea_massSpec)"
   ]
  },
  {
   "cell_type": "code",
   "execution_count": null,
   "metadata": {},
   "outputs": [],
   "source": [
    "newGuinea_massSpec[1:10, 1:10]"
   ]
  },
  {
   "cell_type": "markdown",
   "metadata": {},
   "source": [
    "Basic data info"
   ]
  },
  {
   "cell_type": "code",
   "execution_count": null,
   "metadata": {},
   "outputs": [],
   "source": [
    "newGuinea_massSpec$SAMPLE.NAME"
   ]
  },
  {
   "cell_type": "code",
   "execution_count": null,
   "metadata": {},
   "outputs": [],
   "source": [
    "newGuinea_massSpec$DAY"
   ]
  },
  {
   "cell_type": "code",
   "execution_count": null,
   "metadata": {},
   "outputs": [],
   "source": [
    "newGuinea_massSpec$TREATMENT"
   ]
  },
  {
   "cell_type": "code",
   "execution_count": null,
   "metadata": {},
   "outputs": [],
   "source": [
    "newGuinea_massSpec$SEX"
   ]
  },
  {
   "cell_type": "markdown",
   "metadata": {},
   "source": [
    "Print column names"
   ]
  },
  {
   "cell_type": "code",
   "execution_count": null,
   "metadata": {
    "scrolled": false
   },
   "outputs": [],
   "source": [
    "#colnames( newGuinea_massSpec )"
   ]
  },
  {
   "cell_type": "markdown",
   "metadata": {},
   "source": [
    "Looks like the data **semi-normalized**. The mean is 0, but the SD is not 1"
   ]
  },
  {
   "cell_type": "code",
   "execution_count": null,
   "metadata": {},
   "outputs": [],
   "source": [
    "print(\"mean and sd for some row\")\n",
    "print( mean( newGuinea_massSpec[,9] ) )\n",
    "print( sd( newGuinea_massSpec[,9] ) )\n",
    "\n",
    "print(\"mean and sd for some other row\")\n",
    "print( mean( newGuinea_massSpec[,15] ) )\n",
    "print( sd( newGuinea_massSpec[,15] ) )"
   ]
  },
  {
   "cell_type": "code",
   "execution_count": null,
   "metadata": {
    "scrolled": false
   },
   "outputs": [],
   "source": [
    "#summary(newGuinea_massSpec)"
   ]
  },
  {
   "cell_type": "markdown",
   "metadata": {},
   "source": [
    "## Checking Vaccinations <font color=\"green\">Exciting :)</font>"
   ]
  },
  {
   "cell_type": "markdown",
   "metadata": {},
   "source": [
    "Lets see how many people are <font color=\"blue\">Vaccinated</font>"
   ]
  },
  {
   "cell_type": "code",
   "execution_count": null,
   "metadata": {},
   "outputs": [],
   "source": [
    "newGuinea_massSpec$TREATMENT"
   ]
  },
  {
   "cell_type": "markdown",
   "metadata": {},
   "source": [
    "Below we see that about half of the group had delayed vaccinations"
   ]
  },
  {
   "cell_type": "code",
   "execution_count": null,
   "metadata": {},
   "outputs": [],
   "source": [
    "sum( newGuinea_massSpec$TREATMENT == 'VaccinatedGroup' ) / length(newGuinea_massSpec$TREATMENT)"
   ]
  },
  {
   "cell_type": "code",
   "execution_count": null,
   "metadata": {
    "scrolled": true
   },
   "outputs": [],
   "source": [
    "newGuinea_massSpec[1:10, 7:17]"
   ]
  },
  {
   "cell_type": "markdown",
   "metadata": {},
   "source": [
    "# <font color=\"orange\">Test: Plot data for 1 Column</font>"
   ]
  },
  {
   "cell_type": "markdown",
   "metadata": {},
   "source": [
    "<font color=\"red\">Note: Currently I don't know how to handle the column names</font>"
   ]
  },
  {
   "cell_type": "markdown",
   "metadata": {},
   "source": [
    "As a first test we'll try to print the data for one column. pre-specified column"
   ]
  },
  {
   "cell_type": "code",
   "execution_count": null,
   "metadata": {},
   "outputs": [],
   "source": [
    "num =  12"
   ]
  },
  {
   "cell_type": "code",
   "execution_count": null,
   "metadata": {},
   "outputs": [],
   "source": [
    "to_graph= data.frame( vals= newGuinea_massSpec[,num] , groups= as.factor( newGuinea_massSpec$DAY )  ) \n",
    "days = newGuinea_massSpec$DAY + rnorm( dim(newGuinea_massSpec)[1] , mean = 0, sd = .15 ) \n",
    "to_graph$days = days"
   ]
  },
  {
   "cell_type": "code",
   "execution_count": null,
   "metadata": {},
   "outputs": [],
   "source": [
    "p = ggplot( to_graph, aes(x=days, y=vals, color=groups) ) + \n",
    "  geom_point() +\n",
    "  labs(x='Days Alive', y=\"Gene Expression (counts)\", title=paste(gene_name,\" Expression in Newborns\"), fill = NULL, colour = NULL ) +\n",
    "  theme_gdocs()    "
   ]
  },
  {
   "cell_type": "code",
   "execution_count": null,
   "metadata": {},
   "outputs": [],
   "source": [
    "print(p)"
   ]
  },
  {
   "cell_type": "code",
   "execution_count": null,
   "metadata": {},
   "outputs": [],
   "source": []
  },
  {
   "cell_type": "code",
   "execution_count": null,
   "metadata": {},
   "outputs": [],
   "source": []
  },
  {
   "cell_type": "markdown",
   "metadata": {},
   "source": [
    "## <font color=\"gray\">Gambia RNA example code</font>"
   ]
  },
  {
   "cell_type": "markdown",
   "metadata": {},
   "source": [
    "```python\n",
    "        num = which(gambia_rna$hgnc==analyte() )\n",
    "        gene_name = gambia_rna[num,2]\n",
    "        a_row = gambia_rna[num,3:dim(gambia_rna)[2]]\n",
    "        \n",
    "        # Put data in data frame\n",
    "        cols = list()\n",
    "        to_graph= data.frame( counts = as.numeric(a_row) )\n",
    "        \n",
    "        # groups data by age \n",
    "        groups = c()\n",
    "        for( i in names(a_row) ){\n",
    "          groups= c( groups, substr(i, start=nchar(i)-1, stop=nchar(i) )) \n",
    "        }\n",
    "        to_graph$groups = as.factor( groups )\n",
    "        \n",
    "        # create X variable for scatter\n",
    "        `%+=%` = function(e1,e2) eval.parent(substitute(e1 <- e1 + e2))\n",
    "        to_graph$X = rnorm( length(a_row) , mean = 0, sd = .15 )\n",
    "        to_graph$X[ grep(\"*D0\", names(a_row))  ] %+=% 0\n",
    "        to_graph$X[ grep(\"*D1\", names(a_row))  ] %+=% 1\n",
    "        to_graph$X[ grep(\"*D3\", names(a_row))  ] %+=% 3\n",
    "        to_graph$X[ grep(\"*D7\", names(a_row))  ] %+=% 7\n",
    "        \n",
    "        p = ggplot( to_graph, aes(x=X, y=counts, color=groups) ) + \n",
    "          geom_point() +\n",
    "          labs(x='Days Alive', y=\"Gene Expression (counts)\", title=paste(gene_name,\" Expression in Newborns\"), fill = NULL, colour = NULL ) +\n",
    "          theme_gdocs()    \n",
    "```"
   ]
  },
  {
   "cell_type": "code",
   "execution_count": null,
   "metadata": {},
   "outputs": [],
   "source": []
  },
  {
   "cell_type": "code",
   "execution_count": null,
   "metadata": {},
   "outputs": [],
   "source": []
  },
  {
   "cell_type": "code",
   "execution_count": null,
   "metadata": {},
   "outputs": [],
   "source": []
  },
  {
   "cell_type": "code",
   "execution_count": null,
   "metadata": {},
   "outputs": [],
   "source": []
  },
  {
   "cell_type": "markdown",
   "metadata": {},
   "source": [
    "# <font color=\"brown\">Scratch Paper</font>"
   ]
  },
  {
   "cell_type": "code",
   "execution_count": null,
   "metadata": {},
   "outputs": [],
   "source": []
  },
  {
   "cell_type": "code",
   "execution_count": null,
   "metadata": {},
   "outputs": [],
   "source": []
  },
  {
   "cell_type": "code",
   "execution_count": null,
   "metadata": {},
   "outputs": [],
   "source": []
  },
  {
   "cell_type": "code",
   "execution_count": null,
   "metadata": {},
   "outputs": [],
   "source": []
  },
  {
   "cell_type": "code",
   "execution_count": null,
   "metadata": {},
   "outputs": [],
   "source": []
  }
 ],
 "metadata": {
  "hide_input": false,
  "kernelspec": {
   "display_name": "R (Juniper)",
   "language": "R",
   "name": "juniper"
  },
  "language_info": {
   "codemirror_mode": "r",
   "file_extension": ".R",
   "mimetype": "text/x-r-source",
   "name": "R",
   "pygments_lexer": "r",
   "version": "3.5.1"
  },
  "toc": {
   "base_numbering": 1,
   "nav_menu": {},
   "number_sections": true,
   "sideBar": true,
   "skip_h1_title": false,
   "title_cell": "Table of Contents",
   "title_sidebar": "Contents",
   "toc_cell": false,
   "toc_position": {},
   "toc_section_display": true,
   "toc_window_display": false
  },
  "varInspector": {
   "cols": {
    "lenName": 16,
    "lenType": 16,
    "lenVar": 40
   },
   "kernels_config": {
    "python": {
     "delete_cmd_postfix": "",
     "delete_cmd_prefix": "del ",
     "library": "var_list.py",
     "varRefreshCmd": "print(var_dic_list())"
    },
    "r": {
     "delete_cmd_postfix": ") ",
     "delete_cmd_prefix": "rm(",
     "library": "var_list.r",
     "varRefreshCmd": "cat(var_dic_list()) "
    }
   },
   "types_to_exclude": [
    "module",
    "function",
    "builtin_function_or_method",
    "instance",
    "_Feature"
   ],
   "window_display": false
  },
  "widgets": {
   "application/vnd.jupyter.widget-state+json": {
    "state": {},
    "version_major": 2,
    "version_minor": 0
   }
  }
 },
 "nbformat": 4,
 "nbformat_minor": 2
}
